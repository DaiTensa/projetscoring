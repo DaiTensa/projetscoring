{
 "cells": [
  {
   "cell_type": "markdown",
   "metadata": {},
   "source": [
    "# Imports"
   ]
  },
  {
   "cell_type": "code",
   "execution_count": 3,
   "metadata": {},
   "outputs": [],
   "source": [
    "import warnings\n",
    "warnings.filterwarnings(\"ignore\", category=DeprecationWarning)"
   ]
  },
  {
   "cell_type": "code",
   "execution_count": 4,
   "metadata": {},
   "outputs": [],
   "source": [
    "import pandas as pd\n",
    "import numpy as np\n",
    "import seaborn as sns\n",
    "import matplotlib.pyplot as plt\n",
    "import sys\n",
    "from src.utilis import load_object\n",
    "import shap\n",
    "import importlib"
   ]
  },
  {
   "cell_type": "markdown",
   "metadata": {},
   "source": [
    "# Data"
   ]
  },
  {
   "cell_type": "code",
   "execution_count": 5,
   "metadata": {},
   "outputs": [],
   "source": [
    "sys.path.append(r'C:\\Users\\Lenovo\\Documents\\DSPython\\projetscoring')"
   ]
  },
  {
   "cell_type": "code",
   "execution_count": 6,
   "metadata": {},
   "outputs": [],
   "source": [
    "# Data Ingestion : import des data et autres fonctionnalité\n",
    "from src.components.data_ingestion import *"
   ]
  },
  {
   "cell_type": "code",
   "execution_count": 7,
   "metadata": {},
   "outputs": [],
   "source": [
    "# 01 - Data Base : \n",
    "# Le chemin pour accéder à la base des données se trouve dans les configurations : data_config.py\n",
    "data_base = DataIngestion()"
   ]
  },
  {
   "cell_type": "code",
   "execution_count": 15,
   "metadata": {},
   "outputs": [],
   "source": [
    "df = pd.read_csv('C:/Users/Lenovo/Documents/DSPython/data_projet_7/Final_test_df.csv')"
   ]
  },
  {
   "cell_type": "code",
   "execution_count": 74,
   "metadata": {},
   "outputs": [],
   "source": [
    "# Data Transformation : Transformation des data\n",
    "from src.components.data_transformation import DataTransformation"
   ]
  },
  {
   "cell_type": "code",
   "execution_count": 81,
   "metadata": {},
   "outputs": [],
   "source": [
    "importlib.reload(sys.modules['src.components.data_transformation'])\n",
    "from src.components.data_transformation import DataTransformation"
   ]
  },
  {
   "cell_type": "code",
   "execution_count": 273,
   "metadata": {},
   "outputs": [
    {
     "ename": "MemoryError",
     "evalue": "Unable to allocate 1000. MiB for an array with shape (609, 215254) and data type float64",
     "output_type": "error",
     "traceback": [
      "\u001b[1;31m---------------------------------------------------------------------------\u001b[0m",
      "\u001b[1;31mMemoryError\u001b[0m                               Traceback (most recent call last)",
      "Cell \u001b[1;32mIn[273], line 3\u001b[0m\n\u001b[0;32m      1\u001b[0m \u001b[38;5;66;03m# Data Importer X_train X_tes : sans transformation\u001b[39;00m\n\u001b[0;32m      2\u001b[0m transformer_row_data\u001b[38;5;241m=\u001b[39m DataTransformation()\n\u001b[1;32m----> 3\u001b[0m X_train,X_test, y_train, y_test \u001b[38;5;241m=\u001b[39m \u001b[43mtransformer_row_data\u001b[49m\u001b[38;5;241;43m.\u001b[39;49m\u001b[43mget_data_frames\u001b[49m\u001b[43m(\u001b[49m\u001b[43m)\u001b[49m\n",
      "File \u001b[1;32mc:\\users\\lenovo\\documents\\dspython\\projetscoring\\src\\components\\data_transformation.py:90\u001b[0m, in \u001b[0;36mDataTransformation.get_data_frames\u001b[1;34m(self)\u001b[0m\n\u001b[0;32m     88\u001b[0m \u001b[38;5;28;01mdef\u001b[39;00m \u001b[38;5;21mget_data_frames\u001b[39m(\u001b[38;5;28mself\u001b[39m):\n\u001b[0;32m     89\u001b[0m     logging\u001b[38;5;241m.\u001b[39minfo(\u001b[38;5;124m\"\u001b[39m\u001b[38;5;124mImportation des donnes de train et de test\u001b[39m\u001b[38;5;124m\"\u001b[39m)\n\u001b[1;32m---> 90\u001b[0m     X_train \u001b[38;5;241m=\u001b[39m \u001b[43mpd\u001b[49m\u001b[38;5;241;43m.\u001b[39;49m\u001b[43mread_csv\u001b[49m\u001b[43m(\u001b[49m\u001b[38;5;28;43mself\u001b[39;49m\u001b[38;5;241;43m.\u001b[39;49m\u001b[43mdata_transformation_config\u001b[49m\u001b[38;5;241;43m.\u001b[39;49m\u001b[43mX_train_path\u001b[49m\u001b[43m)\u001b[49m\n\u001b[0;32m     91\u001b[0m     X_test \u001b[38;5;241m=\u001b[39m pd\u001b[38;5;241m.\u001b[39mread_csv(\u001b[38;5;28mself\u001b[39m\u001b[38;5;241m.\u001b[39mdata_transformation_config\u001b[38;5;241m.\u001b[39mX_test_path)\n\u001b[0;32m     92\u001b[0m     y_train \u001b[38;5;241m=\u001b[39m pd\u001b[38;5;241m.\u001b[39mread_csv(\u001b[38;5;28mself\u001b[39m\u001b[38;5;241m.\u001b[39mdata_transformation_config\u001b[38;5;241m.\u001b[39my_train_path)\n",
      "File \u001b[1;32mc:\\Users\\Lenovo\\Documents\\DSPython\\projetscoring\\venv\\lib\\site-packages\\pandas\\util\\_decorators.py:211\u001b[0m, in \u001b[0;36mdeprecate_kwarg.<locals>._deprecate_kwarg.<locals>.wrapper\u001b[1;34m(*args, **kwargs)\u001b[0m\n\u001b[0;32m    209\u001b[0m     \u001b[38;5;28;01melse\u001b[39;00m:\n\u001b[0;32m    210\u001b[0m         kwargs[new_arg_name] \u001b[38;5;241m=\u001b[39m new_arg_value\n\u001b[1;32m--> 211\u001b[0m \u001b[38;5;28;01mreturn\u001b[39;00m func(\u001b[38;5;241m*\u001b[39margs, \u001b[38;5;241m*\u001b[39m\u001b[38;5;241m*\u001b[39mkwargs)\n",
      "File \u001b[1;32mc:\\Users\\Lenovo\\Documents\\DSPython\\projetscoring\\venv\\lib\\site-packages\\pandas\\util\\_decorators.py:331\u001b[0m, in \u001b[0;36mdeprecate_nonkeyword_arguments.<locals>.decorate.<locals>.wrapper\u001b[1;34m(*args, **kwargs)\u001b[0m\n\u001b[0;32m    325\u001b[0m \u001b[38;5;28;01mif\u001b[39;00m \u001b[38;5;28mlen\u001b[39m(args) \u001b[38;5;241m>\u001b[39m num_allow_args:\n\u001b[0;32m    326\u001b[0m     warnings\u001b[38;5;241m.\u001b[39mwarn(\n\u001b[0;32m    327\u001b[0m         msg\u001b[38;5;241m.\u001b[39mformat(arguments\u001b[38;5;241m=\u001b[39m_format_argument_list(allow_args)),\n\u001b[0;32m    328\u001b[0m         \u001b[38;5;167;01mFutureWarning\u001b[39;00m,\n\u001b[0;32m    329\u001b[0m         stacklevel\u001b[38;5;241m=\u001b[39mfind_stack_level(),\n\u001b[0;32m    330\u001b[0m     )\n\u001b[1;32m--> 331\u001b[0m \u001b[38;5;28;01mreturn\u001b[39;00m func(\u001b[38;5;241m*\u001b[39margs, \u001b[38;5;241m*\u001b[39m\u001b[38;5;241m*\u001b[39mkwargs)\n",
      "File \u001b[1;32mc:\\Users\\Lenovo\\Documents\\DSPython\\projetscoring\\venv\\lib\\site-packages\\pandas\\io\\parsers\\readers.py:950\u001b[0m, in \u001b[0;36mread_csv\u001b[1;34m(filepath_or_buffer, sep, delimiter, header, names, index_col, usecols, squeeze, prefix, mangle_dupe_cols, dtype, engine, converters, true_values, false_values, skipinitialspace, skiprows, skipfooter, nrows, na_values, keep_default_na, na_filter, verbose, skip_blank_lines, parse_dates, infer_datetime_format, keep_date_col, date_parser, dayfirst, cache_dates, iterator, chunksize, compression, thousands, decimal, lineterminator, quotechar, quoting, doublequote, escapechar, comment, encoding, encoding_errors, dialect, error_bad_lines, warn_bad_lines, on_bad_lines, delim_whitespace, low_memory, memory_map, float_precision, storage_options)\u001b[0m\n\u001b[0;32m    935\u001b[0m kwds_defaults \u001b[38;5;241m=\u001b[39m _refine_defaults_read(\n\u001b[0;32m    936\u001b[0m     dialect,\n\u001b[0;32m    937\u001b[0m     delimiter,\n\u001b[1;32m   (...)\u001b[0m\n\u001b[0;32m    946\u001b[0m     defaults\u001b[38;5;241m=\u001b[39m{\u001b[38;5;124m\"\u001b[39m\u001b[38;5;124mdelimiter\u001b[39m\u001b[38;5;124m\"\u001b[39m: \u001b[38;5;124m\"\u001b[39m\u001b[38;5;124m,\u001b[39m\u001b[38;5;124m\"\u001b[39m},\n\u001b[0;32m    947\u001b[0m )\n\u001b[0;32m    948\u001b[0m kwds\u001b[38;5;241m.\u001b[39mupdate(kwds_defaults)\n\u001b[1;32m--> 950\u001b[0m \u001b[38;5;28;01mreturn\u001b[39;00m \u001b[43m_read\u001b[49m\u001b[43m(\u001b[49m\u001b[43mfilepath_or_buffer\u001b[49m\u001b[43m,\u001b[49m\u001b[43m \u001b[49m\u001b[43mkwds\u001b[49m\u001b[43m)\u001b[49m\n",
      "File \u001b[1;32mc:\\Users\\Lenovo\\Documents\\DSPython\\projetscoring\\venv\\lib\\site-packages\\pandas\\io\\parsers\\readers.py:611\u001b[0m, in \u001b[0;36m_read\u001b[1;34m(filepath_or_buffer, kwds)\u001b[0m\n\u001b[0;32m    608\u001b[0m     \u001b[38;5;28;01mreturn\u001b[39;00m parser\n\u001b[0;32m    610\u001b[0m \u001b[38;5;28;01mwith\u001b[39;00m parser:\n\u001b[1;32m--> 611\u001b[0m     \u001b[38;5;28;01mreturn\u001b[39;00m \u001b[43mparser\u001b[49m\u001b[38;5;241;43m.\u001b[39;49m\u001b[43mread\u001b[49m\u001b[43m(\u001b[49m\u001b[43mnrows\u001b[49m\u001b[43m)\u001b[49m\n",
      "File \u001b[1;32mc:\\Users\\Lenovo\\Documents\\DSPython\\projetscoring\\venv\\lib\\site-packages\\pandas\\io\\parsers\\readers.py:1795\u001b[0m, in \u001b[0;36mTextFileReader.read\u001b[1;34m(self, nrows)\u001b[0m\n\u001b[0;32m   1792\u001b[0m     \u001b[38;5;28;01melse\u001b[39;00m:\n\u001b[0;32m   1793\u001b[0m         new_rows \u001b[38;5;241m=\u001b[39m \u001b[38;5;28mlen\u001b[39m(index)\n\u001b[1;32m-> 1795\u001b[0m     df \u001b[38;5;241m=\u001b[39m \u001b[43mDataFrame\u001b[49m\u001b[43m(\u001b[49m\u001b[43mcol_dict\u001b[49m\u001b[43m,\u001b[49m\u001b[43m \u001b[49m\u001b[43mcolumns\u001b[49m\u001b[38;5;241;43m=\u001b[39;49m\u001b[43mcolumns\u001b[49m\u001b[43m,\u001b[49m\u001b[43m \u001b[49m\u001b[43mindex\u001b[49m\u001b[38;5;241;43m=\u001b[39;49m\u001b[43mindex\u001b[49m\u001b[43m)\u001b[49m\n\u001b[0;32m   1797\u001b[0m     \u001b[38;5;28mself\u001b[39m\u001b[38;5;241m.\u001b[39m_currow \u001b[38;5;241m+\u001b[39m\u001b[38;5;241m=\u001b[39m new_rows\n\u001b[0;32m   1799\u001b[0m \u001b[38;5;28;01mif\u001b[39;00m \u001b[38;5;28mself\u001b[39m\u001b[38;5;241m.\u001b[39msqueeze \u001b[38;5;129;01mand\u001b[39;00m \u001b[38;5;28mlen\u001b[39m(df\u001b[38;5;241m.\u001b[39mcolumns) \u001b[38;5;241m==\u001b[39m \u001b[38;5;241m1\u001b[39m:\n",
      "File \u001b[1;32mc:\\Users\\Lenovo\\Documents\\DSPython\\projetscoring\\venv\\lib\\site-packages\\pandas\\core\\frame.py:664\u001b[0m, in \u001b[0;36mDataFrame.__init__\u001b[1;34m(self, data, index, columns, dtype, copy)\u001b[0m\n\u001b[0;32m    658\u001b[0m     mgr \u001b[38;5;241m=\u001b[39m \u001b[38;5;28mself\u001b[39m\u001b[38;5;241m.\u001b[39m_init_mgr(\n\u001b[0;32m    659\u001b[0m         data, axes\u001b[38;5;241m=\u001b[39m{\u001b[38;5;124m\"\u001b[39m\u001b[38;5;124mindex\u001b[39m\u001b[38;5;124m\"\u001b[39m: index, \u001b[38;5;124m\"\u001b[39m\u001b[38;5;124mcolumns\u001b[39m\u001b[38;5;124m\"\u001b[39m: columns}, dtype\u001b[38;5;241m=\u001b[39mdtype, copy\u001b[38;5;241m=\u001b[39mcopy\n\u001b[0;32m    660\u001b[0m     )\n\u001b[0;32m    662\u001b[0m \u001b[38;5;28;01melif\u001b[39;00m \u001b[38;5;28misinstance\u001b[39m(data, \u001b[38;5;28mdict\u001b[39m):\n\u001b[0;32m    663\u001b[0m     \u001b[38;5;66;03m# GH#38939 de facto copy defaults to False only in non-dict cases\u001b[39;00m\n\u001b[1;32m--> 664\u001b[0m     mgr \u001b[38;5;241m=\u001b[39m \u001b[43mdict_to_mgr\u001b[49m\u001b[43m(\u001b[49m\u001b[43mdata\u001b[49m\u001b[43m,\u001b[49m\u001b[43m \u001b[49m\u001b[43mindex\u001b[49m\u001b[43m,\u001b[49m\u001b[43m \u001b[49m\u001b[43mcolumns\u001b[49m\u001b[43m,\u001b[49m\u001b[43m \u001b[49m\u001b[43mdtype\u001b[49m\u001b[38;5;241;43m=\u001b[39;49m\u001b[43mdtype\u001b[49m\u001b[43m,\u001b[49m\u001b[43m \u001b[49m\u001b[43mcopy\u001b[49m\u001b[38;5;241;43m=\u001b[39;49m\u001b[43mcopy\u001b[49m\u001b[43m,\u001b[49m\u001b[43m \u001b[49m\u001b[43mtyp\u001b[49m\u001b[38;5;241;43m=\u001b[39;49m\u001b[43mmanager\u001b[49m\u001b[43m)\u001b[49m\n\u001b[0;32m    665\u001b[0m \u001b[38;5;28;01melif\u001b[39;00m \u001b[38;5;28misinstance\u001b[39m(data, ma\u001b[38;5;241m.\u001b[39mMaskedArray):\n\u001b[0;32m    666\u001b[0m     \u001b[38;5;28;01mimport\u001b[39;00m \u001b[38;5;21;01mnumpy\u001b[39;00m\u001b[38;5;21;01m.\u001b[39;00m\u001b[38;5;21;01mma\u001b[39;00m\u001b[38;5;21;01m.\u001b[39;00m\u001b[38;5;21;01mmrecords\u001b[39;00m \u001b[38;5;28;01mas\u001b[39;00m \u001b[38;5;21;01mmrecords\u001b[39;00m\n",
      "File \u001b[1;32mc:\\Users\\Lenovo\\Documents\\DSPython\\projetscoring\\venv\\lib\\site-packages\\pandas\\core\\internals\\construction.py:493\u001b[0m, in \u001b[0;36mdict_to_mgr\u001b[1;34m(data, index, columns, dtype, typ, copy)\u001b[0m\n\u001b[0;32m    489\u001b[0m     \u001b[38;5;28;01melse\u001b[39;00m:\n\u001b[0;32m    490\u001b[0m         \u001b[38;5;66;03m# dtype check to exclude e.g. range objects, scalars\u001b[39;00m\n\u001b[0;32m    491\u001b[0m         arrays \u001b[38;5;241m=\u001b[39m [x\u001b[38;5;241m.\u001b[39mcopy() \u001b[38;5;28;01mif\u001b[39;00m \u001b[38;5;28mhasattr\u001b[39m(x, \u001b[38;5;124m\"\u001b[39m\u001b[38;5;124mdtype\u001b[39m\u001b[38;5;124m\"\u001b[39m) \u001b[38;5;28;01melse\u001b[39;00m x \u001b[38;5;28;01mfor\u001b[39;00m x \u001b[38;5;129;01min\u001b[39;00m arrays]\n\u001b[1;32m--> 493\u001b[0m \u001b[38;5;28;01mreturn\u001b[39;00m \u001b[43marrays_to_mgr\u001b[49m\u001b[43m(\u001b[49m\u001b[43marrays\u001b[49m\u001b[43m,\u001b[49m\u001b[43m \u001b[49m\u001b[43mcolumns\u001b[49m\u001b[43m,\u001b[49m\u001b[43m \u001b[49m\u001b[43mindex\u001b[49m\u001b[43m,\u001b[49m\u001b[43m \u001b[49m\u001b[43mdtype\u001b[49m\u001b[38;5;241;43m=\u001b[39;49m\u001b[43mdtype\u001b[49m\u001b[43m,\u001b[49m\u001b[43m \u001b[49m\u001b[43mtyp\u001b[49m\u001b[38;5;241;43m=\u001b[39;49m\u001b[43mtyp\u001b[49m\u001b[43m,\u001b[49m\u001b[43m \u001b[49m\u001b[43mconsolidate\u001b[49m\u001b[38;5;241;43m=\u001b[39;49m\u001b[43mcopy\u001b[49m\u001b[43m)\u001b[49m\n",
      "File \u001b[1;32mc:\\Users\\Lenovo\\Documents\\DSPython\\projetscoring\\venv\\lib\\site-packages\\pandas\\core\\internals\\construction.py:154\u001b[0m, in \u001b[0;36marrays_to_mgr\u001b[1;34m(arrays, columns, index, dtype, verify_integrity, typ, consolidate)\u001b[0m\n\u001b[0;32m    151\u001b[0m axes \u001b[38;5;241m=\u001b[39m [columns, index]\n\u001b[0;32m    153\u001b[0m \u001b[38;5;28;01mif\u001b[39;00m typ \u001b[38;5;241m==\u001b[39m \u001b[38;5;124m\"\u001b[39m\u001b[38;5;124mblock\u001b[39m\u001b[38;5;124m\"\u001b[39m:\n\u001b[1;32m--> 154\u001b[0m     \u001b[38;5;28;01mreturn\u001b[39;00m \u001b[43mcreate_block_manager_from_column_arrays\u001b[49m\u001b[43m(\u001b[49m\n\u001b[0;32m    155\u001b[0m \u001b[43m        \u001b[49m\u001b[43marrays\u001b[49m\u001b[43m,\u001b[49m\u001b[43m \u001b[49m\u001b[43maxes\u001b[49m\u001b[43m,\u001b[49m\u001b[43m \u001b[49m\u001b[43mconsolidate\u001b[49m\u001b[38;5;241;43m=\u001b[39;49m\u001b[43mconsolidate\u001b[49m\n\u001b[0;32m    156\u001b[0m \u001b[43m    \u001b[49m\u001b[43m)\u001b[49m\n\u001b[0;32m    157\u001b[0m \u001b[38;5;28;01melif\u001b[39;00m typ \u001b[38;5;241m==\u001b[39m \u001b[38;5;124m\"\u001b[39m\u001b[38;5;124marray\u001b[39m\u001b[38;5;124m\"\u001b[39m:\n\u001b[0;32m    158\u001b[0m     \u001b[38;5;28;01mreturn\u001b[39;00m ArrayManager(arrays, [index, columns])\n",
      "File \u001b[1;32mc:\\Users\\Lenovo\\Documents\\DSPython\\projetscoring\\venv\\lib\\site-packages\\pandas\\core\\internals\\managers.py:2204\u001b[0m, in \u001b[0;36mcreate_block_manager_from_column_arrays\u001b[1;34m(arrays, axes, consolidate)\u001b[0m\n\u001b[0;32m   2202\u001b[0m     \u001b[38;5;28;01mraise\u001b[39;00m construction_error(\u001b[38;5;28mlen\u001b[39m(arrays), arrays[\u001b[38;5;241m0\u001b[39m]\u001b[38;5;241m.\u001b[39mshape, axes, e)\n\u001b[0;32m   2203\u001b[0m \u001b[38;5;28;01mif\u001b[39;00m consolidate:\n\u001b[1;32m-> 2204\u001b[0m     \u001b[43mmgr\u001b[49m\u001b[38;5;241;43m.\u001b[39;49m\u001b[43m_consolidate_inplace\u001b[49m\u001b[43m(\u001b[49m\u001b[43m)\u001b[49m\n\u001b[0;32m   2205\u001b[0m \u001b[38;5;28;01mreturn\u001b[39;00m mgr\n",
      "File \u001b[1;32mc:\\Users\\Lenovo\\Documents\\DSPython\\projetscoring\\venv\\lib\\site-packages\\pandas\\core\\internals\\managers.py:1871\u001b[0m, in \u001b[0;36mBlockManager._consolidate_inplace\u001b[1;34m(self)\u001b[0m\n\u001b[0;32m   1869\u001b[0m \u001b[38;5;28;01mif\u001b[39;00m \u001b[38;5;129;01mnot\u001b[39;00m \u001b[38;5;28mself\u001b[39m\u001b[38;5;241m.\u001b[39mis_consolidated():\n\u001b[0;32m   1870\u001b[0m     \u001b[38;5;28;01mif\u001b[39;00m \u001b[38;5;28mself\u001b[39m\u001b[38;5;241m.\u001b[39mrefs \u001b[38;5;129;01mis\u001b[39;00m \u001b[38;5;28;01mNone\u001b[39;00m:\n\u001b[1;32m-> 1871\u001b[0m         \u001b[38;5;28mself\u001b[39m\u001b[38;5;241m.\u001b[39mblocks \u001b[38;5;241m=\u001b[39m \u001b[43m_consolidate\u001b[49m\u001b[43m(\u001b[49m\u001b[38;5;28;43mself\u001b[39;49m\u001b[38;5;241;43m.\u001b[39;49m\u001b[43mblocks\u001b[49m\u001b[43m)\u001b[49m\n\u001b[0;32m   1872\u001b[0m     \u001b[38;5;28;01melse\u001b[39;00m:\n\u001b[0;32m   1873\u001b[0m         \u001b[38;5;28mself\u001b[39m\u001b[38;5;241m.\u001b[39mblocks, \u001b[38;5;28mself\u001b[39m\u001b[38;5;241m.\u001b[39mrefs \u001b[38;5;241m=\u001b[39m _consolidate_with_refs(\u001b[38;5;28mself\u001b[39m\u001b[38;5;241m.\u001b[39mblocks, \u001b[38;5;28mself\u001b[39m\u001b[38;5;241m.\u001b[39mrefs)\n",
      "File \u001b[1;32mc:\\Users\\Lenovo\\Documents\\DSPython\\projetscoring\\venv\\lib\\site-packages\\pandas\\core\\internals\\managers.py:2329\u001b[0m, in \u001b[0;36m_consolidate\u001b[1;34m(blocks)\u001b[0m\n\u001b[0;32m   2327\u001b[0m new_blocks: \u001b[38;5;28mlist\u001b[39m[Block] \u001b[38;5;241m=\u001b[39m []\n\u001b[0;32m   2328\u001b[0m \u001b[38;5;28;01mfor\u001b[39;00m (_can_consolidate, dtype), group_blocks \u001b[38;5;129;01min\u001b[39;00m grouper:\n\u001b[1;32m-> 2329\u001b[0m     merged_blocks, _ \u001b[38;5;241m=\u001b[39m \u001b[43m_merge_blocks\u001b[49m\u001b[43m(\u001b[49m\n\u001b[0;32m   2330\u001b[0m \u001b[43m        \u001b[49m\u001b[38;5;28;43mlist\u001b[39;49m\u001b[43m(\u001b[49m\u001b[43mgroup_blocks\u001b[49m\u001b[43m)\u001b[49m\u001b[43m,\u001b[49m\u001b[43m \u001b[49m\u001b[43mdtype\u001b[49m\u001b[38;5;241;43m=\u001b[39;49m\u001b[43mdtype\u001b[49m\u001b[43m,\u001b[49m\u001b[43m \u001b[49m\u001b[43mcan_consolidate\u001b[49m\u001b[38;5;241;43m=\u001b[39;49m\u001b[43m_can_consolidate\u001b[49m\n\u001b[0;32m   2331\u001b[0m \u001b[43m    \u001b[49m\u001b[43m)\u001b[49m\n\u001b[0;32m   2332\u001b[0m     new_blocks \u001b[38;5;241m=\u001b[39m extend_blocks(merged_blocks, new_blocks)\n\u001b[0;32m   2333\u001b[0m \u001b[38;5;28;01mreturn\u001b[39;00m \u001b[38;5;28mtuple\u001b[39m(new_blocks)\n",
      "File \u001b[1;32mc:\\Users\\Lenovo\\Documents\\DSPython\\projetscoring\\venv\\lib\\site-packages\\pandas\\core\\internals\\managers.py:2388\u001b[0m, in \u001b[0;36m_merge_blocks\u001b[1;34m(blocks, dtype, can_consolidate)\u001b[0m\n\u001b[0;32m   2385\u001b[0m     new_values \u001b[38;5;241m=\u001b[39m bvals2[\u001b[38;5;241m0\u001b[39m]\u001b[38;5;241m.\u001b[39m_concat_same_type(bvals2, axis\u001b[38;5;241m=\u001b[39m\u001b[38;5;241m0\u001b[39m)\n\u001b[0;32m   2387\u001b[0m argsort \u001b[38;5;241m=\u001b[39m np\u001b[38;5;241m.\u001b[39margsort(new_mgr_locs)\n\u001b[1;32m-> 2388\u001b[0m new_values \u001b[38;5;241m=\u001b[39m \u001b[43mnew_values\u001b[49m\u001b[43m[\u001b[49m\u001b[43margsort\u001b[49m\u001b[43m]\u001b[49m\n\u001b[0;32m   2389\u001b[0m new_mgr_locs \u001b[38;5;241m=\u001b[39m new_mgr_locs[argsort]\n\u001b[0;32m   2391\u001b[0m bp \u001b[38;5;241m=\u001b[39m BlockPlacement(new_mgr_locs)\n",
      "\u001b[1;31mMemoryError\u001b[0m: Unable to allocate 1000. MiB for an array with shape (609, 215254) and data type float64"
     ]
    }
   ],
   "source": [
    "# Data Importer X_train X_tes : sans transformation\n",
    "transformer_row_data= DataTransformation()\n",
    "X_train,X_test, y_train, y_test = transformer_row_data.get_data_frames()"
   ]
  },
  {
   "cell_type": "code",
   "execution_count": 77,
   "metadata": {},
   "outputs": [
    {
     "name": "stdout",
     "output_type": "stream",
     "text": [
      "X_train : (215254, 795)\n",
      "X_test : (92253, 795)\n",
      "y_train : (215254, 1)\n",
      "y_test : (92253, 1)\n"
     ]
    }
   ],
   "source": [
    "print('X_train :', X_train.shape)\n",
    "print('X_test :', X_test.shape)\n",
    "print('y_train :', y_train.shape)\n",
    "print('y_test :', y_test.shape)"
   ]
  },
  {
   "cell_type": "code",
   "execution_count": null,
   "metadata": {},
   "outputs": [],
   "source": [
    "X_train.head(3)"
   ]
  },
  {
   "cell_type": "code",
   "execution_count": 79,
   "metadata": {},
   "outputs": [
    {
     "data": {
      "text/html": [
       "<div>\n",
       "<style scoped>\n",
       "    .dataframe tbody tr th:only-of-type {\n",
       "        vertical-align: middle;\n",
       "    }\n",
       "\n",
       "    .dataframe tbody tr th {\n",
       "        vertical-align: top;\n",
       "    }\n",
       "\n",
       "    .dataframe thead th {\n",
       "        text-align: right;\n",
       "    }\n",
       "</style>\n",
       "<table border=\"1\" class=\"dataframe\">\n",
       "  <thead>\n",
       "    <tr style=\"text-align: right;\">\n",
       "      <th></th>\n",
       "      <th>TARGET</th>\n",
       "    </tr>\n",
       "  </thead>\n",
       "  <tbody>\n",
       "    <tr>\n",
       "      <th>0</th>\n",
       "      <td>0</td>\n",
       "    </tr>\n",
       "    <tr>\n",
       "      <th>1</th>\n",
       "      <td>1</td>\n",
       "    </tr>\n",
       "    <tr>\n",
       "      <th>2</th>\n",
       "      <td>1</td>\n",
       "    </tr>\n",
       "  </tbody>\n",
       "</table>\n",
       "</div>"
      ],
      "text/plain": [
       "   TARGET\n",
       "0       0\n",
       "1       1\n",
       "2       1"
      ]
     },
     "execution_count": 79,
     "metadata": {},
     "output_type": "execute_result"
    }
   ],
   "source": [
    "y_train.head(3)"
   ]
  },
  {
   "cell_type": "markdown",
   "metadata": {},
   "source": [
    "# data trasnformation"
   ]
  },
  {
   "cell_type": "code",
   "execution_count": 83,
   "metadata": {},
   "outputs": [
    {
     "name": "stdout",
     "output_type": "stream",
     "text": [
      "TARGET distribution avant Undersampling\n",
      "TARGET\n",
      "0         197877\n",
      "1          17377\n",
      "dtype: int64\n",
      "\n",
      "TARGET distribution après Undersampling\n",
      "TARGET\n",
      "0         57923\n",
      "1         17377\n",
      "dtype: int64\n",
      "\n",
      "Les étapes de transformation :\n",
      "ColumnTransformer(transformers=[('num_pipeline',\n",
      "                                 Pipeline(steps=[('imputer', SimpleImputer()),\n",
      "                                                 ('scaled', StandardScaler())]),\n",
      "                                 ['CODE_GENDER', 'FLAG_OWN_CAR',\n",
      "                                  'FLAG_OWN_REALTY', 'CNT_CHILDREN',\n",
      "                                  'AMT_INCOME_TOTAL', 'AMT_CREDIT',\n",
      "                                  'AMT_ANNUITY', 'AMT_GOODS_PRICE',\n",
      "                                  'REGION_POPULATION_RELATIVE', 'DAYS_BIRTH',\n",
      "                                  'DAYS_EMPLOYED', 'DAYS_REGISTRATION',\n",
      "                                  'DAYS_ID_PUBLISH', 'OWN_...\n",
      "                                  'REG_REGION_NOT_WORK_REGION',\n",
      "                                  'LIVE_REGION_NOT_WORK_REGION',\n",
      "                                  'REG_CITY_NOT_LIVE_CITY',\n",
      "                                  'REG_CITY_NOT_WORK_CITY',\n",
      "                                  'LIVE_CITY_NOT_WORK_CITY', ...]),\n",
      "                                ('cat_pipeline',\n",
      "                                 Pipeline(steps=[('imputer',\n",
      "                                                  SimpleImputer(fill_value='missing',\n",
      "                                                                strategy='constant')),\n",
      "                                                 ('one_hot_encoder',\n",
      "                                                  OneHotEncoder(handle_unknown='ignore')),\n",
      "                                                 ('sclaer',\n",
      "                                                  StandardScaler(with_mean=False))]),\n",
      "                                 [])])\n"
     ]
    },
    {
     "name": "stderr",
     "output_type": "stream",
     "text": [
      "Function get_feature_names is deprecated; get_feature_names is deprecated in 1.0 and will be removed in 1.2. Please use get_feature_names_out instead.\n",
      "Function get_feature_names is deprecated; get_feature_names is deprecated in 1.0 and will be removed in 1.2. Please use get_feature_names_out instead.\n"
     ]
    }
   ],
   "source": [
    "X_train, X_test, y_train,y_test = transformer_row_data.initiate_data_transformation(X_train, \n",
    "                                                                                    X_test,\n",
    "                                                                                    y_train,\n",
    "                                                                                    y_test, \n",
    "                                                                                    undersampling= True, \n",
    "                                                                                    return_train_test_array=False, \n",
    "                                                                                    save_preprocessor=False)"
   ]
  },
  {
   "cell_type": "markdown",
   "metadata": {},
   "source": [
    "# Modèle et preprocessor"
   ]
  },
  {
   "cell_type": "code",
   "execution_count": 23,
   "metadata": {},
   "outputs": [],
   "source": [
    "MODEL_PATH = \"C:/Users/Lenovo/Documents/DSPython/projetscoring/notebook/artifacts/best_model_pretrained.pkl\"\n",
    "PREPROCESSOR_PATH = \"C:/Users/Lenovo/Documents/DSPython/projetscoring/notebook/artifacts/preprocessor_best_model.pkl\"\n",
    "model = load_object(MODEL_PATH)\n",
    "preprocessor = load_object(PREPROCESSOR_PATH)"
   ]
  },
  {
   "cell_type": "code",
   "execution_count": 85,
   "metadata": {},
   "outputs": [
    {
     "data": {
      "text/html": [
       "<style>#sk-container-id-1 {color: black;background-color: white;}#sk-container-id-1 pre{padding: 0;}#sk-container-id-1 div.sk-toggleable {background-color: white;}#sk-container-id-1 label.sk-toggleable__label {cursor: pointer;display: block;width: 100%;margin-bottom: 0;padding: 0.3em;box-sizing: border-box;text-align: center;}#sk-container-id-1 label.sk-toggleable__label-arrow:before {content: \"▸\";float: left;margin-right: 0.25em;color: #696969;}#sk-container-id-1 label.sk-toggleable__label-arrow:hover:before {color: black;}#sk-container-id-1 div.sk-estimator:hover label.sk-toggleable__label-arrow:before {color: black;}#sk-container-id-1 div.sk-toggleable__content {max-height: 0;max-width: 0;overflow: hidden;text-align: left;background-color: #f0f8ff;}#sk-container-id-1 div.sk-toggleable__content pre {margin: 0.2em;color: black;border-radius: 0.25em;background-color: #f0f8ff;}#sk-container-id-1 input.sk-toggleable__control:checked~div.sk-toggleable__content {max-height: 200px;max-width: 100%;overflow: auto;}#sk-container-id-1 input.sk-toggleable__control:checked~label.sk-toggleable__label-arrow:before {content: \"▾\";}#sk-container-id-1 div.sk-estimator input.sk-toggleable__control:checked~label.sk-toggleable__label {background-color: #d4ebff;}#sk-container-id-1 div.sk-label input.sk-toggleable__control:checked~label.sk-toggleable__label {background-color: #d4ebff;}#sk-container-id-1 input.sk-hidden--visually {border: 0;clip: rect(1px 1px 1px 1px);clip: rect(1px, 1px, 1px, 1px);height: 1px;margin: -1px;overflow: hidden;padding: 0;position: absolute;width: 1px;}#sk-container-id-1 div.sk-estimator {font-family: monospace;background-color: #f0f8ff;border: 1px dotted black;border-radius: 0.25em;box-sizing: border-box;margin-bottom: 0.5em;}#sk-container-id-1 div.sk-estimator:hover {background-color: #d4ebff;}#sk-container-id-1 div.sk-parallel-item::after {content: \"\";width: 100%;border-bottom: 1px solid gray;flex-grow: 1;}#sk-container-id-1 div.sk-label:hover label.sk-toggleable__label {background-color: #d4ebff;}#sk-container-id-1 div.sk-serial::before {content: \"\";position: absolute;border-left: 1px solid gray;box-sizing: border-box;top: 0;bottom: 0;left: 50%;z-index: 0;}#sk-container-id-1 div.sk-serial {display: flex;flex-direction: column;align-items: center;background-color: white;padding-right: 0.2em;padding-left: 0.2em;position: relative;}#sk-container-id-1 div.sk-item {position: relative;z-index: 1;}#sk-container-id-1 div.sk-parallel {display: flex;align-items: stretch;justify-content: center;background-color: white;position: relative;}#sk-container-id-1 div.sk-item::before, #sk-container-id-1 div.sk-parallel-item::before {content: \"\";position: absolute;border-left: 1px solid gray;box-sizing: border-box;top: 0;bottom: 0;left: 50%;z-index: -1;}#sk-container-id-1 div.sk-parallel-item {display: flex;flex-direction: column;z-index: 1;position: relative;background-color: white;}#sk-container-id-1 div.sk-parallel-item:first-child::after {align-self: flex-end;width: 50%;}#sk-container-id-1 div.sk-parallel-item:last-child::after {align-self: flex-start;width: 50%;}#sk-container-id-1 div.sk-parallel-item:only-child::after {width: 0;}#sk-container-id-1 div.sk-dashed-wrapped {border: 1px dashed gray;margin: 0 0.4em 0.5em 0.4em;box-sizing: border-box;padding-bottom: 0.4em;background-color: white;}#sk-container-id-1 div.sk-label label {font-family: monospace;font-weight: bold;display: inline-block;line-height: 1.2em;}#sk-container-id-1 div.sk-label-container {text-align: center;}#sk-container-id-1 div.sk-container {/* jupyter's `normalize.less` sets `[hidden] { display: none; }` but bootstrap.min.css set `[hidden] { display: none !important; }` so we also need the `!important` here to be able to override the default hidden behavior on the sphinx rendered scikit-learn.org. See: https://github.com/scikit-learn/scikit-learn/issues/21755 */display: inline-block !important;position: relative;}#sk-container-id-1 div.sk-text-repr-fallback {display: none;}</style><div id=\"sk-container-id-1\" class=\"sk-top-container\"><div class=\"sk-text-repr-fallback\"><pre>LogisticRegression(C=0.001, penalty=&#x27;l1&#x27;, solver=&#x27;liblinear&#x27;)</pre><b>In a Jupyter environment, please rerun this cell to show the HTML representation or trust the notebook. <br />On GitHub, the HTML representation is unable to render, please try loading this page with nbviewer.org.</b></div><div class=\"sk-container\" hidden><div class=\"sk-item\"><div class=\"sk-estimator sk-toggleable\"><input class=\"sk-toggleable__control sk-hidden--visually\" id=\"sk-estimator-id-1\" type=\"checkbox\" checked><label for=\"sk-estimator-id-1\" class=\"sk-toggleable__label sk-toggleable__label-arrow\">LogisticRegression</label><div class=\"sk-toggleable__content\"><pre>LogisticRegression(C=0.001, penalty=&#x27;l1&#x27;, solver=&#x27;liblinear&#x27;)</pre></div></div></div></div></div>"
      ],
      "text/plain": [
       "LogisticRegression(C=0.001, penalty='l1', solver='liblinear')"
      ]
     },
     "execution_count": 85,
     "metadata": {},
     "output_type": "execute_result"
    }
   ],
   "source": [
    "model"
   ]
  },
  {
   "cell_type": "code",
   "execution_count": 33,
   "metadata": {},
   "outputs": [],
   "source": [
    "# preprocessor.get_feature_names_out ()"
   ]
  },
  {
   "cell_type": "code",
   "execution_count": 45,
   "metadata": {},
   "outputs": [],
   "source": [
    "# X_train = X_train.replace((np.inf, -np.inf), np.nan).reset_index(drop=True)\n",
    "# X_train_scaled = preprocessor.transform(X_train)\n",
    "# X_train = pd.DataFrame(X_train_scaled, columns= list(X_train.columns))\n",
    "# X_train\n",
    "\n",
    "# feature_names_X_train = preprocessor.get_feature_names_out()\n",
    "# X_train = pd.DataFrame(X_train_scaled, columns=feature_names_X_train)"
   ]
  },
  {
   "cell_type": "code",
   "execution_count": 46,
   "metadata": {},
   "outputs": [],
   "source": [
    "# X_test = X_test.replace((np.inf, -np.inf), np.nan).reset_index(drop=True)\n",
    "# X_train_scaled = preprocessor.transform(X_test)\n",
    "# X_test = pd.DataFrame(X_train_scaled, columns= list(X_test.columns))\n",
    "# X_test"
   ]
  },
  {
   "cell_type": "code",
   "execution_count": 238,
   "metadata": {},
   "outputs": [],
   "source": [
    "explainer = shap.LinearExplainer(model,  X_train)"
   ]
  },
  {
   "cell_type": "code",
   "execution_count": 239,
   "metadata": {},
   "outputs": [],
   "source": [
    "shap_values = explainer.shap_values(X_test)"
   ]
  },
  {
   "cell_type": "code",
   "execution_count": 241,
   "metadata": {},
   "outputs": [],
   "source": [
    "import pickle\n",
    "# Sauvegarde des shap values\n",
    "with open('Explainer_LogReg.pkl', 'wb') as fichier:\n",
    "    mon_pickler = pickle.Pickler(fichier)\n",
    "    mon_pickler.dump(explainer)"
   ]
  },
  {
   "cell_type": "code",
   "execution_count": 11,
   "metadata": {},
   "outputs": [],
   "source": [
    "import pickle\n",
    "# PImportation des shap values\n",
    "with open('Explainer_LogReg.pkl', 'rb') as fichier:\n",
    "    my_depickler = pickle.Unpickler(fichier)\n",
    "    explainer_LogReg = my_depickler.load()"
   ]
  },
  {
   "cell_type": "code",
   "execution_count": 12,
   "metadata": {},
   "outputs": [
    {
     "data": {
      "text/plain": [
       "<shap.explainers._linear.Linear at 0x1e084020b80>"
      ]
     },
     "execution_count": 12,
     "metadata": {},
     "output_type": "execute_result"
    }
   ],
   "source": [
    "explainer_LogReg"
   ]
  },
  {
   "cell_type": "code",
   "execution_count": 13,
   "metadata": {},
   "outputs": [
    {
     "ename": "NameError",
     "evalue": "name 'X_test' is not defined",
     "output_type": "error",
     "traceback": [
      "\u001b[1;31m---------------------------------------------------------------------------\u001b[0m",
      "\u001b[1;31mNameError\u001b[0m                                 Traceback (most recent call last)",
      "Cell \u001b[1;32mIn[13], line 1\u001b[0m\n\u001b[1;32m----> 1\u001b[0m \u001b[43mX_test\u001b[49m\u001b[38;5;241m.\u001b[39mloc[X_test[\u001b[38;5;124m\"\u001b[39m\u001b[38;5;124mREGION_POPULATION_RELATIVE\u001b[39m\u001b[38;5;124m\"\u001b[39m] \u001b[38;5;241m==\u001b[39m \u001b[38;5;241m0.15063\u001b[39m]\n",
      "\u001b[1;31mNameError\u001b[0m: name 'X_test' is not defined"
     ]
    }
   ],
   "source": [
    "X_test.loc[X_test[\"REGION_POPULATION_RELATIVE\"] == 0.15063]"
   ]
  },
  {
   "cell_type": "code",
   "execution_count": 39,
   "metadata": {},
   "outputs": [
    {
     "data": {
      "text/html": [
       "<div>\n",
       "<style scoped>\n",
       "    .dataframe tbody tr th:only-of-type {\n",
       "        vertical-align: middle;\n",
       "    }\n",
       "\n",
       "    .dataframe tbody tr th {\n",
       "        vertical-align: top;\n",
       "    }\n",
       "\n",
       "    .dataframe thead th {\n",
       "        text-align: right;\n",
       "    }\n",
       "</style>\n",
       "<table border=\"1\" class=\"dataframe\">\n",
       "  <thead>\n",
       "    <tr style=\"text-align: right;\">\n",
       "      <th></th>\n",
       "      <th>SK_ID_CURR</th>\n",
       "      <th>CODE_GENDER</th>\n",
       "      <th>FLAG_OWN_CAR</th>\n",
       "      <th>FLAG_OWN_REALTY</th>\n",
       "      <th>CNT_CHILDREN</th>\n",
       "      <th>AMT_INCOME_TOTAL</th>\n",
       "      <th>AMT_CREDIT</th>\n",
       "      <th>AMT_ANNUITY</th>\n",
       "      <th>AMT_GOODS_PRICE</th>\n",
       "      <th>REGION_POPULATION_RELATIVE</th>\n",
       "      <th>...</th>\n",
       "      <th>CC_NAME_CONTRACT_STATUS_Signed_MAX</th>\n",
       "      <th>CC_NAME_CONTRACT_STATUS_Signed_MEAN</th>\n",
       "      <th>CC_NAME_CONTRACT_STATUS_Signed_SUM</th>\n",
       "      <th>CC_NAME_CONTRACT_STATUS_Signed_VAR</th>\n",
       "      <th>CC_NAME_CONTRACT_STATUS_nan_MIN</th>\n",
       "      <th>CC_NAME_CONTRACT_STATUS_nan_MAX</th>\n",
       "      <th>CC_NAME_CONTRACT_STATUS_nan_MEAN</th>\n",
       "      <th>CC_NAME_CONTRACT_STATUS_nan_SUM</th>\n",
       "      <th>CC_NAME_CONTRACT_STATUS_nan_VAR</th>\n",
       "      <th>CC_COUNT</th>\n",
       "    </tr>\n",
       "  </thead>\n",
       "  <tbody>\n",
       "    <tr>\n",
       "      <th>0</th>\n",
       "      <td>100001</td>\n",
       "      <td>0</td>\n",
       "      <td>0</td>\n",
       "      <td>0</td>\n",
       "      <td>0</td>\n",
       "      <td>135000.0</td>\n",
       "      <td>568800.0</td>\n",
       "      <td>20560.5</td>\n",
       "      <td>450000.0</td>\n",
       "      <td>0.018850</td>\n",
       "      <td>...</td>\n",
       "      <td>NaN</td>\n",
       "      <td>NaN</td>\n",
       "      <td>NaN</td>\n",
       "      <td>NaN</td>\n",
       "      <td>NaN</td>\n",
       "      <td>NaN</td>\n",
       "      <td>NaN</td>\n",
       "      <td>NaN</td>\n",
       "      <td>NaN</td>\n",
       "      <td>NaN</td>\n",
       "    </tr>\n",
       "    <tr>\n",
       "      <th>1</th>\n",
       "      <td>100005</td>\n",
       "      <td>1</td>\n",
       "      <td>0</td>\n",
       "      <td>0</td>\n",
       "      <td>0</td>\n",
       "      <td>99000.0</td>\n",
       "      <td>222768.0</td>\n",
       "      <td>17370.0</td>\n",
       "      <td>180000.0</td>\n",
       "      <td>0.035792</td>\n",
       "      <td>...</td>\n",
       "      <td>NaN</td>\n",
       "      <td>NaN</td>\n",
       "      <td>NaN</td>\n",
       "      <td>NaN</td>\n",
       "      <td>NaN</td>\n",
       "      <td>NaN</td>\n",
       "      <td>NaN</td>\n",
       "      <td>NaN</td>\n",
       "      <td>NaN</td>\n",
       "      <td>NaN</td>\n",
       "    </tr>\n",
       "    <tr>\n",
       "      <th>2</th>\n",
       "      <td>100013</td>\n",
       "      <td>1</td>\n",
       "      <td>1</td>\n",
       "      <td>0</td>\n",
       "      <td>0</td>\n",
       "      <td>202500.0</td>\n",
       "      <td>663264.0</td>\n",
       "      <td>69777.0</td>\n",
       "      <td>630000.0</td>\n",
       "      <td>0.019101</td>\n",
       "      <td>...</td>\n",
       "      <td>0.0</td>\n",
       "      <td>0.0</td>\n",
       "      <td>0.0</td>\n",
       "      <td>0.0</td>\n",
       "      <td>0.0</td>\n",
       "      <td>0.0</td>\n",
       "      <td>0.0</td>\n",
       "      <td>0.0</td>\n",
       "      <td>0.0</td>\n",
       "      <td>96.0</td>\n",
       "    </tr>\n",
       "    <tr>\n",
       "      <th>3</th>\n",
       "      <td>100028</td>\n",
       "      <td>0</td>\n",
       "      <td>0</td>\n",
       "      <td>0</td>\n",
       "      <td>2</td>\n",
       "      <td>315000.0</td>\n",
       "      <td>1575000.0</td>\n",
       "      <td>49018.5</td>\n",
       "      <td>1575000.0</td>\n",
       "      <td>0.026392</td>\n",
       "      <td>...</td>\n",
       "      <td>0.0</td>\n",
       "      <td>0.0</td>\n",
       "      <td>0.0</td>\n",
       "      <td>0.0</td>\n",
       "      <td>0.0</td>\n",
       "      <td>0.0</td>\n",
       "      <td>0.0</td>\n",
       "      <td>0.0</td>\n",
       "      <td>0.0</td>\n",
       "      <td>49.0</td>\n",
       "    </tr>\n",
       "    <tr>\n",
       "      <th>4</th>\n",
       "      <td>100038</td>\n",
       "      <td>1</td>\n",
       "      <td>1</td>\n",
       "      <td>1</td>\n",
       "      <td>1</td>\n",
       "      <td>180000.0</td>\n",
       "      <td>625500.0</td>\n",
       "      <td>32067.0</td>\n",
       "      <td>625500.0</td>\n",
       "      <td>0.010032</td>\n",
       "      <td>...</td>\n",
       "      <td>NaN</td>\n",
       "      <td>NaN</td>\n",
       "      <td>NaN</td>\n",
       "      <td>NaN</td>\n",
       "      <td>NaN</td>\n",
       "      <td>NaN</td>\n",
       "      <td>NaN</td>\n",
       "      <td>NaN</td>\n",
       "      <td>NaN</td>\n",
       "      <td>NaN</td>\n",
       "    </tr>\n",
       "  </tbody>\n",
       "</table>\n",
       "<p>5 rows × 796 columns</p>\n",
       "</div>"
      ],
      "text/plain": [
       "   SK_ID_CURR  CODE_GENDER  FLAG_OWN_CAR  FLAG_OWN_REALTY  CNT_CHILDREN  \\\n",
       "0      100001            0             0                0             0   \n",
       "1      100005            1             0                0             0   \n",
       "2      100013            1             1                0             0   \n",
       "3      100028            0             0                0             2   \n",
       "4      100038            1             1                1             1   \n",
       "\n",
       "   AMT_INCOME_TOTAL  AMT_CREDIT  AMT_ANNUITY  AMT_GOODS_PRICE  \\\n",
       "0          135000.0    568800.0      20560.5         450000.0   \n",
       "1           99000.0    222768.0      17370.0         180000.0   \n",
       "2          202500.0    663264.0      69777.0         630000.0   \n",
       "3          315000.0   1575000.0      49018.5        1575000.0   \n",
       "4          180000.0    625500.0      32067.0         625500.0   \n",
       "\n",
       "   REGION_POPULATION_RELATIVE  ...  CC_NAME_CONTRACT_STATUS_Signed_MAX  \\\n",
       "0                    0.018850  ...                                 NaN   \n",
       "1                    0.035792  ...                                 NaN   \n",
       "2                    0.019101  ...                                 0.0   \n",
       "3                    0.026392  ...                                 0.0   \n",
       "4                    0.010032  ...                                 NaN   \n",
       "\n",
       "   CC_NAME_CONTRACT_STATUS_Signed_MEAN  CC_NAME_CONTRACT_STATUS_Signed_SUM  \\\n",
       "0                                  NaN                                 NaN   \n",
       "1                                  NaN                                 NaN   \n",
       "2                                  0.0                                 0.0   \n",
       "3                                  0.0                                 0.0   \n",
       "4                                  NaN                                 NaN   \n",
       "\n",
       "   CC_NAME_CONTRACT_STATUS_Signed_VAR  CC_NAME_CONTRACT_STATUS_nan_MIN  \\\n",
       "0                                 NaN                              NaN   \n",
       "1                                 NaN                              NaN   \n",
       "2                                 0.0                              0.0   \n",
       "3                                 0.0                              0.0   \n",
       "4                                 NaN                              NaN   \n",
       "\n",
       "   CC_NAME_CONTRACT_STATUS_nan_MAX  CC_NAME_CONTRACT_STATUS_nan_MEAN  \\\n",
       "0                              NaN                               NaN   \n",
       "1                              NaN                               NaN   \n",
       "2                              0.0                               0.0   \n",
       "3                              0.0                               0.0   \n",
       "4                              NaN                               NaN   \n",
       "\n",
       "   CC_NAME_CONTRACT_STATUS_nan_SUM  CC_NAME_CONTRACT_STATUS_nan_VAR  CC_COUNT  \n",
       "0                              NaN                              NaN       NaN  \n",
       "1                              NaN                              NaN       NaN  \n",
       "2                              0.0                              0.0      96.0  \n",
       "3                              0.0                              0.0      49.0  \n",
       "4                              NaN                              NaN       NaN  \n",
       "\n",
       "[5 rows x 796 columns]"
      ]
     },
     "execution_count": 39,
     "metadata": {},
     "output_type": "execute_result"
    }
   ],
   "source": [
    "df.head()"
   ]
  },
  {
   "cell_type": "code",
   "execution_count": 40,
   "metadata": {},
   "outputs": [],
   "source": [
    "df_client= df.loc[df[\"SK_ID_CURR\"] == 100005]"
   ]
  },
  {
   "cell_type": "code",
   "execution_count": 41,
   "metadata": {},
   "outputs": [
    {
     "data": {
      "text/html": [
       "<div>\n",
       "<style scoped>\n",
       "    .dataframe tbody tr th:only-of-type {\n",
       "        vertical-align: middle;\n",
       "    }\n",
       "\n",
       "    .dataframe tbody tr th {\n",
       "        vertical-align: top;\n",
       "    }\n",
       "\n",
       "    .dataframe thead th {\n",
       "        text-align: right;\n",
       "    }\n",
       "</style>\n",
       "<table border=\"1\" class=\"dataframe\">\n",
       "  <thead>\n",
       "    <tr style=\"text-align: right;\">\n",
       "      <th></th>\n",
       "      <th>SK_ID_CURR</th>\n",
       "      <th>CODE_GENDER</th>\n",
       "      <th>FLAG_OWN_CAR</th>\n",
       "      <th>FLAG_OWN_REALTY</th>\n",
       "      <th>CNT_CHILDREN</th>\n",
       "      <th>AMT_INCOME_TOTAL</th>\n",
       "      <th>AMT_CREDIT</th>\n",
       "      <th>AMT_ANNUITY</th>\n",
       "      <th>AMT_GOODS_PRICE</th>\n",
       "      <th>REGION_POPULATION_RELATIVE</th>\n",
       "      <th>...</th>\n",
       "      <th>CC_NAME_CONTRACT_STATUS_Signed_MAX</th>\n",
       "      <th>CC_NAME_CONTRACT_STATUS_Signed_MEAN</th>\n",
       "      <th>CC_NAME_CONTRACT_STATUS_Signed_SUM</th>\n",
       "      <th>CC_NAME_CONTRACT_STATUS_Signed_VAR</th>\n",
       "      <th>CC_NAME_CONTRACT_STATUS_nan_MIN</th>\n",
       "      <th>CC_NAME_CONTRACT_STATUS_nan_MAX</th>\n",
       "      <th>CC_NAME_CONTRACT_STATUS_nan_MEAN</th>\n",
       "      <th>CC_NAME_CONTRACT_STATUS_nan_SUM</th>\n",
       "      <th>CC_NAME_CONTRACT_STATUS_nan_VAR</th>\n",
       "      <th>CC_COUNT</th>\n",
       "    </tr>\n",
       "  </thead>\n",
       "  <tbody>\n",
       "    <tr>\n",
       "      <th>1</th>\n",
       "      <td>100005</td>\n",
       "      <td>1</td>\n",
       "      <td>0</td>\n",
       "      <td>0</td>\n",
       "      <td>0</td>\n",
       "      <td>99000.0</td>\n",
       "      <td>222768.0</td>\n",
       "      <td>17370.0</td>\n",
       "      <td>180000.0</td>\n",
       "      <td>0.035792</td>\n",
       "      <td>...</td>\n",
       "      <td>NaN</td>\n",
       "      <td>NaN</td>\n",
       "      <td>NaN</td>\n",
       "      <td>NaN</td>\n",
       "      <td>NaN</td>\n",
       "      <td>NaN</td>\n",
       "      <td>NaN</td>\n",
       "      <td>NaN</td>\n",
       "      <td>NaN</td>\n",
       "      <td>NaN</td>\n",
       "    </tr>\n",
       "  </tbody>\n",
       "</table>\n",
       "<p>1 rows × 796 columns</p>\n",
       "</div>"
      ],
      "text/plain": [
       "   SK_ID_CURR  CODE_GENDER  FLAG_OWN_CAR  FLAG_OWN_REALTY  CNT_CHILDREN  \\\n",
       "1      100005            1             0                0             0   \n",
       "\n",
       "   AMT_INCOME_TOTAL  AMT_CREDIT  AMT_ANNUITY  AMT_GOODS_PRICE  \\\n",
       "1           99000.0    222768.0      17370.0         180000.0   \n",
       "\n",
       "   REGION_POPULATION_RELATIVE  ...  CC_NAME_CONTRACT_STATUS_Signed_MAX  \\\n",
       "1                    0.035792  ...                                 NaN   \n",
       "\n",
       "   CC_NAME_CONTRACT_STATUS_Signed_MEAN  CC_NAME_CONTRACT_STATUS_Signed_SUM  \\\n",
       "1                                  NaN                                 NaN   \n",
       "\n",
       "   CC_NAME_CONTRACT_STATUS_Signed_VAR  CC_NAME_CONTRACT_STATUS_nan_MIN  \\\n",
       "1                                 NaN                              NaN   \n",
       "\n",
       "   CC_NAME_CONTRACT_STATUS_nan_MAX  CC_NAME_CONTRACT_STATUS_nan_MEAN  \\\n",
       "1                              NaN                               NaN   \n",
       "\n",
       "   CC_NAME_CONTRACT_STATUS_nan_SUM  CC_NAME_CONTRACT_STATUS_nan_VAR  CC_COUNT  \n",
       "1                              NaN                              NaN       NaN  \n",
       "\n",
       "[1 rows x 796 columns]"
      ]
     },
     "execution_count": 41,
     "metadata": {},
     "output_type": "execute_result"
    }
   ],
   "source": [
    "df_client"
   ]
  },
  {
   "cell_type": "code",
   "execution_count": 42,
   "metadata": {},
   "outputs": [],
   "source": [
    "df_client = df_client.drop([\"SK_ID_CURR\"], axis=1)"
   ]
  },
  {
   "cell_type": "code",
   "execution_count": 43,
   "metadata": {},
   "outputs": [
    {
     "data": {
      "text/html": [
       "<div>\n",
       "<style scoped>\n",
       "    .dataframe tbody tr th:only-of-type {\n",
       "        vertical-align: middle;\n",
       "    }\n",
       "\n",
       "    .dataframe tbody tr th {\n",
       "        vertical-align: top;\n",
       "    }\n",
       "\n",
       "    .dataframe thead th {\n",
       "        text-align: right;\n",
       "    }\n",
       "</style>\n",
       "<table border=\"1\" class=\"dataframe\">\n",
       "  <thead>\n",
       "    <tr style=\"text-align: right;\">\n",
       "      <th></th>\n",
       "      <th>CODE_GENDER</th>\n",
       "      <th>FLAG_OWN_CAR</th>\n",
       "      <th>FLAG_OWN_REALTY</th>\n",
       "      <th>CNT_CHILDREN</th>\n",
       "      <th>AMT_INCOME_TOTAL</th>\n",
       "      <th>AMT_CREDIT</th>\n",
       "      <th>AMT_ANNUITY</th>\n",
       "      <th>AMT_GOODS_PRICE</th>\n",
       "      <th>REGION_POPULATION_RELATIVE</th>\n",
       "      <th>DAYS_BIRTH</th>\n",
       "      <th>...</th>\n",
       "      <th>CC_NAME_CONTRACT_STATUS_Signed_MAX</th>\n",
       "      <th>CC_NAME_CONTRACT_STATUS_Signed_MEAN</th>\n",
       "      <th>CC_NAME_CONTRACT_STATUS_Signed_SUM</th>\n",
       "      <th>CC_NAME_CONTRACT_STATUS_Signed_VAR</th>\n",
       "      <th>CC_NAME_CONTRACT_STATUS_nan_MIN</th>\n",
       "      <th>CC_NAME_CONTRACT_STATUS_nan_MAX</th>\n",
       "      <th>CC_NAME_CONTRACT_STATUS_nan_MEAN</th>\n",
       "      <th>CC_NAME_CONTRACT_STATUS_nan_SUM</th>\n",
       "      <th>CC_NAME_CONTRACT_STATUS_nan_VAR</th>\n",
       "      <th>CC_COUNT</th>\n",
       "    </tr>\n",
       "  </thead>\n",
       "  <tbody>\n",
       "    <tr>\n",
       "      <th>1</th>\n",
       "      <td>1</td>\n",
       "      <td>0</td>\n",
       "      <td>0</td>\n",
       "      <td>0</td>\n",
       "      <td>99000.0</td>\n",
       "      <td>222768.0</td>\n",
       "      <td>17370.0</td>\n",
       "      <td>180000.0</td>\n",
       "      <td>0.035792</td>\n",
       "      <td>-18064</td>\n",
       "      <td>...</td>\n",
       "      <td>NaN</td>\n",
       "      <td>NaN</td>\n",
       "      <td>NaN</td>\n",
       "      <td>NaN</td>\n",
       "      <td>NaN</td>\n",
       "      <td>NaN</td>\n",
       "      <td>NaN</td>\n",
       "      <td>NaN</td>\n",
       "      <td>NaN</td>\n",
       "      <td>NaN</td>\n",
       "    </tr>\n",
       "  </tbody>\n",
       "</table>\n",
       "<p>1 rows × 795 columns</p>\n",
       "</div>"
      ],
      "text/plain": [
       "   CODE_GENDER  FLAG_OWN_CAR  FLAG_OWN_REALTY  CNT_CHILDREN  AMT_INCOME_TOTAL  \\\n",
       "1            1             0                0             0           99000.0   \n",
       "\n",
       "   AMT_CREDIT  AMT_ANNUITY  AMT_GOODS_PRICE  REGION_POPULATION_RELATIVE  \\\n",
       "1    222768.0      17370.0         180000.0                    0.035792   \n",
       "\n",
       "   DAYS_BIRTH  ...  CC_NAME_CONTRACT_STATUS_Signed_MAX  \\\n",
       "1      -18064  ...                                 NaN   \n",
       "\n",
       "   CC_NAME_CONTRACT_STATUS_Signed_MEAN  CC_NAME_CONTRACT_STATUS_Signed_SUM  \\\n",
       "1                                  NaN                                 NaN   \n",
       "\n",
       "   CC_NAME_CONTRACT_STATUS_Signed_VAR  CC_NAME_CONTRACT_STATUS_nan_MIN  \\\n",
       "1                                 NaN                              NaN   \n",
       "\n",
       "   CC_NAME_CONTRACT_STATUS_nan_MAX  CC_NAME_CONTRACT_STATUS_nan_MEAN  \\\n",
       "1                              NaN                               NaN   \n",
       "\n",
       "   CC_NAME_CONTRACT_STATUS_nan_SUM  CC_NAME_CONTRACT_STATUS_nan_VAR  CC_COUNT  \n",
       "1                              NaN                              NaN       NaN  \n",
       "\n",
       "[1 rows x 795 columns]"
      ]
     },
     "execution_count": 43,
     "metadata": {},
     "output_type": "execute_result"
    }
   ],
   "source": [
    "df_client"
   ]
  },
  {
   "cell_type": "code",
   "execution_count": 44,
   "metadata": {},
   "outputs": [],
   "source": [
    "df_client = df_client.replace((np.inf, -np.inf), np.nan).reset_index(drop=True)"
   ]
  },
  {
   "cell_type": "code",
   "execution_count": 45,
   "metadata": {},
   "outputs": [],
   "source": [
    "data_scaled= preprocessor.transform(df_client)"
   ]
  },
  {
   "cell_type": "code",
   "execution_count": 46,
   "metadata": {},
   "outputs": [],
   "source": [
    "data_scaled = pd.DataFrame(data_scaled, columns= list(df_client.columns))"
   ]
  },
  {
   "cell_type": "code",
   "execution_count": 47,
   "metadata": {},
   "outputs": [
    {
     "data": {
      "text/html": [
       "<div>\n",
       "<style scoped>\n",
       "    .dataframe tbody tr th:only-of-type {\n",
       "        vertical-align: middle;\n",
       "    }\n",
       "\n",
       "    .dataframe tbody tr th {\n",
       "        vertical-align: top;\n",
       "    }\n",
       "\n",
       "    .dataframe thead th {\n",
       "        text-align: right;\n",
       "    }\n",
       "</style>\n",
       "<table border=\"1\" class=\"dataframe\">\n",
       "  <thead>\n",
       "    <tr style=\"text-align: right;\">\n",
       "      <th></th>\n",
       "      <th>CODE_GENDER</th>\n",
       "      <th>FLAG_OWN_CAR</th>\n",
       "      <th>FLAG_OWN_REALTY</th>\n",
       "      <th>CNT_CHILDREN</th>\n",
       "      <th>AMT_INCOME_TOTAL</th>\n",
       "      <th>AMT_CREDIT</th>\n",
       "      <th>AMT_ANNUITY</th>\n",
       "      <th>AMT_GOODS_PRICE</th>\n",
       "      <th>REGION_POPULATION_RELATIVE</th>\n",
       "      <th>DAYS_BIRTH</th>\n",
       "      <th>...</th>\n",
       "      <th>CC_NAME_CONTRACT_STATUS_Signed_MAX</th>\n",
       "      <th>CC_NAME_CONTRACT_STATUS_Signed_MEAN</th>\n",
       "      <th>CC_NAME_CONTRACT_STATUS_Signed_SUM</th>\n",
       "      <th>CC_NAME_CONTRACT_STATUS_Signed_VAR</th>\n",
       "      <th>CC_NAME_CONTRACT_STATUS_nan_MIN</th>\n",
       "      <th>CC_NAME_CONTRACT_STATUS_nan_MAX</th>\n",
       "      <th>CC_NAME_CONTRACT_STATUS_nan_MEAN</th>\n",
       "      <th>CC_NAME_CONTRACT_STATUS_nan_SUM</th>\n",
       "      <th>CC_NAME_CONTRACT_STATUS_nan_VAR</th>\n",
       "      <th>CC_COUNT</th>\n",
       "    </tr>\n",
       "  </thead>\n",
       "  <tbody>\n",
       "    <tr>\n",
       "      <th>0</th>\n",
       "      <td>0.783909</td>\n",
       "      <td>-0.692704</td>\n",
       "      <td>-0.671013</td>\n",
       "      <td>-0.59476</td>\n",
       "      <td>-0.109468</td>\n",
       "      <td>-0.948889</td>\n",
       "      <td>-0.701435</td>\n",
       "      <td>-0.979866</td>\n",
       "      <td>1.199825</td>\n",
       "      <td>-0.597038</td>\n",
       "      <td>...</td>\n",
       "      <td>0.0</td>\n",
       "      <td>-2.420554e-17</td>\n",
       "      <td>0.0</td>\n",
       "      <td>0.0</td>\n",
       "      <td>0.0</td>\n",
       "      <td>0.0</td>\n",
       "      <td>0.0</td>\n",
       "      <td>0.0</td>\n",
       "      <td>0.0</td>\n",
       "      <td>4.031296e-16</td>\n",
       "    </tr>\n",
       "  </tbody>\n",
       "</table>\n",
       "<p>1 rows × 795 columns</p>\n",
       "</div>"
      ],
      "text/plain": [
       "   CODE_GENDER  FLAG_OWN_CAR  FLAG_OWN_REALTY  CNT_CHILDREN  AMT_INCOME_TOTAL  \\\n",
       "0     0.783909     -0.692704        -0.671013      -0.59476         -0.109468   \n",
       "\n",
       "   AMT_CREDIT  AMT_ANNUITY  AMT_GOODS_PRICE  REGION_POPULATION_RELATIVE  \\\n",
       "0   -0.948889    -0.701435        -0.979866                    1.199825   \n",
       "\n",
       "   DAYS_BIRTH  ...  CC_NAME_CONTRACT_STATUS_Signed_MAX  \\\n",
       "0   -0.597038  ...                                 0.0   \n",
       "\n",
       "   CC_NAME_CONTRACT_STATUS_Signed_MEAN  CC_NAME_CONTRACT_STATUS_Signed_SUM  \\\n",
       "0                        -2.420554e-17                                 0.0   \n",
       "\n",
       "   CC_NAME_CONTRACT_STATUS_Signed_VAR  CC_NAME_CONTRACT_STATUS_nan_MIN  \\\n",
       "0                                 0.0                              0.0   \n",
       "\n",
       "   CC_NAME_CONTRACT_STATUS_nan_MAX  CC_NAME_CONTRACT_STATUS_nan_MEAN  \\\n",
       "0                              0.0                               0.0   \n",
       "\n",
       "   CC_NAME_CONTRACT_STATUS_nan_SUM  CC_NAME_CONTRACT_STATUS_nan_VAR  \\\n",
       "0                              0.0                              0.0   \n",
       "\n",
       "       CC_COUNT  \n",
       "0  4.031296e-16  \n",
       "\n",
       "[1 rows x 795 columns]"
      ]
     },
     "execution_count": 47,
     "metadata": {},
     "output_type": "execute_result"
    }
   ],
   "source": [
    "data_scaled"
   ]
  },
  {
   "cell_type": "code",
   "execution_count": 48,
   "metadata": {},
   "outputs": [],
   "source": [
    "shap_values = explainer_LogReg.shap_values(data_scaled.loc[0])"
   ]
  },
  {
   "cell_type": "code",
   "execution_count": 63,
   "metadata": {},
   "outputs": [
    {
     "data": {
      "text/plain": [
       "array([-0.02305499, -0.        , -0.        , -0.        , -0.        ,\n",
       "       -0.        , -0.        , -0.        ,  0.        , -0.        ,\n",
       "       -0.06909277, -0.        ,  0.        ,  0.        ,  0.        ,\n",
       "        0.        , -0.        , -0.        , -0.        , -0.        ,\n",
       "       -0.        , -0.        , -0.        , -0.        , -0.        ,\n",
       "       -0.        , -0.        , -0.        , -0.        , -0.        ,\n",
       "       -0.12139101,  0.34168017,  0.09875189,  0.        , -0.        ,\n",
       "       -0.        ,  0.        ,  0.        ,  0.        , -0.        ,\n",
       "        0.        ,  0.        ,  0.        ,  0.        ,  0.        ,\n",
       "        0.        , -0.        ,  0.        , -0.        , -0.        ,\n",
       "        0.        ,  0.        ,  0.        , -0.        ,  0.        ,\n",
       "        0.        ,  0.        ,  0.        ,  0.        ,  0.        ,\n",
       "       -0.        ,  0.        , -0.        , -0.        ,  0.        ,\n",
       "        0.        ,  0.        , -0.        ,  0.        ,  0.        ,\n",
       "        0.        ,  0.        ,  0.        ,  0.        , -0.        ,\n",
       "        0.        , -0.        , -0.        , -0.        , -0.        ,\n",
       "        0.        ,  0.        ,  0.00513044,  0.        , -0.        ,\n",
       "       -0.        ,  0.        , -0.        , -0.        ,  0.        ,\n",
       "        0.        ,  0.        ,  0.        ,  0.        ,  0.        ,\n",
       "        0.        ,  0.        , -0.        , -0.        ,  0.        ,\n",
       "       -0.        , -0.        , -0.        , -0.        , -0.        ,\n",
       "       -0.        ,  0.        ,  0.        , -0.        ,  0.        ,\n",
       "       -0.        , -0.        ,  0.        , -0.        , -0.        ,\n",
       "       -0.        ,  0.        , -0.        ,  0.        , -0.        ,\n",
       "       -0.        , -0.        , -0.        , -0.        ,  0.01431194,\n",
       "        0.        ,  0.        ,  0.02276317, -0.        , -0.        ,\n",
       "        0.        ,  0.        , -0.        ,  0.        , -0.        ,\n",
       "       -0.        , -0.        ,  0.        , -0.        ,  0.        ,\n",
       "       -0.        , -0.        , -0.        , -0.        ,  0.        ,\n",
       "       -0.        , -0.        , -0.        , -0.        , -0.        ,\n",
       "        0.        , -0.        , -0.        , -0.        ,  0.        ,\n",
       "       -0.        , -0.        , -0.        , -0.        , -0.        ,\n",
       "        0.        , -0.        , -0.        , -0.        ,  0.        ,\n",
       "       -0.        , -0.        , -0.        , -0.        , -0.        ,\n",
       "       -0.        ,  0.        ,  0.        , -0.        , -0.        ,\n",
       "       -0.        , -0.        , -0.        , -0.        , -0.        ,\n",
       "        0.        , -0.        ,  0.        , -0.        ,  0.        ,\n",
       "       -0.        , -0.        ,  0.        , -0.        ,  0.        ,\n",
       "       -0.        , -0.        , -0.        , -0.        , -0.        ,\n",
       "       -0.        ,  0.        , -0.        , -0.        ,  0.        ,\n",
       "       -0.        , -0.        , -0.        , -0.        , -0.        ,\n",
       "       -0.        , -0.        , -0.        , -0.        ,  0.        ,\n",
       "       -0.        , -0.        , -0.        , -0.        ,  0.        ,\n",
       "        0.        , -0.        , -0.        ,  0.        , -0.        ,\n",
       "        0.        , -0.        ,  0.        , -0.        , -0.        ,\n",
       "       -0.        , -0.        , -0.        , -0.        , -0.        ,\n",
       "        0.        , -0.        , -0.        , -0.        ,  0.        ,\n",
       "        0.        , -0.        , -0.        , -0.        ,  0.        ,\n",
       "       -0.        , -0.        ,  0.        ,  0.        , -0.        ,\n",
       "       -0.        , -0.        ,  0.        , -0.        , -0.        ,\n",
       "        0.        ,  0.        ,  0.        , -0.        , -0.        ,\n",
       "        0.        , -0.        ,  0.        , -0.        ,  0.06200749,\n",
       "       -0.        ,  0.        , -0.        ,  0.        ,  0.        ,\n",
       "        0.        ,  0.        ,  0.        ,  0.        , -0.        ,\n",
       "        0.        , -0.        , -0.        , -0.        , -0.        ,\n",
       "       -0.        , -0.        , -0.        , -0.        ,  0.        ,\n",
       "        0.        ,  0.        , -0.        , -0.        , -0.        ,\n",
       "       -0.        , -0.        , -0.        ,  0.        ,  0.        ,\n",
       "       -0.        , -0.        ,  0.        , -0.        , -0.        ,\n",
       "       -0.        ,  0.        ,  0.        , -0.        , -0.        ,\n",
       "        0.        ,  0.        , -0.        , -0.        , -0.        ,\n",
       "       -0.        ,  0.        ,  0.        , -0.        ,  0.        ,\n",
       "       -0.        , -0.        , -0.        ,  0.        , -0.        ,\n",
       "        0.        , -0.        ,  0.        ,  0.        , -0.        ,\n",
       "       -0.        , -0.        , -0.        , -0.        , -0.        ,\n",
       "       -0.        ,  0.        ,  0.        ,  0.        ,  0.        ,\n",
       "       -0.        , -0.        , -0.        , -0.        , -0.        ,\n",
       "       -0.        , -0.        , -0.        , -0.        , -0.        ,\n",
       "       -0.        , -0.        , -0.        , -0.        , -0.        ,\n",
       "       -0.        , -0.        , -0.        , -0.        ,  0.        ,\n",
       "        0.        , -0.        , -0.        ,  0.        ,  0.        ,\n",
       "        0.        , -0.        ,  0.        , -0.        ,  0.        ,\n",
       "       -0.        , -0.        ,  0.        , -0.        , -0.        ,\n",
       "       -0.        , -0.        , -0.        , -0.        , -0.        ,\n",
       "       -0.        , -0.        , -0.        , -0.        , -0.        ,\n",
       "        0.        ,  0.        , -0.        , -0.        , -0.        ,\n",
       "       -0.        , -0.        , -0.        , -0.        , -0.        ,\n",
       "       -0.        , -0.        , -0.        ,  0.        ,  0.        ,\n",
       "        0.        , -0.        ,  0.        , -0.        , -0.        ,\n",
       "       -0.        , -0.        , -0.        ,  0.        , -0.        ,\n",
       "        0.        , -0.        , -0.        ,  0.        , -0.        ,\n",
       "       -0.        , -0.        ,  0.        ,  0.        , -0.        ,\n",
       "       -0.        , -0.        ,  0.        , -0.        , -0.        ,\n",
       "        0.        , -0.        ,  0.        ,  0.        , -0.        ,\n",
       "       -0.        , -0.        , -0.        , -0.        , -0.        ,\n",
       "       -0.        , -0.        , -0.        , -0.        , -0.        ,\n",
       "       -0.        , -0.        , -0.        , -0.        , -0.        ,\n",
       "       -0.        , -0.        , -0.        ,  0.        , -0.        ,\n",
       "       -0.        , -0.        , -0.        ,  0.        ,  0.        ,\n",
       "       -0.        ,  0.        , -0.03223199, -0.        ,  0.        ,\n",
       "       -0.        , -0.        , -0.        ,  0.        ,  0.        ,\n",
       "       -0.        , -0.        , -0.        , -0.        , -0.        ,\n",
       "       -0.        , -0.        ,  0.        , -0.        ,  0.        ,\n",
       "       -0.        , -0.        , -0.        , -0.        , -0.        ,\n",
       "       -0.        , -0.        ,  0.        ,  0.        , -0.        ,\n",
       "       -0.        , -0.        ,  0.        , -0.        ,  0.        ,\n",
       "       -0.        , -0.        , -0.        , -0.        , -0.        ,\n",
       "       -0.        , -0.        ,  0.        ,  0.        , -0.        ,\n",
       "       -0.        , -0.        ,  0.        , -0.        , -0.        ,\n",
       "       -0.        , -0.        ,  0.        , -0.        , -0.        ,\n",
       "       -0.        , -0.        ,  0.        , -0.        , -0.        ,\n",
       "        0.        ,  0.        , -0.        , -0.        , -0.        ,\n",
       "       -0.        ,  0.        ,  0.        ,  0.        , -0.00698584,\n",
       "       -0.        ,  0.        , -0.        , -0.        , -0.        ,\n",
       "       -0.        ,  0.        ,  0.        , -0.        , -0.        ,\n",
       "        0.        , -0.        , -0.        ,  0.        , -0.        ,\n",
       "       -0.        , -0.        , -0.        , -0.        , -0.        ,\n",
       "        0.        ,  0.        ,  0.        ,  0.        ,  0.        ,\n",
       "       -0.        , -0.        , -0.        ,  0.        , -0.        ,\n",
       "       -0.        ,  0.        , -0.        , -0.        , -0.        ,\n",
       "       -0.        , -0.        , -0.        , -0.        , -0.        ,\n",
       "       -0.        , -0.        ,  0.        , -0.        , -0.        ,\n",
       "       -0.        , -0.        , -0.        , -0.        , -0.        ,\n",
       "       -0.        , -0.        , -0.        , -0.        , -0.        ,\n",
       "       -0.        ,  0.        ,  0.        ,  0.        , -0.        ,\n",
       "       -0.        , -0.        , -0.        , -0.        , -0.        ,\n",
       "       -0.        ,  0.        , -0.        ,  0.        , -0.        ,\n",
       "       -0.        ,  0.        ,  0.        ,  0.        ,  0.        ,\n",
       "        0.        ,  0.        ,  0.        ,  0.        ,  0.        ,\n",
       "       -0.        ,  0.        , -0.        ,  0.        , -0.        ,\n",
       "        0.        ,  0.        ,  0.        ,  0.        ,  0.        ,\n",
       "       -0.        , -0.        , -0.        ,  0.        ,  0.        ,\n",
       "       -0.        ,  0.        , -0.        , -0.        , -0.        ,\n",
       "       -0.        , -0.        , -0.        , -0.        , -0.        ,\n",
       "       -0.        ,  0.        , -0.        , -0.        ,  0.        ,\n",
       "        0.        ,  0.        , -0.        , -0.        , -0.        ,\n",
       "       -0.        , -0.        ,  0.        ,  0.        , -0.        ,\n",
       "       -0.        ,  0.        , -0.        , -0.        , -0.        ,\n",
       "        0.        , -0.        , -0.        , -0.        , -0.        ,\n",
       "       -0.        ,  0.        , -0.        , -0.        , -0.        ,\n",
       "       -0.        ,  0.        ,  0.        , -0.        , -0.        ,\n",
       "       -0.        , -0.        , -0.        ,  0.        ,  0.        ,\n",
       "       -0.        , -0.        , -0.        ,  0.        , -0.        ,\n",
       "       -0.        , -0.        , -0.        ,  0.        ,  0.        ,\n",
       "       -0.        , -0.        , -0.        , -0.        ,  0.        ,\n",
       "       -0.        , -0.        , -0.        ,  0.        ,  0.        ,\n",
       "       -0.        ,  0.        , -0.        ,  0.        ,  0.        ,\n",
       "        0.        ,  0.        ,  0.        ,  0.        ,  0.        ,\n",
       "       -0.        , -0.        , -0.        ,  0.        ,  0.        ,\n",
       "        0.        ,  0.        , -0.        ,  0.        ,  0.        ,\n",
       "       -0.        , -0.        , -0.        ,  0.        ,  0.        ,\n",
       "       -0.        , -0.        , -0.        ,  0.        ,  0.        ,\n",
       "       -0.        , -0.        , -0.        ,  0.        ,  0.        ,\n",
       "       -0.        , -0.        , -0.        ,  0.        ,  0.        ,\n",
       "       -0.        , -0.        , -0.        , -0.        ,  0.        ,\n",
       "       -0.        , -0.        , -0.        ,  0.        ,  0.        ,\n",
       "       -0.        , -0.        , -0.        , -0.        , -0.        ,\n",
       "       -0.        ,  0.        , -0.        ,  0.        , -0.        ,\n",
       "       -0.        , -0.        , -0.        , -0.        ,  0.        ,\n",
       "        0.        ,  0.        ,  0.        ,  0.        ,  0.        ,\n",
       "       -0.        ,  0.        ,  0.        ,  0.        ,  0.        ,\n",
       "       -0.        ,  0.        ,  0.        , -0.        ,  0.        ,\n",
       "        0.        ,  0.        ,  0.        ,  0.        ,  0.        ,\n",
       "        0.        , -0.        ,  0.        , -0.        ,  0.        ,\n",
       "        0.        ,  0.        ,  0.        ,  0.        ,  0.        ,\n",
       "        0.        ,  0.        ,  0.        ,  0.        ,  0.        ,\n",
       "        0.        ,  0.        ,  0.        ,  0.        ,  0.        ,\n",
       "       -0.        , -0.        ,  0.        , -0.        ,  0.        ,\n",
       "        0.        ,  0.        ,  0.        ,  0.        ,  0.        ])"
      ]
     },
     "execution_count": 63,
     "metadata": {},
     "output_type": "execute_result"
    }
   ],
   "source": [
    "shap_values"
   ]
  },
  {
   "cell_type": "code",
   "execution_count": 64,
   "metadata": {},
   "outputs": [],
   "source": [
    "test_2 = pd.DataFrame(shap_values, index= list(data_scaled.columns), columns=['shape_values'])"
   ]
  },
  {
   "cell_type": "code",
   "execution_count": 68,
   "metadata": {},
   "outputs": [],
   "source": [
    "test_2 = test_2.reset_index()"
   ]
  },
  {
   "cell_type": "code",
   "execution_count": 70,
   "metadata": {},
   "outputs": [
    {
     "data": {
      "text/html": [
       "<div>\n",
       "<style scoped>\n",
       "    .dataframe tbody tr th:only-of-type {\n",
       "        vertical-align: middle;\n",
       "    }\n",
       "\n",
       "    .dataframe tbody tr th {\n",
       "        vertical-align: top;\n",
       "    }\n",
       "\n",
       "    .dataframe thead th {\n",
       "        text-align: right;\n",
       "    }\n",
       "</style>\n",
       "<table border=\"1\" class=\"dataframe\">\n",
       "  <thead>\n",
       "    <tr style=\"text-align: right;\">\n",
       "      <th></th>\n",
       "      <th>Features</th>\n",
       "      <th>shape_values</th>\n",
       "    </tr>\n",
       "  </thead>\n",
       "  <tbody>\n",
       "    <tr>\n",
       "      <th>0</th>\n",
       "      <td>CODE_GENDER</td>\n",
       "      <td>-0.023055</td>\n",
       "    </tr>\n",
       "    <tr>\n",
       "      <th>1</th>\n",
       "      <td>FLAG_OWN_CAR</td>\n",
       "      <td>-0.000000</td>\n",
       "    </tr>\n",
       "    <tr>\n",
       "      <th>2</th>\n",
       "      <td>FLAG_OWN_REALTY</td>\n",
       "      <td>-0.000000</td>\n",
       "    </tr>\n",
       "    <tr>\n",
       "      <th>3</th>\n",
       "      <td>CNT_CHILDREN</td>\n",
       "      <td>-0.000000</td>\n",
       "    </tr>\n",
       "    <tr>\n",
       "      <th>4</th>\n",
       "      <td>AMT_INCOME_TOTAL</td>\n",
       "      <td>-0.000000</td>\n",
       "    </tr>\n",
       "    <tr>\n",
       "      <th>...</th>\n",
       "      <td>...</td>\n",
       "      <td>...</td>\n",
       "    </tr>\n",
       "    <tr>\n",
       "      <th>790</th>\n",
       "      <td>CC_NAME_CONTRACT_STATUS_nan_MAX</td>\n",
       "      <td>0.000000</td>\n",
       "    </tr>\n",
       "    <tr>\n",
       "      <th>791</th>\n",
       "      <td>CC_NAME_CONTRACT_STATUS_nan_MEAN</td>\n",
       "      <td>0.000000</td>\n",
       "    </tr>\n",
       "    <tr>\n",
       "      <th>792</th>\n",
       "      <td>CC_NAME_CONTRACT_STATUS_nan_SUM</td>\n",
       "      <td>0.000000</td>\n",
       "    </tr>\n",
       "    <tr>\n",
       "      <th>793</th>\n",
       "      <td>CC_NAME_CONTRACT_STATUS_nan_VAR</td>\n",
       "      <td>0.000000</td>\n",
       "    </tr>\n",
       "    <tr>\n",
       "      <th>794</th>\n",
       "      <td>CC_COUNT</td>\n",
       "      <td>0.000000</td>\n",
       "    </tr>\n",
       "  </tbody>\n",
       "</table>\n",
       "<p>795 rows × 2 columns</p>\n",
       "</div>"
      ],
      "text/plain": [
       "                             Features  shape_values\n",
       "0                         CODE_GENDER     -0.023055\n",
       "1                        FLAG_OWN_CAR     -0.000000\n",
       "2                     FLAG_OWN_REALTY     -0.000000\n",
       "3                        CNT_CHILDREN     -0.000000\n",
       "4                    AMT_INCOME_TOTAL     -0.000000\n",
       "..                                ...           ...\n",
       "790   CC_NAME_CONTRACT_STATUS_nan_MAX      0.000000\n",
       "791  CC_NAME_CONTRACT_STATUS_nan_MEAN      0.000000\n",
       "792   CC_NAME_CONTRACT_STATUS_nan_SUM      0.000000\n",
       "793   CC_NAME_CONTRACT_STATUS_nan_VAR      0.000000\n",
       "794                          CC_COUNT      0.000000\n",
       "\n",
       "[795 rows x 2 columns]"
      ]
     },
     "execution_count": 70,
     "metadata": {},
     "output_type": "execute_result"
    }
   ],
   "source": [
    "test_2 = test_2.rename(columns={'index': 'Features'})\n",
    "test_2"
   ]
  },
  {
   "cell_type": "code",
   "execution_count": 65,
   "metadata": {},
   "outputs": [
    {
     "data": {
      "text/plain": [
       "'{\\n    \"shape_values\":{\\n        \"CODE_GENDER\":-0.0230549938,\\n        \"FLAG_OWN_CAR\":0.0,\\n        \"FLAG_OWN_REALTY\":0.0,\\n        \"CNT_CHILDREN\":0.0,\\n        \"AMT_INCOME_TOTAL\":0.0,\\n        \"AMT_CREDIT\":0.0,\\n        \"AMT_ANNUITY\":0.0,\\n        \"AMT_GOODS_PRICE\":0.0,\\n        \"REGION_POPULATION_RELATIVE\":0.0,\\n        \"DAYS_BIRTH\":0.0,\\n        \"DAYS_EMPLOYED\":-0.0690927662,\\n        \"DAYS_REGISTRATION\":0.0,\\n        \"DAYS_ID_PUBLISH\":0.0,\\n        \"OWN_CAR_AGE\":0.0,\\n        \"FLAG_MOBIL\":0.0,\\n        \"FLAG_EMP_PHONE\":0.0,\\n        \"FLAG_WORK_PHONE\":0.0,\\n        \"FLAG_CONT_MOBILE\":0.0,\\n        \"FLAG_PHONE\":0.0,\\n        \"FLAG_EMAIL\":0.0,\\n        \"CNT_FAM_MEMBERS\":0.0,\\n        \"REGION_RATING_CLIENT\":0.0,\\n        \"REGION_RATING_CLIENT_W_CITY\":0.0,\\n        \"HOUR_APPR_PROCESS_START\":0.0,\\n        \"REG_REGION_NOT_LIVE_REGION\":0.0,\\n        \"REG_REGION_NOT_WORK_REGION\":0.0,\\n        \"LIVE_REGION_NOT_WORK_REGION\":0.0,\\n        \"REG_CITY_NOT_LIVE_CITY\":0.0,\\n        \"REG_CITY_NOT_WORK_CITY\":0.0,\\n        \"LIVE_CITY_NOT_WORK_CITY\":0.0,\\n        \"EXT_SOURCE_1\":-0.1213910051,\\n        \"EXT_SOURCE_2\":0.3416801676,\\n        \"EXT_SOURCE_3\":0.098751887,\\n        \"APARTMENTS_AVG\":0.0,\\n        \"BASEMENTAREA_AVG\":0.0,\\n        \"YEARS_BEGINEXPLUATATION_AVG\":0.0,\\n        \"YEARS_BUILD_AVG\":0.0,\\n        \"COMMONAREA_AVG\":0.0,\\n        \"ELEVATORS_AVG\":0.0,\\n        \"ENTRANCES_AVG\":0.0,\\n        \"FLOORSMAX_AVG\":0.0,\\n        \"FLOORSMIN_AVG\":0.0,\\n        \"LANDAREA_AVG\":0.0,\\n        \"LIVINGAPARTMENTS_AVG\":0.0,\\n        \"LIVINGAREA_AVG\":0.0,\\n        \"NONLIVINGAPARTMENTS_AVG\":0.0,\\n        \"NONLIVINGAREA_AVG\":0.0,\\n        \"APARTMENTS_MODE\":0.0,\\n        \"BASEMENTAREA_MODE\":0.0,\\n        \"YEARS_BEGINEXPLUATATION_MODE\":0.0,\\n        \"YEARS_BUILD_MODE\":0.0,\\n        \"COMMONAREA_MODE\":0.0,\\n        \"ELEVATORS_MODE\":0.0,\\n        \"ENTRANCES_MODE\":0.0,\\n        \"FLOORSMAX_MODE\":0.0,\\n        \"FLOORSMIN_MODE\":0.0,\\n        \"LANDAREA_MODE\":0.0,\\n        \"LIVINGAPARTMENTS_MODE\":0.0,\\n        \"LIVINGAREA_MODE\":0.0,\\n        \"NONLIVINGAPARTMENTS_MODE\":0.0,\\n        \"NONLIVINGAREA_MODE\":0.0,\\n        \"APARTMENTS_MEDI\":0.0,\\n        \"BASEMENTAREA_MEDI\":0.0,\\n        \"YEARS_BEGINEXPLUATATION_MEDI\":0.0,\\n        \"YEARS_BUILD_MEDI\":0.0,\\n        \"COMMONAREA_MEDI\":0.0,\\n        \"ELEVATORS_MEDI\":0.0,\\n        \"ENTRANCES_MEDI\":0.0,\\n        \"FLOORSMAX_MEDI\":0.0,\\n        \"FLOORSMIN_MEDI\":0.0,\\n        \"LANDAREA_MEDI\":0.0,\\n        \"LIVINGAPARTMENTS_MEDI\":0.0,\\n        \"LIVINGAREA_MEDI\":0.0,\\n        \"NONLIVINGAPARTMENTS_MEDI\":0.0,\\n        \"NONLIVINGAREA_MEDI\":0.0,\\n        \"TOTALAREA_MODE\":0.0,\\n        \"OBS_30_CNT_SOCIAL_CIRCLE\":0.0,\\n        \"DEF_30_CNT_SOCIAL_CIRCLE\":0.0,\\n        \"OBS_60_CNT_SOCIAL_CIRCLE\":0.0,\\n        \"DEF_60_CNT_SOCIAL_CIRCLE\":0.0,\\n        \"DAYS_LAST_PHONE_CHANGE\":0.0,\\n        \"FLAG_DOCUMENT_2\":0.0,\\n        \"FLAG_DOCUMENT_3\":0.0051304389,\\n        \"FLAG_DOCUMENT_4\":0.0,\\n        \"FLAG_DOCUMENT_5\":0.0,\\n        \"FLAG_DOCUMENT_6\":0.0,\\n        \"FLAG_DOCUMENT_7\":0.0,\\n        \"FLAG_DOCUMENT_8\":0.0,\\n        \"FLAG_DOCUMENT_9\":0.0,\\n        \"FLAG_DOCUMENT_10\":0.0,\\n        \"FLAG_DOCUMENT_11\":0.0,\\n        \"FLAG_DOCUMENT_12\":0.0,\\n        \"FLAG_DOCUMENT_13\":0.0,\\n        \"FLAG_DOCUMENT_14\":0.0,\\n        \"FLAG_DOCUMENT_15\":0.0,\\n        \"FLAG_DOCUMENT_16\":0.0,\\n        \"FLAG_DOCUMENT_17\":0.0,\\n        \"FLAG_DOCUMENT_18\":0.0,\\n        \"FLAG_DOCUMENT_19\":0.0,\\n        \"FLAG_DOCUMENT_20\":0.0,\\n        \"FLAG_DOCUMENT_21\":0.0,\\n        \"AMT_REQ_CREDIT_BUREAU_HOUR\":0.0,\\n        \"AMT_REQ_CREDIT_BUREAU_DAY\":0.0,\\n        \"AMT_REQ_CREDIT_BUREAU_WEEK\":0.0,\\n        \"AMT_REQ_CREDIT_BUREAU_MON\":0.0,\\n        \"AMT_REQ_CREDIT_BUREAU_QRT\":0.0,\\n        \"AMT_REQ_CREDIT_BUREAU_YEAR\":0.0,\\n        \"NAME_CONTRACT_TYPE_Cash loans\":0.0,\\n        \"NAME_CONTRACT_TYPE_Revolving loans\":0.0,\\n        \"NAME_CONTRACT_TYPE_nan\":0.0,\\n        \"NAME_TYPE_SUITE_Children\":0.0,\\n        \"NAME_TYPE_SUITE_Family\":0.0,\\n        \"NAME_TYPE_SUITE_Group of people\":0.0,\\n        \"NAME_TYPE_SUITE_Other_A\":0.0,\\n        \"NAME_TYPE_SUITE_Other_B\":0.0,\\n        \"NAME_TYPE_SUITE_Spouse, partner\":0.0,\\n        \"NAME_TYPE_SUITE_Unaccompanied\":0.0,\\n        \"NAME_TYPE_SUITE_nan\":0.0,\\n        \"NAME_INCOME_TYPE_Businessman\":0.0,\\n        \"NAME_INCOME_TYPE_Commercial associate\":0.0,\\n        \"NAME_INCOME_TYPE_Pensioner\":0.0,\\n        \"NAME_INCOME_TYPE_State servant\":0.0,\\n        \"NAME_INCOME_TYPE_Student\":0.0,\\n        \"NAME_INCOME_TYPE_Unemployed\":0.0,\\n        \"NAME_INCOME_TYPE_Working\":0.014311935,\\n        \"NAME_INCOME_TYPE_nan\":0.0,\\n        \"NAME_EDUCATION_TYPE_Academic degree\":0.0,\\n        \"NAME_EDUCATION_TYPE_Higher education\":0.0227631684,\\n        \"NAME_EDUCATION_TYPE_Incomplete higher\":0.0,\\n        \"NAME_EDUCATION_TYPE_Lower secondary\":0.0,\\n        \"NAME_EDUCATION_TYPE_Secondary \\\\/ secondary special\":0.0,\\n        \"NAME_EDUCATION_TYPE_nan\":0.0,\\n        \"NAME_FAMILY_STATUS_Civil marriage\":0.0,\\n        \"NAME_FAMILY_STATUS_Married\":0.0,\\n        \"NAME_FAMILY_STATUS_Separated\":0.0,\\n        \"NAME_FAMILY_STATUS_Single \\\\/ not married\":0.0,\\n        \"NAME_FAMILY_STATUS_Widow\":0.0,\\n        \"NAME_FAMILY_STATUS_nan\":0.0,\\n        \"NAME_HOUSING_TYPE_Co-op apartment\":0.0,\\n        \"NAME_HOUSING_TYPE_House \\\\/ apartment\":0.0,\\n        \"NAME_HOUSING_TYPE_Municipal apartment\":0.0,\\n        \"NAME_HOUSING_TYPE_Office apartment\":0.0,\\n        \"NAME_HOUSING_TYPE_Rented apartment\":0.0,\\n        \"NAME_HOUSING_TYPE_With parents\":0.0,\\n        \"NAME_HOUSING_TYPE_nan\":0.0,\\n        \"OCCUPATION_TYPE_Accountants\":0.0,\\n        \"OCCUPATION_TYPE_Cleaning staff\":0.0,\\n        \"OCCUPATION_TYPE_Cooking staff\":0.0,\\n        \"OCCUPATION_TYPE_Core staff\":0.0,\\n        \"OCCUPATION_TYPE_Drivers\":0.0,\\n        \"OCCUPATION_TYPE_HR staff\":0.0,\\n        \"OCCUPATION_TYPE_High skill tech staff\":0.0,\\n        \"OCCUPATION_TYPE_IT staff\":0.0,\\n        \"OCCUPATION_TYPE_Laborers\":0.0,\\n        \"OCCUPATION_TYPE_Low-skill Laborers\":0.0,\\n        \"OCCUPATION_TYPE_Managers\":0.0,\\n        \"OCCUPATION_TYPE_Medicine staff\":0.0,\\n        \"OCCUPATION_TYPE_Private service staff\":0.0,\\n        \"OCCUPATION_TYPE_Realty agents\":0.0,\\n        \"OCCUPATION_TYPE_Sales staff\":0.0,\\n        \"OCCUPATION_TYPE_Secretaries\":0.0,\\n        \"OCCUPATION_TYPE_Security staff\":0.0,\\n        \"OCCUPATION_TYPE_Waiters\\\\/barmen staff\":0.0,\\n        \"OCCUPATION_TYPE_nan\":0.0,\\n        \"WEEKDAY_APPR_PROCESS_START_FRIDAY\":0.0,\\n        \"WEEKDAY_APPR_PROCESS_START_MONDAY\":0.0,\\n        \"WEEKDAY_APPR_PROCESS_START_SATURDAY\":0.0,\\n        \"WEEKDAY_APPR_PROCESS_START_SUNDAY\":0.0,\\n        \"WEEKDAY_APPR_PROCESS_START_THURSDAY\":0.0,\\n        \"WEEKDAY_APPR_PROCESS_START_TUESDAY\":0.0,\\n        \"WEEKDAY_APPR_PROCESS_START_WEDNESDAY\":0.0,\\n        \"WEEKDAY_APPR_PROCESS_START_nan\":0.0,\\n        \"ORGANIZATION_TYPE_Advertising\":0.0,\\n        \"ORGANIZATION_TYPE_Agriculture\":0.0,\\n        \"ORGANIZATION_TYPE_Bank\":0.0,\\n        \"ORGANIZATION_TYPE_Business Entity Type 1\":0.0,\\n        \"ORGANIZATION_TYPE_Business Entity Type 2\":0.0,\\n        \"ORGANIZATION_TYPE_Business Entity Type 3\":0.0,\\n        \"ORGANIZATION_TYPE_Cleaning\":0.0,\\n        \"ORGANIZATION_TYPE_Construction\":0.0,\\n        \"ORGANIZATION_TYPE_Culture\":0.0,\\n        \"ORGANIZATION_TYPE_Electricity\":0.0,\\n        \"ORGANIZATION_TYPE_Emergency\":0.0,\\n        \"ORGANIZATION_TYPE_Government\":0.0,\\n        \"ORGANIZATION_TYPE_Hotel\":0.0,\\n        \"ORGANIZATION_TYPE_Housing\":0.0,\\n        \"ORGANIZATION_TYPE_Industry: type 1\":0.0,\\n        \"ORGANIZATION_TYPE_Industry: type 10\":0.0,\\n        \"ORGANIZATION_TYPE_Industry: type 11\":0.0,\\n        \"ORGANIZATION_TYPE_Industry: type 12\":0.0,\\n        \"ORGANIZATION_TYPE_Industry: type 13\":0.0,\\n        \"ORGANIZATION_TYPE_Industry: type 2\":0.0,\\n        \"ORGANIZATION_TYPE_Industry: type 3\":0.0,\\n        \"ORGANIZATION_TYPE_Industry: type 4\":0.0,\\n        \"ORGANIZATION_TYPE_Industry: type 5\":0.0,\\n        \"ORGANIZATION_TYPE_Industry: type 6\":0.0,\\n        \"ORGANIZATION_TYPE_Industry: type 7\":0.0,\\n        \"ORGANIZATION_TYPE_Industry: type 8\":0.0,\\n        \"ORGANIZATION_TYPE_Industry: type 9\":0.0,\\n        \"ORGANIZATION_TYPE_Insurance\":0.0,\\n        \"ORGANIZATION_TYPE_Kindergarten\":0.0,\\n        \"ORGANIZATION_TYPE_Legal Services\":0.0,\\n        \"ORGANIZATION_TYPE_Medicine\":0.0,\\n        \"ORGANIZATION_TYPE_Military\":0.0,\\n        \"ORGANIZATION_TYPE_Mobile\":0.0,\\n        \"ORGANIZATION_TYPE_Other\":0.0,\\n        \"ORGANIZATION_TYPE_Police\":0.0,\\n        \"ORGANIZATION_TYPE_Postal\":0.0,\\n        \"ORGANIZATION_TYPE_Realtor\":0.0,\\n        \"ORGANIZATION_TYPE_Religion\":0.0,\\n        \"ORGANIZATION_TYPE_Restaurant\":0.0,\\n        \"ORGANIZATION_TYPE_School\":0.0,\\n        \"ORGANIZATION_TYPE_Security\":0.0,\\n        \"ORGANIZATION_TYPE_Security Ministries\":0.0,\\n        \"ORGANIZATION_TYPE_Self-employed\":0.0,\\n        \"ORGANIZATION_TYPE_Services\":0.0,\\n        \"ORGANIZATION_TYPE_Telecom\":0.0,\\n        \"ORGANIZATION_TYPE_Trade: type 1\":0.0,\\n        \"ORGANIZATION_TYPE_Trade: type 2\":0.0,\\n        \"ORGANIZATION_TYPE_Trade: type 3\":0.0,\\n        \"ORGANIZATION_TYPE_Trade: type 4\":0.0,\\n        \"ORGANIZATION_TYPE_Trade: type 5\":0.0,\\n        \"ORGANIZATION_TYPE_Trade: type 6\":0.0,\\n        \"ORGANIZATION_TYPE_Trade: type 7\":0.0,\\n        \"ORGANIZATION_TYPE_Transport: type 1\":0.0,\\n        \"ORGANIZATION_TYPE_Transport: type 2\":0.0,\\n        \"ORGANIZATION_TYPE_Transport: type 3\":0.0,\\n        \"ORGANIZATION_TYPE_Transport: type 4\":0.0,\\n        \"ORGANIZATION_TYPE_University\":0.0,\\n        \"ORGANIZATION_TYPE_XNA\":0.0,\\n        \"ORGANIZATION_TYPE_nan\":0.0,\\n        \"FONDKAPREMONT_MODE_not specified\":0.0,\\n        \"FONDKAPREMONT_MODE_org spec account\":0.0,\\n        \"FONDKAPREMONT_MODE_reg oper account\":0.0,\\n        \"FONDKAPREMONT_MODE_reg oper spec account\":0.0,\\n        \"FONDKAPREMONT_MODE_nan\":0.0,\\n        \"HOUSETYPE_MODE_block of flats\":0.0,\\n        \"HOUSETYPE_MODE_specific housing\":0.0,\\n        \"HOUSETYPE_MODE_terraced house\":0.0,\\n        \"HOUSETYPE_MODE_nan\":0.0,\\n        \"WALLSMATERIAL_MODE_Block\":0.0,\\n        \"WALLSMATERIAL_MODE_Mixed\":0.0,\\n        \"WALLSMATERIAL_MODE_Monolithic\":0.0,\\n        \"WALLSMATERIAL_MODE_Others\":0.0,\\n        \"WALLSMATERIAL_MODE_Panel\":0.0,\\n        \"WALLSMATERIAL_MODE_Stone, brick\":0.0,\\n        \"WALLSMATERIAL_MODE_Wooden\":0.0,\\n        \"WALLSMATERIAL_MODE_nan\":0.0,\\n        \"EMERGENCYSTATE_MODE_No\":0.0,\\n        \"EMERGENCYSTATE_MODE_Yes\":0.0,\\n        \"EMERGENCYSTATE_MODE_nan\":0.0,\\n        \"DAYS_EMPLOYED_PERC\":0.0,\\n        \"INCOME_CREDIT_PERC\":0.0,\\n        \"INCOME_PER_PERSON\":0.0,\\n        \"ANNUITY_INCOME_PERC\":0.0,\\n        \"PAYMENT_RATE\":0.0,\\n        \"ANNUITY_LENGTH\":0.0,\\n        \"ANN_LENGTH_EMPLOYED_RATIO\":0.0,\\n        \"CHILDREN_RATIO\":0.0,\\n        \"credit_div_goods\":0.062007493,\\n        \"credit_minus_goods\":0.0,\\n        \"reg_div_publish\":0.0,\\n        \"birth_div_reg\":0.0,\\n        \"document_sum\":0.0,\\n        \"is_na_amt_annuity\":0.0,\\n        \"age_finish\":0.0,\\n        \"BURO_DAYS_CREDIT_MIN\":0.0,\\n        \"BURO_DAYS_CREDIT_MAX\":0.0,\\n        \"BURO_DAYS_CREDIT_MEAN\":0.0,\\n        \"BURO_DAYS_CREDIT_VAR\":0.0,\\n        \"BURO_DAYS_CREDIT_ENDDATE_MIN\":0.0,\\n        \"BURO_DAYS_CREDIT_ENDDATE_MAX\":0.0,\\n        \"BURO_DAYS_CREDIT_ENDDATE_MEAN\":0.0,\\n        \"BURO_CREDIT_DAY_OVERDUE_MAX\":0.0,\\n        \"BURO_CREDIT_DAY_OVERDUE_MEAN\":0.0,\\n        \"BURO_AMT_CREDIT_MAX_OVERDUE_MEAN\":0.0,\\n        \"BURO_AMT_CREDIT_SUM_MAX\":0.0,\\n        \"BURO_AMT_CREDIT_SUM_MEAN\":0.0,\\n        \"BURO_AMT_CREDIT_SUM_SUM\":0.0,\\n        \"BURO_AMT_CREDIT_SUM_DEBT_MAX\":0.0,\\n        \"BURO_AMT_CREDIT_SUM_DEBT_MEAN\":0.0,\\n        \"BURO_AMT_CREDIT_SUM_DEBT_SUM\":0.0,\\n        \"BURO_AMT_CREDIT_SUM_OVERDUE_MEAN\":0.0,\\n        \"BURO_AMT_CREDIT_SUM_LIMIT_MEAN\":0.0,\\n        \"BURO_AMT_CREDIT_SUM_LIMIT_SUM\":0.0,\\n        \"BURO_AMT_ANNUITY_MAX\":0.0,\\n        \"BURO_AMT_ANNUITY_MEAN\":0.0,\\n        \"BURO_CNT_CREDIT_PROLONG_SUM\":0.0,\\n        \"BURO_MONTHS_BALANCE_MIN_MIN\":0.0,\\n        \"BURO_MONTHS_BALANCE_MAX_MAX\":0.0,\\n        \"BURO_MONTHS_BALANCE_SIZE_MEAN\":0.0,\\n        \"BURO_MONTHS_BALANCE_SIZE_SUM\":0.0,\\n        \"BURO_CREDIT_ACTIVE_Active_MEAN\":0.0,\\n        \"BURO_CREDIT_ACTIVE_Bad debt_MEAN\":0.0,\\n        \"BURO_CREDIT_ACTIVE_Closed_MEAN\":0.0,\\n        \"BURO_CREDIT_ACTIVE_Sold_MEAN\":0.0,\\n        \"BURO_CREDIT_ACTIVE_nan_MEAN\":0.0,\\n        \"BURO_CREDIT_CURRENCY_currency 1_MEAN\":0.0,\\n        \"BURO_CREDIT_CURRENCY_currency 2_MEAN\":0.0,\\n        \"BURO_CREDIT_CURRENCY_currency 3_MEAN\":0.0,\\n        \"BURO_CREDIT_CURRENCY_currency 4_MEAN\":0.0,\\n        \"BURO_CREDIT_CURRENCY_nan_MEAN\":0.0,\\n        \"BURO_CREDIT_TYPE_Another type of loan_MEAN\":0.0,\\n        \"BURO_CREDIT_TYPE_Car loan_MEAN\":0.0,\\n        \"BURO_CREDIT_TYPE_Cash loan (non-earmarked)_MEAN\":0.0,\\n        \"BURO_CREDIT_TYPE_Consumer credit_MEAN\":0.0,\\n        \"BURO_CREDIT_TYPE_Credit card_MEAN\":0.0,\\n        \"BURO_CREDIT_TYPE_Interbank credit_MEAN\":0.0,\\n        \"BURO_CREDIT_TYPE_Loan for business development_MEAN\":0.0,\\n        \"BURO_CREDIT_TYPE_Loan for purchase of shares (margin lending)_MEAN\":0.0,\\n        \"BURO_CREDIT_TYPE_Loan for the purchase of equipment_MEAN\":0.0,\\n        \"BURO_CREDIT_TYPE_Loan for working capital replenishment_MEAN\":0.0,\\n        \"BURO_CREDIT_TYPE_Microloan_MEAN\":0.0,\\n        \"BURO_CREDIT_TYPE_Mobile operator loan_MEAN\":0.0,\\n        \"BURO_CREDIT_TYPE_Mortgage_MEAN\":0.0,\\n        \"BURO_CREDIT_TYPE_Real estate loan_MEAN\":0.0,\\n        \"BURO_CREDIT_TYPE_Unknown type of loan_MEAN\":0.0,\\n        \"BURO_CREDIT_TYPE_nan_MEAN\":0.0,\\n        \"BURO_STATUS_0_MEAN_MEAN\":0.0,\\n        \"BURO_STATUS_1_MEAN_MEAN\":0.0,\\n        \"BURO_STATUS_2_MEAN_MEAN\":0.0,\\n        \"BURO_STATUS_3_MEAN_MEAN\":0.0,\\n        \"BURO_STATUS_4_MEAN_MEAN\":0.0,\\n        \"BURO_STATUS_5_MEAN_MEAN\":0.0,\\n        \"BURO_STATUS_C_MEAN_MEAN\":0.0,\\n        \"BURO_STATUS_X_MEAN_MEAN\":0.0,\\n        \"BURO_STATUS_nan_MEAN_MEAN\":0.0,\\n        \"ACTIVE_DAYS_CREDIT_MIN\":0.0,\\n        \"ACTIVE_DAYS_CREDIT_MAX\":0.0,\\n        \"ACTIVE_DAYS_CREDIT_MEAN\":0.0,\\n        \"ACTIVE_DAYS_CREDIT_VAR\":0.0,\\n        \"ACTIVE_DAYS_CREDIT_ENDDATE_MIN\":0.0,\\n        \"ACTIVE_DAYS_CREDIT_ENDDATE_MAX\":0.0,\\n        \"ACTIVE_DAYS_CREDIT_ENDDATE_MEAN\":0.0,\\n        \"ACTIVE_CREDIT_DAY_OVERDUE_MAX\":0.0,\\n        \"ACTIVE_CREDIT_DAY_OVERDUE_MEAN\":0.0,\\n        \"ACTIVE_AMT_CREDIT_MAX_OVERDUE_MEAN\":0.0,\\n        \"ACTIVE_AMT_CREDIT_SUM_MAX\":0.0,\\n        \"ACTIVE_AMT_CREDIT_SUM_MEAN\":0.0,\\n        \"ACTIVE_AMT_CREDIT_SUM_SUM\":0.0,\\n        \"ACTIVE_AMT_CREDIT_SUM_DEBT_MAX\":0.0,\\n        \"ACTIVE_AMT_CREDIT_SUM_DEBT_MEAN\":0.0,\\n        \"ACTIVE_AMT_CREDIT_SUM_DEBT_SUM\":0.0,\\n        \"ACTIVE_AMT_CREDIT_SUM_OVERDUE_MEAN\":0.0,\\n        \"ACTIVE_AMT_CREDIT_SUM_LIMIT_MEAN\":0.0,\\n        \"ACTIVE_AMT_CREDIT_SUM_LIMIT_SUM\":0.0,\\n        \"ACTIVE_AMT_ANNUITY_MAX\":0.0,\\n        \"ACTIVE_AMT_ANNUITY_MEAN\":0.0,\\n        \"ACTIVE_CNT_CREDIT_PROLONG_SUM\":0.0,\\n        \"ACTIVE_MONTHS_BALANCE_MIN_MIN\":0.0,\\n        \"ACTIVE_MONTHS_BALANCE_MAX_MAX\":0.0,\\n        \"ACTIVE_MONTHS_BALANCE_SIZE_MEAN\":0.0,\\n        \"ACTIVE_MONTHS_BALANCE_SIZE_SUM\":0.0,\\n        \"CLOSED_DAYS_CREDIT_MIN\":0.0,\\n        \"CLOSED_DAYS_CREDIT_MAX\":0.0,\\n        \"CLOSED_DAYS_CREDIT_MEAN\":0.0,\\n        \"CLOSED_DAYS_CREDIT_VAR\":0.0,\\n        \"CLOSED_DAYS_CREDIT_ENDDATE_MIN\":0.0,\\n        \"CLOSED_DAYS_CREDIT_ENDDATE_MAX\":0.0,\\n        \"CLOSED_DAYS_CREDIT_ENDDATE_MEAN\":0.0,\\n        \"CLOSED_CREDIT_DAY_OVERDUE_MAX\":0.0,\\n        \"CLOSED_CREDIT_DAY_OVERDUE_MEAN\":0.0,\\n        \"CLOSED_AMT_CREDIT_MAX_OVERDUE_MEAN\":0.0,\\n        \"CLOSED_AMT_CREDIT_SUM_MAX\":0.0,\\n        \"CLOSED_AMT_CREDIT_SUM_MEAN\":0.0,\\n        \"CLOSED_AMT_CREDIT_SUM_SUM\":0.0,\\n        \"CLOSED_AMT_CREDIT_SUM_DEBT_MAX\":0.0,\\n        \"CLOSED_AMT_CREDIT_SUM_DEBT_MEAN\":0.0,\\n        \"CLOSED_AMT_CREDIT_SUM_DEBT_SUM\":0.0,\\n        \"CLOSED_AMT_CREDIT_SUM_OVERDUE_MEAN\":0.0,\\n        \"CLOSED_AMT_CREDIT_SUM_LIMIT_MEAN\":0.0,\\n        \"CLOSED_AMT_CREDIT_SUM_LIMIT_SUM\":0.0,\\n        \"CLOSED_AMT_ANNUITY_MAX\":0.0,\\n        \"CLOSED_AMT_ANNUITY_MEAN\":0.0,\\n        \"CLOSED_CNT_CREDIT_PROLONG_SUM\":0.0,\\n        \"CLOSED_MONTHS_BALANCE_MIN_MIN\":0.0,\\n        \"CLOSED_MONTHS_BALANCE_MAX_MAX\":0.0,\\n        \"CLOSED_MONTHS_BALANCE_SIZE_MEAN\":0.0,\\n        \"CLOSED_MONTHS_BALANCE_SIZE_SUM\":0.0,\\n        \"PREV_AMT_ANNUITY_MIN\":0.0,\\n        \"PREV_AMT_ANNUITY_MAX\":0.0,\\n        \"PREV_AMT_ANNUITY_MEAN\":0.0,\\n        \"PREV_AMT_APPLICATION_MIN\":0.0,\\n        \"PREV_AMT_APPLICATION_MAX\":0.0,\\n        \"PREV_AMT_APPLICATION_MEAN\":0.0,\\n        \"PREV_AMT_CREDIT_MIN\":0.0,\\n        \"PREV_AMT_CREDIT_MAX\":0.0,\\n        \"PREV_AMT_CREDIT_MEAN\":0.0,\\n        \"PREV_APP_CREDIT_PERC_MIN\":0.0,\\n        \"PREV_APP_CREDIT_PERC_MAX\":0.0,\\n        \"PREV_APP_CREDIT_PERC_MEAN\":0.0,\\n        \"PREV_APP_CREDIT_PERC_VAR\":0.0,\\n        \"PREV_AMT_DOWN_PAYMENT_MIN\":0.0,\\n        \"PREV_AMT_DOWN_PAYMENT_MAX\":0.0,\\n        \"PREV_AMT_DOWN_PAYMENT_MEAN\":0.0,\\n        \"PREV_AMT_GOODS_PRICE_MIN\":0.0,\\n        \"PREV_AMT_GOODS_PRICE_MAX\":0.0,\\n        \"PREV_AMT_GOODS_PRICE_MEAN\":0.0,\\n        \"PREV_RATE_DOWN_PAYMENT_MIN\":0.0,\\n        \"PREV_RATE_DOWN_PAYMENT_MAX\":0.0,\\n        \"PREV_RATE_DOWN_PAYMENT_MEAN\":0.0,\\n        \"PREV_CNT_PAYMENT_MEAN\":0.0,\\n        \"PREV_CNT_PAYMENT_SUM\":0.0,\\n        \"PREV_NAME_CONTRACT_TYPE_Cash loans_MEAN\":0.0,\\n        \"PREV_NAME_CONTRACT_TYPE_Consumer loans_MEAN\":0.0,\\n        \"PREV_NAME_CONTRACT_TYPE_Revolving loans_MEAN\":0.0,\\n        \"PREV_NAME_CONTRACT_TYPE_XNA_MEAN\":0.0,\\n        \"PREV_NAME_CONTRACT_TYPE_nan_MEAN\":0.0,\\n        \"PREV_WEEKDAY_APPR_PROCESS_START_FRIDAY_MEAN\":0.0,\\n        \"PREV_WEEKDAY_APPR_PROCESS_START_MONDAY_MEAN\":0.0,\\n        \"PREV_WEEKDAY_APPR_PROCESS_START_SATURDAY_MEAN\":0.0,\\n        \"PREV_WEEKDAY_APPR_PROCESS_START_SUNDAY_MEAN\":0.0,\\n        \"PREV_WEEKDAY_APPR_PROCESS_START_THURSDAY_MEAN\":0.0,\\n        \"PREV_WEEKDAY_APPR_PROCESS_START_TUESDAY_MEAN\":0.0,\\n        \"PREV_WEEKDAY_APPR_PROCESS_START_WEDNESDAY_MEAN\":0.0,\\n        \"PREV_WEEKDAY_APPR_PROCESS_START_nan_MEAN\":0.0,\\n        \"PREV_FLAG_LAST_APPL_PER_CONTRACT_N_MEAN\":0.0,\\n        \"PREV_FLAG_LAST_APPL_PER_CONTRACT_Y_MEAN\":0.0,\\n        \"PREV_FLAG_LAST_APPL_PER_CONTRACT_nan_MEAN\":0.0,\\n        \"PREV_NAME_CASH_LOAN_PURPOSE_Building a house or an annex_MEAN\":0.0,\\n        \"PREV_NAME_CASH_LOAN_PURPOSE_Business development_MEAN\":0.0,\\n        \"PREV_NAME_CASH_LOAN_PURPOSE_Buying a garage_MEAN\":0.0,\\n        \"PREV_NAME_CASH_LOAN_PURPOSE_Buying a holiday home \\\\/ land_MEAN\":0.0,\\n        \"PREV_NAME_CASH_LOAN_PURPOSE_Buying a home_MEAN\":0.0,\\n        \"PREV_NAME_CASH_LOAN_PURPOSE_Buying a new car_MEAN\":0.0,\\n        \"PREV_NAME_CASH_LOAN_PURPOSE_Buying a used car_MEAN\":0.0,\\n        \"PREV_NAME_CASH_LOAN_PURPOSE_Car repairs_MEAN\":0.0,\\n        \"PREV_NAME_CASH_LOAN_PURPOSE_Education_MEAN\":0.0,\\n        \"PREV_NAME_CASH_LOAN_PURPOSE_Everyday expenses_MEAN\":0.0,\\n        \"PREV_NAME_CASH_LOAN_PURPOSE_Furniture_MEAN\":0.0,\\n        \"PREV_NAME_CASH_LOAN_PURPOSE_Gasification \\\\/ water supply_MEAN\":0.0,\\n        \"PREV_NAME_CASH_LOAN_PURPOSE_Hobby_MEAN\":0.0,\\n        \"PREV_NAME_CASH_LOAN_PURPOSE_Journey_MEAN\":0.0,\\n        \"PREV_NAME_CASH_LOAN_PURPOSE_Medicine_MEAN\":0.0,\\n        \"PREV_NAME_CASH_LOAN_PURPOSE_Money for a third person_MEAN\":0.0,\\n        \"PREV_NAME_CASH_LOAN_PURPOSE_Other_MEAN\":0.0,\\n        \"PREV_NAME_CASH_LOAN_PURPOSE_Payments on other loans_MEAN\":0.0,\\n        \"PREV_NAME_CASH_LOAN_PURPOSE_Purchase of electronic equipment_MEAN\":0.0,\\n        \"PREV_NAME_CASH_LOAN_PURPOSE_Refusal to name the goal_MEAN\":0.0,\\n        \"PREV_NAME_CASH_LOAN_PURPOSE_Repairs_MEAN\":0.0,\\n        \"PREV_NAME_CASH_LOAN_PURPOSE_Urgent needs_MEAN\":0.0,\\n        \"PREV_NAME_CASH_LOAN_PURPOSE_Wedding \\\\/ gift \\\\/ holiday_MEAN\":0.0,\\n        \"PREV_NAME_CASH_LOAN_PURPOSE_XAP_MEAN\":0.0,\\n        \"PREV_NAME_CASH_LOAN_PURPOSE_XNA_MEAN\":0.0,\\n        \"PREV_NAME_CASH_LOAN_PURPOSE_nan_MEAN\":0.0,\\n        \"PREV_NAME_CONTRACT_STATUS_Approved_MEAN\":0.0,\\n        \"PREV_NAME_CONTRACT_STATUS_Canceled_MEAN\":0.0,\\n        \"PREV_NAME_CONTRACT_STATUS_Refused_MEAN\":-0.0322319928,\\n        \"PREV_NAME_CONTRACT_STATUS_Unused offer_MEAN\":0.0,\\n        \"PREV_NAME_CONTRACT_STATUS_nan_MEAN\":0.0,\\n        \"PREV_NAME_PAYMENT_TYPE_Cash through the bank_MEAN\":0.0,\\n        \"PREV_NAME_PAYMENT_TYPE_Cashless from the account of the employer_MEAN\":0.0,\\n        \"PREV_NAME_PAYMENT_TYPE_Non-cash from your account_MEAN\":0.0,\\n        \"PREV_NAME_PAYMENT_TYPE_XNA_MEAN\":0.0,\\n        \"PREV_NAME_PAYMENT_TYPE_nan_MEAN\":0.0,\\n        \"PREV_CODE_REJECT_REASON_CLIENT_MEAN\":0.0,\\n        \"PREV_CODE_REJECT_REASON_HC_MEAN\":0.0,\\n        \"PREV_CODE_REJECT_REASON_LIMIT_MEAN\":0.0,\\n        \"PREV_CODE_REJECT_REASON_SCO_MEAN\":0.0,\\n        \"PREV_CODE_REJECT_REASON_SCOFR_MEAN\":0.0,\\n        \"PREV_CODE_REJECT_REASON_SYSTEM_MEAN\":0.0,\\n        \"PREV_CODE_REJECT_REASON_VERIF_MEAN\":0.0,\\n        \"PREV_CODE_REJECT_REASON_XAP_MEAN\":0.0,\\n        \"PREV_CODE_REJECT_REASON_XNA_MEAN\":0.0,\\n        \"PREV_CODE_REJECT_REASON_nan_MEAN\":0.0,\\n        \"PREV_NAME_TYPE_SUITE_Children_MEAN\":0.0,\\n        \"PREV_NAME_TYPE_SUITE_Family_MEAN\":0.0,\\n        \"PREV_NAME_TYPE_SUITE_Group of people_MEAN\":0.0,\\n        \"PREV_NAME_TYPE_SUITE_Other_A_MEAN\":0.0,\\n        \"PREV_NAME_TYPE_SUITE_Other_B_MEAN\":0.0,\\n        \"PREV_NAME_TYPE_SUITE_Spouse, partner_MEAN\":0.0,\\n        \"PREV_NAME_TYPE_SUITE_Unaccompanied_MEAN\":0.0,\\n        \"PREV_NAME_TYPE_SUITE_nan_MEAN\":0.0,\\n        \"PREV_NAME_CLIENT_TYPE_New_MEAN\":0.0,\\n        \"PREV_NAME_CLIENT_TYPE_Refreshed_MEAN\":0.0,\\n        \"PREV_NAME_CLIENT_TYPE_Repeater_MEAN\":0.0,\\n        \"PREV_NAME_CLIENT_TYPE_XNA_MEAN\":0.0,\\n        \"PREV_NAME_CLIENT_TYPE_nan_MEAN\":0.0,\\n        \"PREV_NAME_GOODS_CATEGORY_Additional Service_MEAN\":0.0,\\n        \"PREV_NAME_GOODS_CATEGORY_Animals_MEAN\":0.0,\\n        \"PREV_NAME_GOODS_CATEGORY_Audio\\\\/Video_MEAN\":0.0,\\n        \"PREV_NAME_GOODS_CATEGORY_Auto Accessories_MEAN\":0.0,\\n        \"PREV_NAME_GOODS_CATEGORY_Clothing and Accessories_MEAN\":0.0,\\n        \"PREV_NAME_GOODS_CATEGORY_Computers_MEAN\":0.0,\\n        \"PREV_NAME_GOODS_CATEGORY_Construction Materials_MEAN\":0.0,\\n        \"PREV_NAME_GOODS_CATEGORY_Consumer Electronics_MEAN\":0.0,\\n        \"PREV_NAME_GOODS_CATEGORY_Direct Sales_MEAN\":0.0,\\n        \"PREV_NAME_GOODS_CATEGORY_Education_MEAN\":0.0,\\n        \"PREV_NAME_GOODS_CATEGORY_Fitness_MEAN\":0.0,\\n        \"PREV_NAME_GOODS_CATEGORY_Furniture_MEAN\":0.0,\\n        \"PREV_NAME_GOODS_CATEGORY_Gardening_MEAN\":0.0,\\n        \"PREV_NAME_GOODS_CATEGORY_Homewares_MEAN\":0.0,\\n        \"PREV_NAME_GOODS_CATEGORY_House Construction_MEAN\":0.0,\\n        \"PREV_NAME_GOODS_CATEGORY_Insurance_MEAN\":0.0,\\n        \"PREV_NAME_GOODS_CATEGORY_Jewelry_MEAN\":0.0,\\n        \"PREV_NAME_GOODS_CATEGORY_Medical Supplies_MEAN\":0.0,\\n        \"PREV_NAME_GOODS_CATEGORY_Medicine_MEAN\":0.0,\\n        \"PREV_NAME_GOODS_CATEGORY_Mobile_MEAN\":0.0,\\n        \"PREV_NAME_GOODS_CATEGORY_Office Appliances_MEAN\":0.0,\\n        \"PREV_NAME_GOODS_CATEGORY_Other_MEAN\":0.0,\\n        \"PREV_NAME_GOODS_CATEGORY_Photo \\\\/ Cinema Equipment_MEAN\":0.0,\\n        \"PREV_NAME_GOODS_CATEGORY_Sport and Leisure_MEAN\":0.0,\\n        \"PREV_NAME_GOODS_CATEGORY_Tourism_MEAN\":0.0,\\n        \"PREV_NAME_GOODS_CATEGORY_Vehicles_MEAN\":0.0,\\n        \"PREV_NAME_GOODS_CATEGORY_Weapon_MEAN\":0.0,\\n        \"PREV_NAME_GOODS_CATEGORY_XNA_MEAN\":0.0,\\n        \"PREV_NAME_GOODS_CATEGORY_nan_MEAN\":0.0,\\n        \"PREV_NAME_PORTFOLIO_Cards_MEAN\":0.0,\\n        \"PREV_NAME_PORTFOLIO_Cars_MEAN\":0.0,\\n        \"PREV_NAME_PORTFOLIO_Cash_MEAN\":0.0,\\n        \"PREV_NAME_PORTFOLIO_POS_MEAN\":0.0,\\n        \"PREV_NAME_PORTFOLIO_XNA_MEAN\":0.0,\\n        \"PREV_NAME_PORTFOLIO_nan_MEAN\":0.0,\\n        \"PREV_NAME_PRODUCT_TYPE_XNA_MEAN\":0.0,\\n        \"PREV_NAME_PRODUCT_TYPE_walk-in_MEAN\":-0.0069858449,\\n        \"PREV_NAME_PRODUCT_TYPE_x-sell_MEAN\":0.0,\\n        \"PREV_NAME_PRODUCT_TYPE_nan_MEAN\":0.0,\\n        \"PREV_CHANNEL_TYPE_AP+ (Cash loan)_MEAN\":0.0,\\n        \"PREV_CHANNEL_TYPE_Car dealer_MEAN\":0.0,\\n        \"PREV_CHANNEL_TYPE_Channel of corporate sales_MEAN\":0.0,\\n        \"PREV_CHANNEL_TYPE_Contact center_MEAN\":0.0,\\n        \"PREV_CHANNEL_TYPE_Country-wide_MEAN\":0.0,\\n        \"PREV_CHANNEL_TYPE_Credit and cash offices_MEAN\":0.0,\\n        \"PREV_CHANNEL_TYPE_Regional \\\\/ Local_MEAN\":0.0,\\n        \"PREV_CHANNEL_TYPE_Stone_MEAN\":0.0,\\n        \"PREV_CHANNEL_TYPE_nan_MEAN\":0.0,\\n        \"PREV_NAME_SELLER_INDUSTRY_Auto technology_MEAN\":0.0,\\n        \"PREV_NAME_SELLER_INDUSTRY_Clothing_MEAN\":0.0,\\n        \"PREV_NAME_SELLER_INDUSTRY_Connectivity_MEAN\":0.0,\\n        \"PREV_NAME_SELLER_INDUSTRY_Construction_MEAN\":0.0,\\n        \"PREV_NAME_SELLER_INDUSTRY_Consumer electronics_MEAN\":0.0,\\n        \"PREV_NAME_SELLER_INDUSTRY_Furniture_MEAN\":0.0,\\n        \"PREV_NAME_SELLER_INDUSTRY_Industry_MEAN\":0.0,\\n        \"PREV_NAME_SELLER_INDUSTRY_Jewelry_MEAN\":0.0,\\n        \"PREV_NAME_SELLER_INDUSTRY_MLM partners_MEAN\":0.0,\\n        \"PREV_NAME_SELLER_INDUSTRY_Tourism_MEAN\":0.0,\\n        \"PREV_NAME_SELLER_INDUSTRY_XNA_MEAN\":0.0,\\n        \"PREV_NAME_SELLER_INDUSTRY_nan_MEAN\":0.0,\\n        \"PREV_NAME_YIELD_GROUP_XNA_MEAN\":0.0,\\n        \"PREV_NAME_YIELD_GROUP_high_MEAN\":0.0,\\n        \"PREV_NAME_YIELD_GROUP_low_action_MEAN\":0.0,\\n        \"PREV_NAME_YIELD_GROUP_low_normal_MEAN\":0.0,\\n        \"PREV_NAME_YIELD_GROUP_middle_MEAN\":0.0,\\n        \"PREV_NAME_YIELD_GROUP_nan_MEAN\":0.0,\\n        \"PREV_PRODUCT_COMBINATION_Card Street_MEAN\":0.0,\\n        \"PREV_PRODUCT_COMBINATION_Card X-Sell_MEAN\":0.0,\\n        \"PREV_PRODUCT_COMBINATION_Cash_MEAN\":0.0,\\n        \"PREV_PRODUCT_COMBINATION_Cash Street: high_MEAN\":0.0,\\n        \"PREV_PRODUCT_COMBINATION_Cash Street: low_MEAN\":0.0,\\n        \"PREV_PRODUCT_COMBINATION_Cash Street: middle_MEAN\":0.0,\\n        \"PREV_PRODUCT_COMBINATION_Cash X-Sell: high_MEAN\":0.0,\\n        \"PREV_PRODUCT_COMBINATION_Cash X-Sell: low_MEAN\":0.0,\\n        \"PREV_PRODUCT_COMBINATION_Cash X-Sell: middle_MEAN\":0.0,\\n        \"PREV_PRODUCT_COMBINATION_POS household with interest_MEAN\":0.0,\\n        \"PREV_PRODUCT_COMBINATION_POS household without interest_MEAN\":0.0,\\n        \"PREV_PRODUCT_COMBINATION_POS industry with interest_MEAN\":0.0,\\n        \"PREV_PRODUCT_COMBINATION_POS industry without interest_MEAN\":0.0,\\n        \"PREV_PRODUCT_COMBINATION_POS mobile with interest_MEAN\":0.0,\\n        \"PREV_PRODUCT_COMBINATION_POS mobile without interest_MEAN\":0.0,\\n        \"PREV_PRODUCT_COMBINATION_POS other with interest_MEAN\":0.0,\\n        \"PREV_PRODUCT_COMBINATION_POS others without interest_MEAN\":0.0,\\n        \"PREV_PRODUCT_COMBINATION_nan_MEAN\":0.0,\\n        \"APPROVED_AMT_ANNUITY_MIN\":0.0,\\n        \"APPROVED_AMT_ANNUITY_MAX\":0.0,\\n        \"APPROVED_AMT_ANNUITY_MEAN\":0.0,\\n        \"APPROVED_AMT_APPLICATION_MIN\":0.0,\\n        \"APPROVED_AMT_APPLICATION_MAX\":0.0,\\n        \"APPROVED_AMT_APPLICATION_MEAN\":0.0,\\n        \"APPROVED_AMT_CREDIT_MIN\":0.0,\\n        \"APPROVED_AMT_CREDIT_MAX\":0.0,\\n        \"APPROVED_AMT_CREDIT_MEAN\":0.0,\\n        \"APPROVED_APP_CREDIT_PERC_MIN\":0.0,\\n        \"APPROVED_APP_CREDIT_PERC_MAX\":0.0,\\n        \"APPROVED_APP_CREDIT_PERC_MEAN\":0.0,\\n        \"APPROVED_APP_CREDIT_PERC_VAR\":0.0,\\n        \"APPROVED_AMT_DOWN_PAYMENT_MIN\":0.0,\\n        \"APPROVED_AMT_DOWN_PAYMENT_MAX\":0.0,\\n        \"APPROVED_AMT_DOWN_PAYMENT_MEAN\":0.0,\\n        \"APPROVED_AMT_GOODS_PRICE_MIN\":0.0,\\n        \"APPROVED_AMT_GOODS_PRICE_MAX\":0.0,\\n        \"APPROVED_AMT_GOODS_PRICE_MEAN\":0.0,\\n        \"APPROVED_RATE_DOWN_PAYMENT_MIN\":0.0,\\n        \"APPROVED_RATE_DOWN_PAYMENT_MAX\":0.0,\\n        \"APPROVED_RATE_DOWN_PAYMENT_MEAN\":0.0,\\n        \"APPROVED_CNT_PAYMENT_MEAN\":0.0,\\n        \"APPROVED_CNT_PAYMENT_SUM\":0.0,\\n        \"REFUSED_AMT_ANNUITY_MIN\":0.0,\\n        \"REFUSED_AMT_ANNUITY_MAX\":0.0,\\n        \"REFUSED_AMT_ANNUITY_MEAN\":0.0,\\n        \"REFUSED_AMT_APPLICATION_MIN\":0.0,\\n        \"REFUSED_AMT_APPLICATION_MAX\":0.0,\\n        \"REFUSED_AMT_APPLICATION_MEAN\":0.0,\\n        \"REFUSED_AMT_CREDIT_MIN\":0.0,\\n        \"REFUSED_AMT_CREDIT_MAX\":0.0,\\n        \"REFUSED_AMT_CREDIT_MEAN\":0.0,\\n        \"REFUSED_APP_CREDIT_PERC_MIN\":0.0,\\n        \"REFUSED_APP_CREDIT_PERC_MAX\":0.0,\\n        \"REFUSED_APP_CREDIT_PERC_MEAN\":0.0,\\n        \"REFUSED_APP_CREDIT_PERC_VAR\":0.0,\\n        \"REFUSED_AMT_DOWN_PAYMENT_MIN\":0.0,\\n        \"REFUSED_AMT_DOWN_PAYMENT_MAX\":0.0,\\n        \"REFUSED_AMT_DOWN_PAYMENT_MEAN\":0.0,\\n        \"REFUSED_AMT_GOODS_PRICE_MIN\":0.0,\\n        \"REFUSED_AMT_GOODS_PRICE_MAX\":0.0,\\n        \"REFUSED_AMT_GOODS_PRICE_MEAN\":0.0,\\n        \"REFUSED_RATE_DOWN_PAYMENT_MIN\":0.0,\\n        \"REFUSED_RATE_DOWN_PAYMENT_MAX\":0.0,\\n        \"REFUSED_RATE_DOWN_PAYMENT_MEAN\":0.0,\\n        \"REFUSED_CNT_PAYMENT_MEAN\":0.0,\\n        \"REFUSED_CNT_PAYMENT_SUM\":0.0,\\n        \"POS_MONTHS_BALANCE_MAX\":0.0,\\n        \"POS_MONTHS_BALANCE_MEAN\":0.0,\\n        \"POS_MONTHS_BALANCE_SIZE\":0.0,\\n        \"POS_SK_DPD_MAX\":0.0,\\n        \"POS_SK_DPD_MEAN\":0.0,\\n        \"POS_SK_DPD_DEF_MAX\":0.0,\\n        \"POS_SK_DPD_DEF_MEAN\":0.0,\\n        \"POS_NAME_CONTRACT_STATUS_Active_MEAN\":0.0,\\n        \"POS_NAME_CONTRACT_STATUS_Amortized debt_MEAN\":0.0,\\n        \"POS_NAME_CONTRACT_STATUS_Approved_MEAN\":0.0,\\n        \"POS_NAME_CONTRACT_STATUS_Canceled_MEAN\":0.0,\\n        \"POS_NAME_CONTRACT_STATUS_Completed_MEAN\":0.0,\\n        \"POS_NAME_CONTRACT_STATUS_Demand_MEAN\":0.0,\\n        \"POS_NAME_CONTRACT_STATUS_Returned to the store_MEAN\":0.0,\\n        \"POS_NAME_CONTRACT_STATUS_Signed_MEAN\":0.0,\\n        \"POS_NAME_CONTRACT_STATUS_XNA_MEAN\":0.0,\\n        \"POS_NAME_CONTRACT_STATUS_nan_MEAN\":0.0,\\n        \"POS_COUNT\":0.0,\\n        \"INSTAL_NUM_INSTALMENT_VERSION_NUNIQUE\":0.0,\\n        \"INSTAL_DPD_MAX\":0.0,\\n        \"INSTAL_DPD_MEAN\":0.0,\\n        \"INSTAL_DPD_SUM\":0.0,\\n        \"INSTAL_DBD_MAX\":0.0,\\n        \"INSTAL_DBD_MEAN\":0.0,\\n        \"INSTAL_DBD_SUM\":0.0,\\n        \"INSTAL_PAYMENT_PERC_MAX\":0.0,\\n        \"INSTAL_PAYMENT_PERC_MEAN\":0.0,\\n        \"INSTAL_PAYMENT_PERC_SUM\":0.0,\\n        \"INSTAL_PAYMENT_PERC_VAR\":0.0,\\n        \"INSTAL_PAYMENT_DIFF_MAX\":0.0,\\n        \"INSTAL_PAYMENT_DIFF_MEAN\":0.0,\\n        \"INSTAL_PAYMENT_DIFF_SUM\":0.0,\\n        \"INSTAL_PAYMENT_DIFF_VAR\":0.0,\\n        \"INSTAL_AMT_INSTALMENT_MAX\":0.0,\\n        \"INSTAL_AMT_INSTALMENT_MEAN\":0.0,\\n        \"INSTAL_AMT_INSTALMENT_SUM\":0.0,\\n        \"INSTAL_AMT_PAYMENT_MIN\":0.0,\\n        \"INSTAL_AMT_PAYMENT_MAX\":0.0,\\n        \"INSTAL_AMT_PAYMENT_MEAN\":0.0,\\n        \"INSTAL_AMT_PAYMENT_SUM\":0.0,\\n        \"INSTAL_DAYS_ENTRY_PAYMENT_MAX\":0.0,\\n        \"INSTAL_DAYS_ENTRY_PAYMENT_MEAN\":0.0,\\n        \"INSTAL_DAYS_ENTRY_PAYMENT_SUM\":0.0,\\n        \"INSTAL_COUNT\":0.0,\\n        \"CC_MONTHS_BALANCE_MIN\":0.0,\\n        \"CC_MONTHS_BALANCE_MAX\":0.0,\\n        \"CC_MONTHS_BALANCE_MEAN\":0.0,\\n        \"CC_MONTHS_BALANCE_SUM\":0.0,\\n        \"CC_MONTHS_BALANCE_VAR\":0.0,\\n        \"CC_AMT_BALANCE_MIN\":0.0,\\n        \"CC_AMT_BALANCE_MAX\":0.0,\\n        \"CC_AMT_BALANCE_MEAN\":0.0,\\n        \"CC_AMT_BALANCE_SUM\":0.0,\\n        \"CC_AMT_BALANCE_VAR\":0.0,\\n        \"CC_AMT_CREDIT_LIMIT_ACTUAL_MIN\":0.0,\\n        \"CC_AMT_CREDIT_LIMIT_ACTUAL_MAX\":0.0,\\n        \"CC_AMT_CREDIT_LIMIT_ACTUAL_MEAN\":0.0,\\n        \"CC_AMT_CREDIT_LIMIT_ACTUAL_SUM\":0.0,\\n        \"CC_AMT_CREDIT_LIMIT_ACTUAL_VAR\":0.0,\\n        \"CC_AMT_DRAWINGS_ATM_CURRENT_MIN\":0.0,\\n        \"CC_AMT_DRAWINGS_ATM_CURRENT_MAX\":0.0,\\n        \"CC_AMT_DRAWINGS_ATM_CURRENT_MEAN\":0.0,\\n        \"CC_AMT_DRAWINGS_ATM_CURRENT_SUM\":0.0,\\n        \"CC_AMT_DRAWINGS_ATM_CURRENT_VAR\":0.0,\\n        \"CC_AMT_DRAWINGS_CURRENT_MIN\":0.0,\\n        \"CC_AMT_DRAWINGS_CURRENT_MAX\":0.0,\\n        \"CC_AMT_DRAWINGS_CURRENT_MEAN\":0.0,\\n        \"CC_AMT_DRAWINGS_CURRENT_SUM\":0.0,\\n        \"CC_AMT_DRAWINGS_CURRENT_VAR\":0.0,\\n        \"CC_AMT_DRAWINGS_OTHER_CURRENT_MIN\":0.0,\\n        \"CC_AMT_DRAWINGS_OTHER_CURRENT_MAX\":0.0,\\n        \"CC_AMT_DRAWINGS_OTHER_CURRENT_MEAN\":0.0,\\n        \"CC_AMT_DRAWINGS_OTHER_CURRENT_SUM\":0.0,\\n        \"CC_AMT_DRAWINGS_OTHER_CURRENT_VAR\":0.0,\\n        \"CC_AMT_DRAWINGS_POS_CURRENT_MIN\":0.0,\\n        \"CC_AMT_DRAWINGS_POS_CURRENT_MAX\":0.0,\\n        \"CC_AMT_DRAWINGS_POS_CURRENT_MEAN\":0.0,\\n        \"CC_AMT_DRAWINGS_POS_CURRENT_SUM\":0.0,\\n        \"CC_AMT_DRAWINGS_POS_CURRENT_VAR\":0.0,\\n        \"CC_AMT_INST_MIN_REGULARITY_MIN\":0.0,\\n        \"CC_AMT_INST_MIN_REGULARITY_MAX\":0.0,\\n        \"CC_AMT_INST_MIN_REGULARITY_MEAN\":0.0,\\n        \"CC_AMT_INST_MIN_REGULARITY_SUM\":0.0,\\n        \"CC_AMT_INST_MIN_REGULARITY_VAR\":0.0,\\n        \"CC_AMT_PAYMENT_CURRENT_MIN\":0.0,\\n        \"CC_AMT_PAYMENT_CURRENT_MAX\":0.0,\\n        \"CC_AMT_PAYMENT_CURRENT_MEAN\":0.0,\\n        \"CC_AMT_PAYMENT_CURRENT_SUM\":0.0,\\n        \"CC_AMT_PAYMENT_CURRENT_VAR\":0.0,\\n        \"CC_AMT_PAYMENT_TOTAL_CURRENT_MIN\":0.0,\\n        \"CC_AMT_PAYMENT_TOTAL_CURRENT_MAX\":0.0,\\n        \"CC_AMT_PAYMENT_TOTAL_CURRENT_MEAN\":0.0,\\n        \"CC_AMT_PAYMENT_TOTAL_CURRENT_SUM\":0.0,\\n        \"CC_AMT_PAYMENT_TOTAL_CURRENT_VAR\":0.0,\\n        \"CC_AMT_RECEIVABLE_PRINCIPAL_MIN\":0.0,\\n        \"CC_AMT_RECEIVABLE_PRINCIPAL_MAX\":0.0,\\n        \"CC_AMT_RECEIVABLE_PRINCIPAL_MEAN\":0.0,\\n        \"CC_AMT_RECEIVABLE_PRINCIPAL_SUM\":0.0,\\n        \"CC_AMT_RECEIVABLE_PRINCIPAL_VAR\":0.0,\\n        \"CC_AMT_RECIVABLE_MIN\":0.0,\\n        \"CC_AMT_RECIVABLE_MAX\":0.0,\\n        \"CC_AMT_RECIVABLE_MEAN\":0.0,\\n        \"CC_AMT_RECIVABLE_SUM\":0.0,\\n        \"CC_AMT_RECIVABLE_VAR\":0.0,\\n        \"CC_AMT_TOTAL_RECEIVABLE_MIN\":0.0,\\n        \"CC_AMT_TOTAL_RECEIVABLE_MAX\":0.0,\\n        \"CC_AMT_TOTAL_RECEIVABLE_MEAN\":0.0,\\n        \"CC_AMT_TOTAL_RECEIVABLE_SUM\":0.0,\\n        \"CC_AMT_TOTAL_RECEIVABLE_VAR\":0.0,\\n        \"CC_CNT_DRAWINGS_ATM_CURRENT_MIN\":0.0,\\n        \"CC_CNT_DRAWINGS_ATM_CURRENT_MAX\":0.0,\\n        \"CC_CNT_DRAWINGS_ATM_CURRENT_MEAN\":0.0,\\n        \"CC_CNT_DRAWINGS_ATM_CURRENT_SUM\":0.0,\\n        \"CC_CNT_DRAWINGS_ATM_CURRENT_VAR\":0.0,\\n        \"CC_CNT_DRAWINGS_CURRENT_MIN\":0.0,\\n        \"CC_CNT_DRAWINGS_CURRENT_MAX\":0.0,\\n        \"CC_CNT_DRAWINGS_CURRENT_MEAN\":0.0,\\n        \"CC_CNT_DRAWINGS_CURRENT_SUM\":0.0,\\n        \"CC_CNT_DRAWINGS_CURRENT_VAR\":0.0,\\n        \"CC_CNT_DRAWINGS_OTHER_CURRENT_MIN\":0.0,\\n        \"CC_CNT_DRAWINGS_OTHER_CURRENT_MAX\":0.0,\\n        \"CC_CNT_DRAWINGS_OTHER_CURRENT_MEAN\":0.0,\\n        \"CC_CNT_DRAWINGS_OTHER_CURRENT_SUM\":0.0,\\n        \"CC_CNT_DRAWINGS_OTHER_CURRENT_VAR\":0.0,\\n        \"CC_CNT_DRAWINGS_POS_CURRENT_MIN\":0.0,\\n        \"CC_CNT_DRAWINGS_POS_CURRENT_MAX\":0.0,\\n        \"CC_CNT_DRAWINGS_POS_CURRENT_MEAN\":0.0,\\n        \"CC_CNT_DRAWINGS_POS_CURRENT_SUM\":0.0,\\n        \"CC_CNT_DRAWINGS_POS_CURRENT_VAR\":0.0,\\n        \"CC_CNT_INSTALMENT_MATURE_CUM_MIN\":0.0,\\n        \"CC_CNT_INSTALMENT_MATURE_CUM_MAX\":0.0,\\n        \"CC_CNT_INSTALMENT_MATURE_CUM_MEAN\":0.0,\\n        \"CC_CNT_INSTALMENT_MATURE_CUM_SUM\":0.0,\\n        \"CC_CNT_INSTALMENT_MATURE_CUM_VAR\":0.0,\\n        \"CC_SK_DPD_MIN\":0.0,\\n        \"CC_SK_DPD_MAX\":0.0,\\n        \"CC_SK_DPD_MEAN\":0.0,\\n        \"CC_SK_DPD_SUM\":0.0,\\n        \"CC_SK_DPD_VAR\":0.0,\\n        \"CC_SK_DPD_DEF_MIN\":0.0,\\n        \"CC_SK_DPD_DEF_MAX\":0.0,\\n        \"CC_SK_DPD_DEF_MEAN\":0.0,\\n        \"CC_SK_DPD_DEF_SUM\":0.0,\\n        \"CC_SK_DPD_DEF_VAR\":0.0,\\n        \"CC_NAME_CONTRACT_STATUS_Active_MIN\":0.0,\\n        \"CC_NAME_CONTRACT_STATUS_Active_MAX\":0.0,\\n        \"CC_NAME_CONTRACT_STATUS_Active_MEAN\":0.0,\\n        \"CC_NAME_CONTRACT_STATUS_Active_SUM\":0.0,\\n        \"CC_NAME_CONTRACT_STATUS_Active_VAR\":0.0,\\n        \"CC_NAME_CONTRACT_STATUS_Approved_MIN\":0.0,\\n        \"CC_NAME_CONTRACT_STATUS_Approved_MAX\":0.0,\\n        \"CC_NAME_CONTRACT_STATUS_Approved_MEAN\":0.0,\\n        \"CC_NAME_CONTRACT_STATUS_Approved_SUM\":0.0,\\n        \"CC_NAME_CONTRACT_STATUS_Approved_VAR\":0.0,\\n        \"CC_NAME_CONTRACT_STATUS_Completed_MIN\":0.0,\\n        \"CC_NAME_CONTRACT_STATUS_Completed_MAX\":0.0,\\n        \"CC_NAME_CONTRACT_STATUS_Completed_MEAN\":0.0,\\n        \"CC_NAME_CONTRACT_STATUS_Completed_SUM\":0.0,\\n        \"CC_NAME_CONTRACT_STATUS_Completed_VAR\":0.0,\\n        \"CC_NAME_CONTRACT_STATUS_Demand_MIN\":0.0,\\n        \"CC_NAME_CONTRACT_STATUS_Demand_MAX\":0.0,\\n        \"CC_NAME_CONTRACT_STATUS_Demand_MEAN\":0.0,\\n        \"CC_NAME_CONTRACT_STATUS_Demand_SUM\":0.0,\\n        \"CC_NAME_CONTRACT_STATUS_Demand_VAR\":0.0,\\n        \"CC_NAME_CONTRACT_STATUS_Refused_MIN\":0.0,\\n        \"CC_NAME_CONTRACT_STATUS_Refused_MAX\":0.0,\\n        \"CC_NAME_CONTRACT_STATUS_Refused_MEAN\":0.0,\\n        \"CC_NAME_CONTRACT_STATUS_Refused_SUM\":0.0,\\n        \"CC_NAME_CONTRACT_STATUS_Refused_VAR\":0.0,\\n        \"CC_NAME_CONTRACT_STATUS_Sent proposal_MIN\":0.0,\\n        \"CC_NAME_CONTRACT_STATUS_Sent proposal_MAX\":0.0,\\n        \"CC_NAME_CONTRACT_STATUS_Sent proposal_MEAN\":0.0,\\n        \"CC_NAME_CONTRACT_STATUS_Sent proposal_SUM\":0.0,\\n        \"CC_NAME_CONTRACT_STATUS_Sent proposal_VAR\":0.0,\\n        \"CC_NAME_CONTRACT_STATUS_Signed_MIN\":0.0,\\n        \"CC_NAME_CONTRACT_STATUS_Signed_MAX\":0.0,\\n        \"CC_NAME_CONTRACT_STATUS_Signed_MEAN\":0.0,\\n        \"CC_NAME_CONTRACT_STATUS_Signed_SUM\":0.0,\\n        \"CC_NAME_CONTRACT_STATUS_Signed_VAR\":0.0,\\n        \"CC_NAME_CONTRACT_STATUS_nan_MIN\":0.0,\\n        \"CC_NAME_CONTRACT_STATUS_nan_MAX\":0.0,\\n        \"CC_NAME_CONTRACT_STATUS_nan_MEAN\":0.0,\\n        \"CC_NAME_CONTRACT_STATUS_nan_SUM\":0.0,\\n        \"CC_NAME_CONTRACT_STATUS_nan_VAR\":0.0,\\n        \"CC_COUNT\":0.0\\n    }\\n}'"
      ]
     },
     "execution_count": 65,
     "metadata": {},
     "output_type": "execute_result"
    }
   ],
   "source": [
    "test_2.to_json(indent=4)"
   ]
  },
  {
   "cell_type": "code",
   "execution_count": 54,
   "metadata": {},
   "outputs": [
    {
     "data": {
      "image/png": "[encoded data removed]",
      "text/plain": [
       "<Figure size 640x480 with 1 Axes>"
      ]
     },
     "metadata": {},
     "output_type": "display_data"
    },
    {
     "data": {
      "text/plain": [
       "Text(0.5, 0.98, 'Explainer ')"
      ]
     },
     "execution_count": 54,
     "metadata": {},
     "output_type": "execute_result"
    },
    {
     "data": {
      "text/plain": [
       "<Figure size 640x480 with 0 Axes>"
      ]
     },
     "metadata": {},
     "output_type": "display_data"
    }
   ],
   "source": [
    "shap.bar_plot(shap_values, max_display=10, show=True, feature_names=data_scaled.columns)\n",
    "fig = plt.gcf()\n",
    "fig.suptitle('Explainer ', fontsize=16)"
   ]
  },
  {
   "cell_type": "code",
   "execution_count": null,
   "metadata": {},
   "outputs": [],
   "source": []
  },
  {
   "cell_type": "code",
   "execution_count": null,
   "metadata": {},
   "outputs": [],
   "source": []
  },
  {
   "cell_type": "code",
   "execution_count": 244,
   "metadata": {},
   "outputs": [],
   "source": [
    "shap_values_ind = explainer_LogReg.shap_values(X_test.loc[idx])"
   ]
  },
  {
   "cell_type": "code",
   "execution_count": 258,
   "metadata": {},
   "outputs": [
    {
     "data": {
      "image/png": "[encoded data removed]",
      "text/plain": [
       "<Figure size 640x480 with 1 Axes>"
      ]
     },
     "metadata": {},
     "output_type": "display_data"
    },
    {
     "data": {
      "text/plain": [
       "Text(0.5, 0.98, 'Explainer ')"
      ]
     },
     "execution_count": 258,
     "metadata": {},
     "output_type": "execute_result"
    },
    {
     "data": {
      "text/plain": [
       "<Figure size 640x480 with 0 Axes>"
      ]
     },
     "metadata": {},
     "output_type": "display_data"
    }
   ],
   "source": [
    "shap.bar_plot(shap_values_ind, max_display=10, show=True, feature_names=X_test.columns)\n",
    "fig = plt.gcf()\n",
    "fig.suptitle('Explainer ', fontsize=16)"
   ]
  },
  {
   "cell_type": "markdown",
   "metadata": {},
   "source": [
    "# Tests\n"
   ]
  },
  {
   "cell_type": "code",
   "execution_count": 86,
   "metadata": {},
   "outputs": [],
   "source": [
    "import shap\n",
    "from lime.lime_tabular import LimeTabularExplainer"
   ]
  },
  {
   "cell_type": "code",
   "execution_count": 87,
   "metadata": {},
   "outputs": [
    {
     "data": {
      "text/plain": [
       "array([[-0.03057112,  0.        ,  0.        ,  0.        ,  0.        ,\n",
       "         0.        ,  0.        ,  0.        ,  0.        ,  0.        ,\n",
       "         0.05797101,  0.        ,  0.        ,  0.        ,  0.        ,\n",
       "         0.        ,  0.        ,  0.        ,  0.        ,  0.        ,\n",
       "         0.        ,  0.        ,  0.        ,  0.        ,  0.        ,\n",
       "         0.        ,  0.        ,  0.        ,  0.        ,  0.        ,\n",
       "        -0.15770097, -0.35409012, -0.38211292,  0.        ,  0.        ,\n",
       "         0.        ,  0.        ,  0.        ,  0.        ,  0.        ,\n",
       "         0.        ,  0.        ,  0.        ,  0.        ,  0.        ,\n",
       "         0.        ,  0.        ,  0.        ,  0.        ,  0.        ,\n",
       "         0.        ,  0.        ,  0.        ,  0.        ,  0.        ,\n",
       "         0.        ,  0.        ,  0.        ,  0.        ,  0.        ,\n",
       "         0.        ,  0.        ,  0.        ,  0.        ,  0.        ,\n",
       "         0.        ,  0.        ,  0.        ,  0.        ,  0.        ,\n",
       "         0.        ,  0.        ,  0.        ,  0.        ,  0.        ,\n",
       "         0.        ,  0.        ,  0.        ,  0.        ,  0.        ,\n",
       "         0.        ,  0.        ,  0.01017339,  0.        ,  0.        ,\n",
       "         0.        ,  0.        ,  0.        ,  0.        ,  0.        ,\n",
       "         0.        ,  0.        ,  0.        ,  0.        ,  0.        ,\n",
       "         0.        ,  0.        ,  0.        ,  0.        ,  0.        ,\n",
       "         0.        ,  0.        ,  0.        ,  0.        ,  0.        ,\n",
       "         0.        ,  0.        ,  0.        ,  0.        ,  0.        ,\n",
       "         0.        ,  0.        ,  0.        ,  0.        ,  0.        ,\n",
       "         0.        ,  0.        ,  0.        ,  0.        ,  0.        ,\n",
       "         0.        ,  0.        ,  0.        ,  0.        ,  0.01720458,\n",
       "         0.        ,  0.        , -0.04448775,  0.        ,  0.        ,\n",
       "         0.        ,  0.        ,  0.        ,  0.        ,  0.        ,\n",
       "         0.        ,  0.        ,  0.        ,  0.        ,  0.        ,\n",
       "         0.        ,  0.        ,  0.        ,  0.        ,  0.        ,\n",
       "         0.        ,  0.        ,  0.        ,  0.        ,  0.        ,\n",
       "         0.        ,  0.        ,  0.        ,  0.        ,  0.        ,\n",
       "         0.        ,  0.        ,  0.        ,  0.        ,  0.        ,\n",
       "         0.        ,  0.        ,  0.        ,  0.        ,  0.        ,\n",
       "         0.        ,  0.        ,  0.        ,  0.        ,  0.        ,\n",
       "         0.        ,  0.        ,  0.        ,  0.        ,  0.        ,\n",
       "         0.        ,  0.        ,  0.        ,  0.        ,  0.        ,\n",
       "         0.        ,  0.        ,  0.        ,  0.        ,  0.        ,\n",
       "         0.        ,  0.        ,  0.        ,  0.        ,  0.        ,\n",
       "         0.        ,  0.        ,  0.        ,  0.        ,  0.        ,\n",
       "         0.        ,  0.        ,  0.        ,  0.        ,  0.        ,\n",
       "         0.        ,  0.        ,  0.        ,  0.        ,  0.        ,\n",
       "         0.        ,  0.        ,  0.        ,  0.        ,  0.        ,\n",
       "         0.        ,  0.        ,  0.        ,  0.        ,  0.        ,\n",
       "         0.        ,  0.        ,  0.        ,  0.        ,  0.        ,\n",
       "         0.        ,  0.        ,  0.        ,  0.        ,  0.        ,\n",
       "         0.        ,  0.        ,  0.        ,  0.        ,  0.        ,\n",
       "         0.        ,  0.        ,  0.        ,  0.        ,  0.        ,\n",
       "         0.        ,  0.        ,  0.        ,  0.        ,  0.        ,\n",
       "         0.        ,  0.        ,  0.        ,  0.        ,  0.        ,\n",
       "         0.        ,  0.        ,  0.        ,  0.        ,  0.        ,\n",
       "         0.        ,  0.        ,  0.        ,  0.        ,  0.        ,\n",
       "         0.        ,  0.        ,  0.        ,  0.        ,  0.08220109,\n",
       "         0.        ,  0.        ,  0.        ,  0.        ,  0.        ,\n",
       "         0.        ,  0.        ,  0.        ,  0.        ,  0.        ,\n",
       "         0.        ,  0.        ,  0.        ,  0.        ,  0.        ,\n",
       "         0.        ,  0.        ,  0.        ,  0.        ,  0.        ,\n",
       "         0.        ,  0.        ,  0.        ,  0.        ,  0.        ,\n",
       "         0.        ,  0.        ,  0.        ,  0.        ,  0.        ,\n",
       "         0.        ,  0.        ,  0.        ,  0.        ,  0.        ,\n",
       "         0.        ,  0.        ,  0.        ,  0.        ,  0.        ,\n",
       "         0.        ,  0.        ,  0.        ,  0.        ,  0.        ,\n",
       "         0.        ,  0.        ,  0.        ,  0.        ,  0.        ,\n",
       "         0.        ,  0.        ,  0.        ,  0.        ,  0.        ,\n",
       "         0.        ,  0.        ,  0.        ,  0.        ,  0.        ,\n",
       "         0.        ,  0.        ,  0.        ,  0.        ,  0.        ,\n",
       "         0.        ,  0.        ,  0.        ,  0.        ,  0.        ,\n",
       "         0.        ,  0.        ,  0.        ,  0.        ,  0.        ,\n",
       "         0.        ,  0.        ,  0.        ,  0.        ,  0.        ,\n",
       "         0.        ,  0.        ,  0.        ,  0.        ,  0.        ,\n",
       "         0.        ,  0.        ,  0.        ,  0.        ,  0.        ,\n",
       "         0.        ,  0.        ,  0.        ,  0.        ,  0.        ,\n",
       "         0.        ,  0.        ,  0.        ,  0.        ,  0.        ,\n",
       "         0.        ,  0.        ,  0.        ,  0.        ,  0.        ,\n",
       "         0.        ,  0.        ,  0.        ,  0.        ,  0.        ,\n",
       "         0.        ,  0.        ,  0.        ,  0.        ,  0.        ,\n",
       "         0.        ,  0.        ,  0.        ,  0.        ,  0.        ,\n",
       "         0.        ,  0.        ,  0.        ,  0.        ,  0.        ,\n",
       "         0.        ,  0.        ,  0.        ,  0.        ,  0.        ,\n",
       "         0.        ,  0.        ,  0.        ,  0.        ,  0.        ,\n",
       "         0.        ,  0.        ,  0.        ,  0.        ,  0.        ,\n",
       "         0.        ,  0.        ,  0.        ,  0.        ,  0.        ,\n",
       "         0.        ,  0.        ,  0.        ,  0.        ,  0.        ,\n",
       "         0.        ,  0.        ,  0.        ,  0.        ,  0.        ,\n",
       "         0.        ,  0.        ,  0.        ,  0.        ,  0.        ,\n",
       "         0.        ,  0.        ,  0.        ,  0.        ,  0.        ,\n",
       "         0.        ,  0.        ,  0.        ,  0.        ,  0.        ,\n",
       "         0.        ,  0.        ,  0.        ,  0.        ,  0.        ,\n",
       "         0.        ,  0.        ,  0.        ,  0.        ,  0.        ,\n",
       "         0.        ,  0.        ,  0.        ,  0.        ,  0.        ,\n",
       "         0.        ,  0.        ,  0.0438437 ,  0.        ,  0.        ,\n",
       "         0.        ,  0.        ,  0.        ,  0.        ,  0.        ,\n",
       "         0.        ,  0.        ,  0.        ,  0.        ,  0.        ,\n",
       "         0.        ,  0.        ,  0.        ,  0.        ,  0.        ,\n",
       "         0.        ,  0.        ,  0.        ,  0.        ,  0.        ,\n",
       "         0.        ,  0.        ,  0.        ,  0.        ,  0.        ,\n",
       "         0.        ,  0.        ,  0.        ,  0.        ,  0.        ,\n",
       "         0.        ,  0.        ,  0.        ,  0.        ,  0.        ,\n",
       "         0.        ,  0.        ,  0.        ,  0.        ,  0.        ,\n",
       "         0.        ,  0.        ,  0.        ,  0.        ,  0.        ,\n",
       "         0.        ,  0.        ,  0.        ,  0.        ,  0.        ,\n",
       "         0.        ,  0.        ,  0.        ,  0.        ,  0.        ,\n",
       "         0.        ,  0.        ,  0.        ,  0.        ,  0.        ,\n",
       "         0.        ,  0.        ,  0.        ,  0.        ,  0.01491772,\n",
       "         0.        ,  0.        ,  0.        ,  0.        ,  0.        ,\n",
       "         0.        ,  0.        ,  0.        ,  0.        ,  0.        ,\n",
       "         0.        ,  0.        ,  0.        ,  0.        ,  0.        ,\n",
       "         0.        ,  0.        ,  0.        ,  0.        ,  0.        ,\n",
       "         0.        ,  0.        ,  0.        ,  0.        ,  0.        ,\n",
       "         0.        ,  0.        ,  0.        ,  0.        ,  0.        ,\n",
       "         0.        ,  0.        ,  0.        ,  0.        ,  0.        ,\n",
       "         0.        ,  0.        ,  0.        ,  0.        ,  0.        ,\n",
       "         0.        ,  0.        ,  0.        ,  0.        ,  0.        ,\n",
       "         0.        ,  0.        ,  0.        ,  0.        ,  0.        ,\n",
       "         0.        ,  0.        ,  0.        ,  0.        ,  0.        ,\n",
       "         0.        ,  0.        ,  0.        ,  0.        ,  0.        ,\n",
       "         0.        ,  0.        ,  0.        ,  0.        ,  0.        ,\n",
       "         0.        ,  0.        ,  0.        ,  0.        ,  0.        ,\n",
       "         0.        ,  0.        ,  0.        ,  0.        ,  0.        ,\n",
       "         0.        ,  0.        ,  0.        ,  0.        ,  0.        ,\n",
       "         0.        ,  0.        ,  0.        ,  0.        ,  0.        ,\n",
       "         0.        ,  0.        ,  0.        ,  0.        ,  0.        ,\n",
       "         0.        ,  0.        ,  0.        ,  0.        ,  0.        ,\n",
       "         0.        ,  0.        ,  0.        ,  0.        ,  0.        ,\n",
       "         0.        ,  0.        ,  0.        ,  0.        ,  0.        ,\n",
       "         0.        ,  0.        ,  0.        ,  0.        ,  0.        ,\n",
       "         0.        ,  0.        ,  0.        ,  0.        ,  0.        ,\n",
       "         0.        ,  0.        ,  0.        ,  0.        ,  0.        ,\n",
       "         0.        ,  0.        ,  0.        ,  0.        ,  0.        ,\n",
       "         0.        ,  0.        ,  0.        ,  0.        ,  0.        ,\n",
       "         0.        ,  0.        ,  0.        ,  0.        ,  0.        ,\n",
       "         0.        ,  0.        ,  0.        ,  0.        ,  0.        ,\n",
       "         0.        ,  0.        ,  0.        ,  0.        ,  0.        ,\n",
       "         0.        ,  0.        ,  0.        ,  0.        ,  0.        ,\n",
       "         0.        ,  0.        ,  0.        ,  0.        ,  0.        ,\n",
       "         0.        ,  0.        ,  0.        ,  0.        ,  0.        ,\n",
       "         0.        ,  0.        ,  0.        ,  0.        ,  0.        ,\n",
       "         0.        ,  0.        ,  0.        ,  0.        ,  0.        ,\n",
       "         0.        ,  0.        ,  0.        ,  0.        ,  0.        ,\n",
       "         0.        ,  0.        ,  0.        ,  0.        ,  0.        ,\n",
       "         0.        ,  0.        ,  0.        ,  0.        ,  0.        ,\n",
       "         0.        ,  0.        ,  0.        ,  0.        ,  0.        ,\n",
       "         0.        ,  0.        ,  0.        ,  0.        ,  0.        ,\n",
       "         0.        ,  0.        ,  0.        ,  0.        ,  0.        ,\n",
       "         0.        ,  0.        ,  0.        ,  0.        ,  0.        ,\n",
       "         0.        ,  0.        ,  0.        ,  0.        ,  0.        ,\n",
       "         0.        ,  0.        ,  0.        ,  0.        ,  0.        ,\n",
       "         0.        ,  0.        ,  0.        ,  0.        ,  0.        ,\n",
       "         0.        ,  0.        ,  0.        ,  0.        ,  0.        ,\n",
       "         0.        ,  0.        ,  0.        ,  0.        ,  0.        ,\n",
       "         0.        ,  0.        ,  0.        ,  0.        ,  0.        ,\n",
       "         0.        ,  0.        ,  0.        ,  0.        ,  0.        ,\n",
       "         0.        ,  0.        ,  0.        ,  0.        ,  0.        ,\n",
       "         0.        ,  0.        ,  0.        ,  0.        ,  0.        ,\n",
       "         0.        ,  0.        ,  0.        ,  0.        ,  0.        ,\n",
       "         0.        ,  0.        ,  0.        ,  0.        ,  0.        ,\n",
       "         0.        ,  0.        ,  0.        ,  0.        ,  0.        ,\n",
       "         0.        ,  0.        ,  0.        ,  0.        ,  0.        ,\n",
       "         0.        ,  0.        ,  0.        ,  0.        ,  0.        ,\n",
       "         0.        ,  0.        ,  0.        ,  0.        ,  0.        ]])"
      ]
     },
     "execution_count": 87,
     "metadata": {},
     "output_type": "execute_result"
    }
   ],
   "source": [
    "model.coef_"
   ]
  },
  {
   "cell_type": "code",
   "execution_count": 88,
   "metadata": {},
   "outputs": [
    {
     "data": {
      "image/png": "[encoded data removed]",
      "text/plain": [
       "<Figure size 1500x600 with 1 Axes>"
      ]
     },
     "metadata": {},
     "output_type": "display_data"
    }
   ],
   "source": [
    "plt.figure(figsize=(15,6))\n",
    "logistic_reg_coeff = model.coef_\n",
    "color_list =  sns.color_palette(\"dark\", len(X_train.columns)) \n",
    "top_x = 10\n",
    "logistic_reg_coeff = model.coef_[0]\n",
    "idx = np.argsort(np.abs(logistic_reg_coeff))[::-1] \n",
    "lreg_ax = plt.barh(X_train.columns[idx[:top_x]][::-1], logistic_reg_coeff[idx[:top_x]][::-1])\n",
    "for i,bar in enumerate(lreg_ax):\n",
    "    bar.set_color(color_list[idx[:top_x][::-1][i]])\n",
    "    plt.box(False) \n",
    "lr_title = plt.suptitle(\"Logistic Regression. Top \" + str(top_x) + \" Coefficients.\", fontsize=20, fontweight=\"normal\")\n",
    "plt.show()"
   ]
  },
  {
   "cell_type": "code",
   "execution_count": 39,
   "metadata": {},
   "outputs": [],
   "source": [
    "top_x = 10\n",
    "logistic_reg_coeff = model.coef_[0]\n",
    "idx = np.argsort(np.abs(logistic_reg_coeff))[::-1]"
   ]
  },
  {
   "cell_type": "code",
   "execution_count": 40,
   "metadata": {},
   "outputs": [
    {
     "data": {
      "text/plain": [
       "array([ 0.01491772,  0.01720458, -0.03057112,  0.0438437 , -0.04448775,\n",
       "        0.05797101,  0.08220109, -0.15770097, -0.35409012, -0.38211292])"
      ]
     },
     "execution_count": 40,
     "metadata": {},
     "output_type": "execute_result"
    }
   ],
   "source": [
    "logistic_reg_coeff[idx[:top_x]][::-1]"
   ]
  },
  {
   "cell_type": "markdown",
   "metadata": {},
   "source": [
    "Explications avec LIME : \n",
    "L'explication indépendante du modèle interprétable local (LIME) fournit une méthode rapide et relativement simple pour expliquer localement les modèles de boîte noire. L'algorithme LIME peut être simplifié en quelques étapes.\n",
    "\n",
    "Pour un point de données donné, perturbez de manière aléatoire ses caractéristiques à plusieurs reprises. Pour les données tabulaires, cela implique d'ajouter une petite quantité de bruit à chaque entité.\n",
    "\n",
    "Obtenez des prédictions pour chaque instance de données perturbée. Cela nous aide à construire une image locale de la surface de décision à ce point.\n",
    "\n",
    "Utilisez des prédictions pour calculer un \"modèle d'explication\" linéaire approximatif à l'aide de prédictions. Les coefficients du modèle linéaire sont utilisés comme explications.\n",
    "\n",
    "La bibliothèque python LIME fournit des interfaces pour expliquer les modèles construits sur des données tabulaires (TabularExplainer), image (LimeImageExplainer) et texte (LimeTextExplainer).\n",
    "\n",
    "Dans la section suivante, nous tenterons d'expliquer les prédictions à partir d'une seule instance de données de test pour tous nos modèles entraînés à l'aide de LimeTabularExplainer."
   ]
  },
  {
   "cell_type": "markdown",
   "metadata": {},
   "source": [
    "## LIME Tabular Explainer: Explain a test data instance for all models"
   ]
  },
  {
   "cell_type": "code",
   "execution_count": 91,
   "metadata": {},
   "outputs": [
    {
     "data": {
      "text/plain": [
       "array([[ 0.7406445 , -0.70662088,  1.50249259, ...,  0.        ,\n",
       "         0.        ,  0.        ],\n",
       "       [ 0.7406445 , -0.70662088, -0.66556069, ...,  0.        ,\n",
       "         0.        ,  0.        ],\n",
       "       [ 0.7406445 ,  1.41518604, -0.66556069, ...,  0.        ,\n",
       "         0.        , -1.07277923],\n",
       "       ...,\n",
       "       [-1.35017543, -0.70662088, -0.66556069, ...,  0.        ,\n",
       "         0.        , -1.91587007],\n",
       "       [ 0.7406445 , -0.70662088,  1.50249259, ...,  0.        ,\n",
       "         0.        , -0.28589444],\n",
       "       [ 0.7406445 , -0.70662088, -0.66556069, ...,  0.        ,\n",
       "         0.        ,  0.        ]])"
      ]
     },
     "execution_count": 91,
     "metadata": {},
     "output_type": "execute_result"
    }
   ],
   "source": [
    "X_train.values"
   ]
  },
  {
   "cell_type": "markdown",
   "metadata": {},
   "source": [
    "Dans la section suivante, nous allons générer et visualiser les explications de chaux pour un point de données donné dans notre ensemble de test. Nous le ferons pour tous nos modèles entraînés."
   ]
  },
  {
   "cell_type": "code",
   "execution_count": 162,
   "metadata": {},
   "outputs": [],
   "source": [
    " lime_explainer = LimeTabularExplainer(X_train.to_numpy(),\n",
    "                                      feature_names=list(X_train.columns),\n",
    "                                      class_names= {0: 'Solvable', 1: 'Insolvable'},\n",
    "                                      mode=\"classification\"\n",
    "                                      )"
   ]
  },
  {
   "cell_type": "code",
   "execution_count": 249,
   "metadata": {},
   "outputs": [
    {
     "data": {
      "text/plain": [
       "<lime.lime_tabular.LimeTabularExplainer at 0x27288352b60>"
      ]
     },
     "execution_count": 249,
     "metadata": {},
     "output_type": "execute_result"
    }
   ],
   "source": [
    "lime_explainer"
   ]
  },
  {
   "cell_type": "code",
   "execution_count": 254,
   "metadata": {},
   "outputs": [],
   "source": [
    "import dill\n",
    "with open('Lime_Explainer.pkl', 'wb') as f:\n",
    "    dill.dump(explainer, f)"
   ]
  },
  {
   "cell_type": "code",
   "execution_count": 158,
   "metadata": {},
   "outputs": [],
   "source": [
    "import random\n",
    "idx = random.randint(1, len(X_test))"
   ]
  },
  {
   "cell_type": "code",
   "execution_count": 120,
   "metadata": {},
   "outputs": [
    {
     "data": {
      "text/plain": [
       "array([1], dtype=int64)"
      ]
     },
     "execution_count": 120,
     "metadata": {},
     "output_type": "execute_result"
    }
   ],
   "source": [
    "model.predict(X_test.loc[X_test.index == idx])"
   ]
  },
  {
   "cell_type": "code",
   "execution_count": 186,
   "metadata": {},
   "outputs": [
    {
     "data": {
      "text/plain": [
       "21184"
      ]
     },
     "execution_count": 186,
     "metadata": {},
     "output_type": "execute_result"
    }
   ],
   "source": [
    "idx"
   ]
  },
  {
   "cell_type": "code",
   "execution_count": 177,
   "metadata": {},
   "outputs": [
    {
     "data": {
      "text/plain": [
       "CODE_GENDER                         0.740644\n",
       "FLAG_OWN_CAR                       -0.706621\n",
       "FLAG_OWN_REALTY                     1.502493\n",
       "CNT_CHILDREN                       -0.583096\n",
       "AMT_INCOME_TOTAL                   -0.148487\n",
       "                                      ...   \n",
       "CC_NAME_CONTRACT_STATUS_nan_MAX     0.000000\n",
       "CC_NAME_CONTRACT_STATUS_nan_MEAN    0.000000\n",
       "CC_NAME_CONTRACT_STATUS_nan_SUM     0.000000\n",
       "CC_NAME_CONTRACT_STATUS_nan_VAR     0.000000\n",
       "CC_COUNT                            0.000000\n",
       "Name: 21184, Length: 795, dtype: float64"
      ]
     },
     "execution_count": 177,
     "metadata": {},
     "output_type": "execute_result"
    }
   ],
   "source": [
    "X_test.loc[idx]"
   ]
  },
  {
   "cell_type": "code",
   "execution_count": 178,
   "metadata": {},
   "outputs": [
    {
     "name": "stderr",
     "output_type": "stream",
     "text": [
      "X does not have valid feature names, but LogisticRegression was fitted with feature names\n"
     ]
    }
   ],
   "source": [
    "explanation = lime_explainer.explain_instance(X_test.loc[idx], model.predict_proba,\n",
    "                                         num_features=20)"
   ]
  },
  {
   "cell_type": "code",
   "execution_count": 255,
   "metadata": {},
   "outputs": [
    {
     "data": {
      "text/plain": [
       "<lime.explanation.Explanation at 0x2728846b5e0>"
      ]
     },
     "execution_count": 255,
     "metadata": {},
     "output_type": "execute_result"
    }
   ],
   "source": [
    "explanation"
   ]
  },
  {
   "cell_type": "code",
   "execution_count": null,
   "metadata": {},
   "outputs": [],
   "source": []
  }
 ],
 "metadata": {
  "kernelspec": {
   "display_name": "Python 3 (ipykernel)",
   "language": "python",
   "name": "python3"
  },
  "language_info": {
   "codemirror_mode": {
    "name": "ipython",
    "version": 3
   },
   "file_extension": ".py",
   "mimetype": "text/x-python",
   "name": "python",
   "nbconvert_exporter": "python",
   "pygments_lexer": "ipython3",
   "version": "3.8.0"
  },
  "toc": {
   "base_numbering": 1,
   "nav_menu": {},
   "number_sections": true,
   "sideBar": true,
   "skip_h1_title": false,
   "title_cell": "Table of Contents",
   "title_sidebar": "Contents",
   "toc_cell": false,
   "toc_position": {
    "height": "calc(100% - 180px)",
    "left": "10px",
    "top": "150px",
    "width": "165px"
   },
   "toc_section_display": true,
   "toc_window_display": true
  }
 },
 "nbformat": 4,
 "nbformat_minor": 2
}
