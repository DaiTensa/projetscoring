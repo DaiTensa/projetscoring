{
 "cells": [
  {
   "attachments": {},
   "cell_type": "markdown",
   "metadata": {},
   "source": [
    "# Imprts\n"
   ]
  },
  {
   "cell_type": "code",
   "execution_count": 28,
   "metadata": {},
   "outputs": [],
   "source": [
    "import numpy as np\n",
    "import pandas as pd\n",
    "import seaborn as sns\n",
    "import matplotlib.pyplot as plt\n",
    "\n",
    "\n",
    "#Afficher toutes le colonnes du data frame : \n",
    "pd.set_option('display.max_columns', 200)\n",
    "\n",
    "# Mes fonction - Rapport Data Frame\n",
    "from src.mes_fonction import RapportDataFrame\n",
    "\n",
    "# Data Ingestion : import des data et autres fonctionnalité\n",
    "from src.components.data_ingestion import *"
   ]
  },
  {
   "cell_type": "code",
   "execution_count": 1,
   "metadata": {},
   "outputs": [],
   "source": [
    "import os\n",
    "import sys"
   ]
  },
  {
   "attachments": {},
   "cell_type": "markdown",
   "metadata": {},
   "source": [
    "# Les données"
   ]
  },
  {
   "cell_type": "code",
   "execution_count": 20,
   "metadata": {},
   "outputs": [],
   "source": [
    "# Extraction nom des fichiers et noms des data frames\n",
    "directory_data = DirectoryDataPath()\n",
    "liste_name, files_liste_name = directory_data.get_files_names()"
   ]
  },
  {
   "cell_type": "code",
   "execution_count": 21,
   "metadata": {},
   "outputs": [],
   "source": [
    "# La liste des fichiers : ici j'ai enlevé HomeCredit_columns_description car n'arrive pas à le lire avec pd.read_csv()\n",
    "\n",
    "files_liste_name = ['application_test.csv',\n",
    " 'application_train.csv',\n",
    " 'bureau.csv',\n",
    " 'bureau_balance.csv',\n",
    " 'credit_card_balance.csv',\n",
    " #'HomeCredit_columns_description.csv',\n",
    " 'installments_payments.csv',\n",
    " 'POS_CASH_balance.csv',\n",
    " 'previous_application.csv',\n",
    " 'sample_submission.csv']"
   ]
  },
  {
   "cell_type": "code",
   "execution_count": 22,
   "metadata": {},
   "outputs": [],
   "source": [
    "# Attribution des noms de dataframe respectifs : \n",
    "liste_name = ['application_test',\n",
    " 'application_train',\n",
    " 'bureau',\n",
    " 'bureau_balance',\n",
    " 'credit_card_balance',\n",
    " #'HomeCredit_columns_description',\n",
    " 'installments_payments',\n",
    " 'POS_CASH_balance',\n",
    " 'previous_application',\n",
    " 'sample_submission']\n",
    "\n",
    " # Importation et nommage des data sets\n",
    "path = 'C:/Users/Lenovo/Documents/DSPython/data_projet_7/'\n",
    "for i, name in enumerate(liste_name):\n",
    "    exec(f\"{name} = pd.read_csv(path + files_liste_name[i])\")"
   ]
  },
  {
   "attachments": {},
   "cell_type": "markdown",
   "metadata": {},
   "source": [
    "Pour importer que les deux sets application_train et application_test, on peut utiliser la méthode suivante : "
   ]
  },
  {
   "cell_type": "code",
   "execution_count": 26,
   "metadata": {},
   "outputs": [],
   "source": [
    "data = ImportData()\n",
    "train__, test__ = data.train_test_set()"
   ]
  },
  {
   "cell_type": "markdown",
   "metadata": {},
   "source": [
    "## Exploration des données"
   ]
  },
  {
   "cell_type": "code",
   "execution_count": 25,
   "metadata": {},
   "outputs": [
    {
     "data": {
      "text/html": [
       "<div>\n",
       "<style scoped>\n",
       "    .dataframe tbody tr th:only-of-type {\n",
       "        vertical-align: middle;\n",
       "    }\n",
       "\n",
       "    .dataframe tbody tr th {\n",
       "        vertical-align: top;\n",
       "    }\n",
       "\n",
       "    .dataframe thead th {\n",
       "        text-align: right;\n",
       "    }\n",
       "</style>\n",
       "<table border=\"1\" class=\"dataframe\">\n",
       "  <thead>\n",
       "    <tr style=\"text-align: right;\">\n",
       "      <th></th>\n",
       "      <th>DataFrame</th>\n",
       "      <th>Lignes</th>\n",
       "      <th>Colonnes</th>\n",
       "    </tr>\n",
       "  </thead>\n",
       "  <tbody>\n",
       "    <tr>\n",
       "      <th>0</th>\n",
       "      <td>application_test</td>\n",
       "      <td>48744</td>\n",
       "      <td>121</td>\n",
       "    </tr>\n",
       "    <tr>\n",
       "      <th>1</th>\n",
       "      <td>application_train</td>\n",
       "      <td>307511</td>\n",
       "      <td>122</td>\n",
       "    </tr>\n",
       "    <tr>\n",
       "      <th>2</th>\n",
       "      <td>bureau</td>\n",
       "      <td>1716428</td>\n",
       "      <td>17</td>\n",
       "    </tr>\n",
       "    <tr>\n",
       "      <th>3</th>\n",
       "      <td>bureau_balance</td>\n",
       "      <td>27299925</td>\n",
       "      <td>3</td>\n",
       "    </tr>\n",
       "    <tr>\n",
       "      <th>4</th>\n",
       "      <td>credit_card_balance</td>\n",
       "      <td>3840312</td>\n",
       "      <td>23</td>\n",
       "    </tr>\n",
       "    <tr>\n",
       "      <th>5</th>\n",
       "      <td>installments_payments</td>\n",
       "      <td>13605401</td>\n",
       "      <td>8</td>\n",
       "    </tr>\n",
       "    <tr>\n",
       "      <th>6</th>\n",
       "      <td>POS_CASH_balance</td>\n",
       "      <td>10001358</td>\n",
       "      <td>8</td>\n",
       "    </tr>\n",
       "    <tr>\n",
       "      <th>7</th>\n",
       "      <td>previous_application</td>\n",
       "      <td>1670214</td>\n",
       "      <td>37</td>\n",
       "    </tr>\n",
       "    <tr>\n",
       "      <th>8</th>\n",
       "      <td>sample_submission</td>\n",
       "      <td>48744</td>\n",
       "      <td>2</td>\n",
       "    </tr>\n",
       "  </tbody>\n",
       "</table>\n",
       "</div>"
      ],
      "text/plain": [
       "               DataFrame    Lignes  Colonnes\n",
       "0       application_test     48744       121\n",
       "1      application_train    307511       122\n",
       "2                 bureau   1716428        17\n",
       "3         bureau_balance  27299925         3\n",
       "4    credit_card_balance   3840312        23\n",
       "5  installments_payments  13605401         8\n",
       "6       POS_CASH_balance  10001358         8\n",
       "7   previous_application   1670214        37\n",
       "8      sample_submission     48744         2"
      ]
     },
     "execution_count": 25,
     "metadata": {},
     "output_type": "execute_result"
    }
   ],
   "source": [
    "\n",
    "# Liste des données à afficher : \n",
    "summary_list = []\n",
    "for i, name in enumerate(liste_name):\n",
    "    df = globals()[name]\n",
    "    rows, cols = df.shape\n",
    "    summary = {'DataFrame': name, 'Lignes': rows, 'Colonnes': cols}\n",
    "    summary_list.append(summary)\n",
    "summary_df = pd.DataFrame(summary_list)\n",
    "summary_df"
   ]
  },
  {
   "cell_type": "markdown",
   "metadata": {},
   "source": [
    "### Rapports data frames"
   ]
  },
  {
   "cell_type": "code",
   "execution_count": 29,
   "metadata": {},
   "outputs": [
    {
     "name": "stdout",
     "output_type": "stream",
     "text": [
      "Le Taux de remplissage total est égal à : 75.60405809287056 %\n",
      "Le Nombre de features vides est égal à : 0 Features\n",
      "Les Features vides sont : []\n",
      "\n",
      "*****Nombre de catégorie features catégorielles******\n",
      "\n",
      "NAME_CONTRACT_TYPE-------------------------------- 2\n",
      "CODE_GENDER--------------------------------------- 3\n",
      "FLAG_OWN_CAR-------------------------------------- 2\n",
      "FLAG_OWN_REALTY----------------------------------- 2\n",
      "NAME_TYPE_SUITE----------------------------------- 8\n",
      "NAME_INCOME_TYPE---------------------------------- 8\n",
      "NAME_EDUCATION_TYPE------------------------------- 5\n",
      "NAME_FAMILY_STATUS-------------------------------- 6\n",
      "NAME_HOUSING_TYPE--------------------------------- 6\n",
      "OCCUPATION_TYPE----------------------------------- 19\n",
      "WEEKDAY_APPR_PROCESS_START------------------------ 7\n",
      "ORGANIZATION_TYPE--------------------------------- 58\n",
      "FONDKAPREMONT_MODE-------------------------------- 5\n",
      "HOUSETYPE_MODE------------------------------------ 4\n",
      "WALLSMATERIAL_MODE-------------------------------- 8\n",
      "EMERGENCYSTATE_MODE------------------------------- 3\n"
     ]
    }
   ],
   "source": [
    "rapport_df_train = RapportDataFrame(application_train)\n",
    "# Rapport : application_train\n",
    "rapport_df_train.rapport()"
   ]
  },
  {
   "cell_type": "code",
   "execution_count": 30,
   "metadata": {},
   "outputs": [
    {
     "name": "stdout",
     "output_type": "stream",
     "text": [
      "Le Taux de remplissage total est égal à : 76.18831323846766 %\n",
      "Le Nombre de features vides est égal à : 0 Features\n",
      "Les Features vides sont : []\n",
      "\n",
      "*****Nombre de catégorie features catégorielles******\n",
      "\n",
      "NAME_CONTRACT_TYPE-------------------------------- 2\n",
      "CODE_GENDER--------------------------------------- 2\n",
      "FLAG_OWN_CAR-------------------------------------- 2\n",
      "FLAG_OWN_REALTY----------------------------------- 2\n",
      "NAME_TYPE_SUITE----------------------------------- 8\n",
      "NAME_INCOME_TYPE---------------------------------- 7\n",
      "NAME_EDUCATION_TYPE------------------------------- 5\n",
      "NAME_FAMILY_STATUS-------------------------------- 5\n",
      "NAME_HOUSING_TYPE--------------------------------- 6\n",
      "OCCUPATION_TYPE----------------------------------- 19\n",
      "WEEKDAY_APPR_PROCESS_START------------------------ 7\n",
      "ORGANIZATION_TYPE--------------------------------- 58\n",
      "FONDKAPREMONT_MODE-------------------------------- 5\n",
      "HOUSETYPE_MODE------------------------------------ 4\n",
      "WALLSMATERIAL_MODE-------------------------------- 8\n",
      "EMERGENCYSTATE_MODE------------------------------- 3\n"
     ]
    }
   ],
   "source": [
    "rapport_df_test = RapportDataFrame(application_test)\n",
    "# Rapport : application_test\n",
    "rapport_df_test.rapport()"
   ]
  },
  {
   "cell_type": "code",
   "execution_count": 31,
   "metadata": {},
   "outputs": [
    {
     "name": "stdout",
     "output_type": "stream",
     "text": [
      "Le Taux de remplissage total est égal à : 86.49744770912068 %\n",
      "Le Nombre de features vides est égal à : 0 Features\n",
      "Les Features vides sont : []\n",
      "\n",
      "*****Nombre de catégorie features catégorielles******\n",
      "\n",
      "CREDIT_ACTIVE------------------------------------- 4\n",
      "CREDIT_CURRENCY----------------------------------- 4\n",
      "CREDIT_TYPE--------------------------------------- 15\n"
     ]
    }
   ],
   "source": [
    "rapport_df_bureau = RapportDataFrame(bureau)\n",
    "# Rapport : bureau\n",
    "rapport_df_bureau.rapport()"
   ]
  },
  {
   "cell_type": "code",
   "execution_count": 32,
   "metadata": {},
   "outputs": [
    {
     "name": "stdout",
     "output_type": "stream",
     "text": [
      "Le Taux de remplissage total est égal à : 100.0 %\n",
      "Le Nombre de features vides est égal à : 0 Features\n",
      "Les Features vides sont : []\n",
      "\n",
      "*****Nombre de catégorie features catégorielles******\n",
      "\n",
      "STATUS-------------------------------------------- 8\n"
     ]
    }
   ],
   "source": [
    "rapport_df_bureau_balance = RapportDataFrame(bureau_balance)\n",
    "# Rapport : bureau_balance\n",
    "rapport_df_bureau_balance.rapport()"
   ]
  },
  {
   "cell_type": "code",
   "execution_count": 33,
   "metadata": {},
   "outputs": [
    {
     "name": "stdout",
     "output_type": "stream",
     "text": [
      "Le Taux de remplissage total est égal à : 93.34592560731252 %\n",
      "Le Nombre de features vides est égal à : 0 Features\n",
      "Les Features vides sont : []\n",
      "\n",
      "*****Nombre de catégorie features catégorielles******\n",
      "\n",
      "NAME_CONTRACT_STATUS------------------------------ 7\n"
     ]
    }
   ],
   "source": [
    "rapport_df_bureau_credit_card_balance = RapportDataFrame(credit_card_balance)\n",
    "# Rapport : credit_card_balance\n",
    "rapport_df_bureau_credit_card_balance.rapport()"
   ]
  },
  {
   "cell_type": "code",
   "execution_count": 34,
   "metadata": {},
   "outputs": [
    {
     "name": "stdout",
     "output_type": "stream",
     "text": [
      "Le Taux de remplissage total est égal à : 99.99466204634469 %\n",
      "Le Nombre de features vides est égal à : 0 Features\n",
      "Les Features vides sont : []\n",
      "\n",
      "*****Nombre de catégorie features catégorielles******\n",
      "\n"
     ]
    }
   ],
   "source": [
    "rapport_df_installments_payments = RapportDataFrame(installments_payments)\n",
    "# Rapport : installments_payments\n",
    "rapport_df_installments_payments.rapport()"
   ]
  },
  {
   "cell_type": "code",
   "execution_count": 35,
   "metadata": {},
   "outputs": [
    {
     "name": "stdout",
     "output_type": "stream",
     "text": [
      "Le Taux de remplissage total est égal à : 99.93481135261831 %\n",
      "Le Nombre de features vides est égal à : 0 Features\n",
      "Les Features vides sont : []\n",
      "\n",
      "*****Nombre de catégorie features catégorielles******\n",
      "\n",
      "NAME_CONTRACT_STATUS------------------------------ 9\n"
     ]
    }
   ],
   "source": [
    "rapport_df_POS_CASH_balance = RapportDataFrame(POS_CASH_balance)\n",
    "# Rapport : POS_CASH_balance\n",
    "rapport_df_POS_CASH_balance.rapport()"
   ]
  },
  {
   "cell_type": "code",
   "execution_count": 36,
   "metadata": {},
   "outputs": [
    {
     "name": "stdout",
     "output_type": "stream",
     "text": [
      "Le Taux de remplissage total est égal à : 82.02312252655503 %\n",
      "Le Nombre de features vides est égal à : 0 Features\n",
      "Les Features vides sont : []\n",
      "\n",
      "*****Nombre de catégorie features catégorielles******\n",
      "\n",
      "NAME_CONTRACT_TYPE-------------------------------- 4\n",
      "WEEKDAY_APPR_PROCESS_START------------------------ 7\n",
      "FLAG_LAST_APPL_PER_CONTRACT----------------------- 2\n",
      "NAME_CASH_LOAN_PURPOSE---------------------------- 25\n",
      "NAME_CONTRACT_STATUS------------------------------ 4\n",
      "NAME_PAYMENT_TYPE--------------------------------- 4\n",
      "CODE_REJECT_REASON-------------------------------- 9\n",
      "NAME_TYPE_SUITE----------------------------------- 8\n",
      "NAME_CLIENT_TYPE---------------------------------- 4\n",
      "NAME_GOODS_CATEGORY------------------------------- 28\n",
      "NAME_PORTFOLIO------------------------------------ 5\n",
      "NAME_PRODUCT_TYPE--------------------------------- 3\n",
      "CHANNEL_TYPE-------------------------------------- 8\n",
      "NAME_SELLER_INDUSTRY------------------------------ 11\n",
      "NAME_YIELD_GROUP---------------------------------- 5\n",
      "PRODUCT_COMBINATION------------------------------- 18\n"
     ]
    }
   ],
   "source": [
    "rapport_df_previous_application = RapportDataFrame(previous_application)\n",
    "# Rapport : previous_application\n",
    "rapport_df_previous_application.rapport()"
   ]
  },
  {
   "cell_type": "code",
   "execution_count": 37,
   "metadata": {},
   "outputs": [
    {
     "name": "stdout",
     "output_type": "stream",
     "text": [
      "Le Taux de remplissage total est égal à : 100.0 %\n",
      "Le Nombre de features vides est égal à : 0 Features\n",
      "Les Features vides sont : []\n",
      "\n",
      "*****Nombre de catégorie features catégorielles******\n",
      "\n"
     ]
    }
   ],
   "source": [
    "rapport_df_sample_submission = RapportDataFrame(sample_submission)\n",
    "# Rapport : previous_application\n",
    "rapport_df_sample_submission.rapport()"
   ]
  },
  {
   "cell_type": "code",
   "execution_count": 20,
   "metadata": {},
   "outputs": [],
   "source": [
    "original_columns, categorical_columns, numerical_columns = rapport_df_.get_df_columns()"
   ]
  },
  {
   "cell_type": "code",
   "execution_count": 21,
   "metadata": {},
   "outputs": [
    {
     "data": {
      "text/plain": [
       "['SK_ID_CURR',\n",
       " 'NAME_CONTRACT_TYPE',\n",
       " 'CODE_GENDER',\n",
       " 'FLAG_OWN_CAR',\n",
       " 'FLAG_OWN_REALTY',\n",
       " 'CNT_CHILDREN',\n",
       " 'AMT_INCOME_TOTAL',\n",
       " 'AMT_CREDIT',\n",
       " 'AMT_ANNUITY',\n",
       " 'AMT_GOODS_PRICE',\n",
       " 'NAME_TYPE_SUITE',\n",
       " 'NAME_INCOME_TYPE',\n",
       " 'NAME_EDUCATION_TYPE',\n",
       " 'NAME_FAMILY_STATUS',\n",
       " 'NAME_HOUSING_TYPE',\n",
       " 'REGION_POPULATION_RELATIVE',\n",
       " 'DAYS_BIRTH',\n",
       " 'DAYS_EMPLOYED',\n",
       " 'DAYS_REGISTRATION',\n",
       " 'DAYS_ID_PUBLISH',\n",
       " 'OWN_CAR_AGE',\n",
       " 'FLAG_MOBIL',\n",
       " 'FLAG_EMP_PHONE',\n",
       " 'FLAG_WORK_PHONE',\n",
       " 'FLAG_CONT_MOBILE',\n",
       " 'FLAG_PHONE',\n",
       " 'FLAG_EMAIL',\n",
       " 'OCCUPATION_TYPE',\n",
       " 'CNT_FAM_MEMBERS',\n",
       " 'REGION_RATING_CLIENT',\n",
       " 'REGION_RATING_CLIENT_W_CITY',\n",
       " 'WEEKDAY_APPR_PROCESS_START',\n",
       " 'HOUR_APPR_PROCESS_START',\n",
       " 'REG_REGION_NOT_LIVE_REGION',\n",
       " 'REG_REGION_NOT_WORK_REGION',\n",
       " 'LIVE_REGION_NOT_WORK_REGION',\n",
       " 'REG_CITY_NOT_LIVE_CITY',\n",
       " 'REG_CITY_NOT_WORK_CITY',\n",
       " 'LIVE_CITY_NOT_WORK_CITY',\n",
       " 'ORGANIZATION_TYPE',\n",
       " 'EXT_SOURCE_1',\n",
       " 'EXT_SOURCE_2',\n",
       " 'EXT_SOURCE_3',\n",
       " 'APARTMENTS_AVG',\n",
       " 'BASEMENTAREA_AVG',\n",
       " 'YEARS_BEGINEXPLUATATION_AVG',\n",
       " 'YEARS_BUILD_AVG',\n",
       " 'COMMONAREA_AVG',\n",
       " 'ELEVATORS_AVG',\n",
       " 'ENTRANCES_AVG',\n",
       " 'FLOORSMAX_AVG',\n",
       " 'FLOORSMIN_AVG',\n",
       " 'LANDAREA_AVG',\n",
       " 'LIVINGAPARTMENTS_AVG',\n",
       " 'LIVINGAREA_AVG',\n",
       " 'NONLIVINGAPARTMENTS_AVG',\n",
       " 'NONLIVINGAREA_AVG',\n",
       " 'APARTMENTS_MODE',\n",
       " 'BASEMENTAREA_MODE',\n",
       " 'YEARS_BEGINEXPLUATATION_MODE',\n",
       " 'YEARS_BUILD_MODE',\n",
       " 'COMMONAREA_MODE',\n",
       " 'ELEVATORS_MODE',\n",
       " 'ENTRANCES_MODE',\n",
       " 'FLOORSMAX_MODE',\n",
       " 'FLOORSMIN_MODE',\n",
       " 'LANDAREA_MODE',\n",
       " 'LIVINGAPARTMENTS_MODE',\n",
       " 'LIVINGAREA_MODE',\n",
       " 'NONLIVINGAPARTMENTS_MODE',\n",
       " 'NONLIVINGAREA_MODE',\n",
       " 'APARTMENTS_MEDI',\n",
       " 'BASEMENTAREA_MEDI',\n",
       " 'YEARS_BEGINEXPLUATATION_MEDI',\n",
       " 'YEARS_BUILD_MEDI',\n",
       " 'COMMONAREA_MEDI',\n",
       " 'ELEVATORS_MEDI',\n",
       " 'ENTRANCES_MEDI',\n",
       " 'FLOORSMAX_MEDI',\n",
       " 'FLOORSMIN_MEDI',\n",
       " 'LANDAREA_MEDI',\n",
       " 'LIVINGAPARTMENTS_MEDI',\n",
       " 'LIVINGAREA_MEDI',\n",
       " 'NONLIVINGAPARTMENTS_MEDI',\n",
       " 'NONLIVINGAREA_MEDI',\n",
       " 'FONDKAPREMONT_MODE',\n",
       " 'HOUSETYPE_MODE',\n",
       " 'TOTALAREA_MODE',\n",
       " 'WALLSMATERIAL_MODE',\n",
       " 'EMERGENCYSTATE_MODE',\n",
       " 'OBS_30_CNT_SOCIAL_CIRCLE',\n",
       " 'DEF_30_CNT_SOCIAL_CIRCLE',\n",
       " 'OBS_60_CNT_SOCIAL_CIRCLE',\n",
       " 'DEF_60_CNT_SOCIAL_CIRCLE',\n",
       " 'DAYS_LAST_PHONE_CHANGE',\n",
       " 'FLAG_DOCUMENT_2',\n",
       " 'FLAG_DOCUMENT_3',\n",
       " 'FLAG_DOCUMENT_4',\n",
       " 'FLAG_DOCUMENT_5',\n",
       " 'FLAG_DOCUMENT_6',\n",
       " 'FLAG_DOCUMENT_7',\n",
       " 'FLAG_DOCUMENT_8',\n",
       " 'FLAG_DOCUMENT_9',\n",
       " 'FLAG_DOCUMENT_10',\n",
       " 'FLAG_DOCUMENT_11',\n",
       " 'FLAG_DOCUMENT_12',\n",
       " 'FLAG_DOCUMENT_13',\n",
       " 'FLAG_DOCUMENT_14',\n",
       " 'FLAG_DOCUMENT_15',\n",
       " 'FLAG_DOCUMENT_16',\n",
       " 'FLAG_DOCUMENT_17',\n",
       " 'FLAG_DOCUMENT_18',\n",
       " 'FLAG_DOCUMENT_19',\n",
       " 'FLAG_DOCUMENT_20',\n",
       " 'FLAG_DOCUMENT_21',\n",
       " 'AMT_REQ_CREDIT_BUREAU_HOUR',\n",
       " 'AMT_REQ_CREDIT_BUREAU_DAY',\n",
       " 'AMT_REQ_CREDIT_BUREAU_WEEK',\n",
       " 'AMT_REQ_CREDIT_BUREAU_MON',\n",
       " 'AMT_REQ_CREDIT_BUREAU_QRT',\n",
       " 'AMT_REQ_CREDIT_BUREAU_YEAR']"
      ]
     },
     "execution_count": 21,
     "metadata": {},
     "output_type": "execute_result"
    }
   ],
   "source": [
    "original_columns"
   ]
  },
  {
   "cell_type": "code",
   "execution_count": 22,
   "metadata": {},
   "outputs": [
    {
     "data": {
      "text/plain": [
       "['NAME_CONTRACT_TYPE',\n",
       " 'CODE_GENDER',\n",
       " 'FLAG_OWN_CAR',\n",
       " 'FLAG_OWN_REALTY',\n",
       " 'NAME_TYPE_SUITE',\n",
       " 'NAME_INCOME_TYPE',\n",
       " 'NAME_EDUCATION_TYPE',\n",
       " 'NAME_FAMILY_STATUS',\n",
       " 'NAME_HOUSING_TYPE',\n",
       " 'OCCUPATION_TYPE',\n",
       " 'WEEKDAY_APPR_PROCESS_START',\n",
       " 'ORGANIZATION_TYPE',\n",
       " 'FONDKAPREMONT_MODE',\n",
       " 'HOUSETYPE_MODE',\n",
       " 'WALLSMATERIAL_MODE',\n",
       " 'EMERGENCYSTATE_MODE']"
      ]
     },
     "execution_count": 22,
     "metadata": {},
     "output_type": "execute_result"
    }
   ],
   "source": [
    "categorical_columns"
   ]
  },
  {
   "cell_type": "code",
   "execution_count": 23,
   "metadata": {},
   "outputs": [
    {
     "data": {
      "text/plain": [
       "['SK_ID_CURR',\n",
       " 'CNT_CHILDREN',\n",
       " 'AMT_INCOME_TOTAL',\n",
       " 'AMT_CREDIT',\n",
       " 'AMT_ANNUITY',\n",
       " 'AMT_GOODS_PRICE',\n",
       " 'REGION_POPULATION_RELATIVE',\n",
       " 'DAYS_BIRTH',\n",
       " 'DAYS_EMPLOYED',\n",
       " 'DAYS_REGISTRATION',\n",
       " 'DAYS_ID_PUBLISH',\n",
       " 'OWN_CAR_AGE',\n",
       " 'FLAG_MOBIL',\n",
       " 'FLAG_EMP_PHONE',\n",
       " 'FLAG_WORK_PHONE',\n",
       " 'FLAG_CONT_MOBILE',\n",
       " 'FLAG_PHONE',\n",
       " 'FLAG_EMAIL',\n",
       " 'CNT_FAM_MEMBERS',\n",
       " 'REGION_RATING_CLIENT',\n",
       " 'REGION_RATING_CLIENT_W_CITY',\n",
       " 'HOUR_APPR_PROCESS_START',\n",
       " 'REG_REGION_NOT_LIVE_REGION',\n",
       " 'REG_REGION_NOT_WORK_REGION',\n",
       " 'LIVE_REGION_NOT_WORK_REGION',\n",
       " 'REG_CITY_NOT_LIVE_CITY',\n",
       " 'REG_CITY_NOT_WORK_CITY',\n",
       " 'LIVE_CITY_NOT_WORK_CITY',\n",
       " 'EXT_SOURCE_1',\n",
       " 'EXT_SOURCE_2',\n",
       " 'EXT_SOURCE_3',\n",
       " 'APARTMENTS_AVG',\n",
       " 'BASEMENTAREA_AVG',\n",
       " 'YEARS_BEGINEXPLUATATION_AVG',\n",
       " 'YEARS_BUILD_AVG',\n",
       " 'COMMONAREA_AVG',\n",
       " 'ELEVATORS_AVG',\n",
       " 'ENTRANCES_AVG',\n",
       " 'FLOORSMAX_AVG',\n",
       " 'FLOORSMIN_AVG',\n",
       " 'LANDAREA_AVG',\n",
       " 'LIVINGAPARTMENTS_AVG',\n",
       " 'LIVINGAREA_AVG',\n",
       " 'NONLIVINGAPARTMENTS_AVG',\n",
       " 'NONLIVINGAREA_AVG',\n",
       " 'APARTMENTS_MODE',\n",
       " 'BASEMENTAREA_MODE',\n",
       " 'YEARS_BEGINEXPLUATATION_MODE',\n",
       " 'YEARS_BUILD_MODE',\n",
       " 'COMMONAREA_MODE',\n",
       " 'ELEVATORS_MODE',\n",
       " 'ENTRANCES_MODE',\n",
       " 'FLOORSMAX_MODE',\n",
       " 'FLOORSMIN_MODE',\n",
       " 'LANDAREA_MODE',\n",
       " 'LIVINGAPARTMENTS_MODE',\n",
       " 'LIVINGAREA_MODE',\n",
       " 'NONLIVINGAPARTMENTS_MODE',\n",
       " 'NONLIVINGAREA_MODE',\n",
       " 'APARTMENTS_MEDI',\n",
       " 'BASEMENTAREA_MEDI',\n",
       " 'YEARS_BEGINEXPLUATATION_MEDI',\n",
       " 'YEARS_BUILD_MEDI',\n",
       " 'COMMONAREA_MEDI',\n",
       " 'ELEVATORS_MEDI',\n",
       " 'ENTRANCES_MEDI',\n",
       " 'FLOORSMAX_MEDI',\n",
       " 'FLOORSMIN_MEDI',\n",
       " 'LANDAREA_MEDI',\n",
       " 'LIVINGAPARTMENTS_MEDI',\n",
       " 'LIVINGAREA_MEDI',\n",
       " 'NONLIVINGAPARTMENTS_MEDI',\n",
       " 'NONLIVINGAREA_MEDI',\n",
       " 'TOTALAREA_MODE',\n",
       " 'OBS_30_CNT_SOCIAL_CIRCLE',\n",
       " 'DEF_30_CNT_SOCIAL_CIRCLE',\n",
       " 'OBS_60_CNT_SOCIAL_CIRCLE',\n",
       " 'DEF_60_CNT_SOCIAL_CIRCLE',\n",
       " 'DAYS_LAST_PHONE_CHANGE',\n",
       " 'FLAG_DOCUMENT_2',\n",
       " 'FLAG_DOCUMENT_3',\n",
       " 'FLAG_DOCUMENT_4',\n",
       " 'FLAG_DOCUMENT_5',\n",
       " 'FLAG_DOCUMENT_6',\n",
       " 'FLAG_DOCUMENT_7',\n",
       " 'FLAG_DOCUMENT_8',\n",
       " 'FLAG_DOCUMENT_9',\n",
       " 'FLAG_DOCUMENT_10',\n",
       " 'FLAG_DOCUMENT_11',\n",
       " 'FLAG_DOCUMENT_12',\n",
       " 'FLAG_DOCUMENT_13',\n",
       " 'FLAG_DOCUMENT_14',\n",
       " 'FLAG_DOCUMENT_15',\n",
       " 'FLAG_DOCUMENT_16',\n",
       " 'FLAG_DOCUMENT_17',\n",
       " 'FLAG_DOCUMENT_18',\n",
       " 'FLAG_DOCUMENT_19',\n",
       " 'FLAG_DOCUMENT_20',\n",
       " 'FLAG_DOCUMENT_21',\n",
       " 'AMT_REQ_CREDIT_BUREAU_HOUR',\n",
       " 'AMT_REQ_CREDIT_BUREAU_DAY',\n",
       " 'AMT_REQ_CREDIT_BUREAU_WEEK',\n",
       " 'AMT_REQ_CREDIT_BUREAU_MON',\n",
       " 'AMT_REQ_CREDIT_BUREAU_QRT',\n",
       " 'AMT_REQ_CREDIT_BUREAU_YEAR']"
      ]
     },
     "execution_count": 23,
     "metadata": {},
     "output_type": "execute_result"
    }
   ],
   "source": [
    "numerical_columns"
   ]
  }
 ],
 "metadata": {
  "kernelspec": {
   "display_name": "Python 3",
   "language": "python",
   "name": "python3"
  },
  "language_info": {
   "codemirror_mode": {
    "name": "ipython",
    "version": 3
   },
   "file_extension": ".py",
   "mimetype": "text/x-python",
   "name": "python",
   "nbconvert_exporter": "python",
   "pygments_lexer": "ipython3",
   "version": "3.10.0"
  },
  "orig_nbformat": 4
 },
 "nbformat": 4,
 "nbformat_minor": 2
}
