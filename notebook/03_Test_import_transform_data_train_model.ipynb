{
 "cells": [
  {
   "cell_type": "markdown",
   "id": "e29c123d",
   "metadata": {},
   "source": [
    "# Imports"
   ]
  },
  {
   "cell_type": "code",
   "execution_count": 1,
   "id": "fa451358",
   "metadata": {},
   "outputs": [],
   "source": [
    "import warnings\n",
    "import os\n",
    "import sys\n",
    "warnings.filterwarnings(\"ignore\")"
   ]
  },
  {
   "cell_type": "code",
   "execution_count": 2,
   "id": "c1c25a88",
   "metadata": {},
   "outputs": [],
   "source": [
    "import numpy as np\n",
    "import pandas as pd\n",
    "import seaborn as sns\n",
    "import matplotlib.pyplot as plt\n",
    "\n",
    "\n",
    "# Realod modules\n",
    "import importlib"
   ]
  },
  {
   "cell_type": "code",
   "execution_count": 3,
   "id": "a58c7925",
   "metadata": {},
   "outputs": [],
   "source": [
    "import sys\n",
    "sys.path.append(r'C:\\Users\\Lenovo\\Documents\\DSPython\\projetscoring')"
   ]
  },
  {
   "cell_type": "code",
   "execution_count": 4,
   "id": "f43b3834",
   "metadata": {},
   "outputs": [],
   "source": [
    "# Data Ingestion : import des data et autres fonctionnalité\n",
    "from src.components.data_ingestion import *"
   ]
  },
  {
   "cell_type": "code",
   "execution_count": 5,
   "id": "38aabfe3",
   "metadata": {},
   "outputs": [],
   "source": [
    "# Data Transformation : Transformation des data\n",
    "from src.components.data_transformation import DataTransformation"
   ]
  },
  {
   "cell_type": "code",
   "execution_count": null,
   "id": "d6be8c29",
   "metadata": {},
   "outputs": [],
   "source": [
    "from src.components.model_trainer import *"
   ]
  },
  {
   "cell_type": "markdown",
   "id": "2816ccac",
   "metadata": {},
   "source": [
    "# Relaod modules"
   ]
  },
  {
   "cell_type": "code",
   "execution_count": 140,
   "id": "18e6e183",
   "metadata": {},
   "outputs": [],
   "source": [
    "importlib.reload(sys.modules['src.components.data_ingestion'])\n",
    "from src.components.data_ingestion import *\n",
    "importlib.reload(sys.modules['src.components.data_transformation'])\n",
    "from src.components.data_transformation import *\n",
    "importlib.reload(sys.modules['src.components.model_trainer'])\n",
    "from src.components.model_trainer import *"
   ]
  },
  {
   "cell_type": "markdown",
   "id": "e71a5dab",
   "metadata": {},
   "source": [
    "# Data base"
   ]
  },
  {
   "cell_type": "code",
   "execution_count": 6,
   "id": "7d9f5326",
   "metadata": {},
   "outputs": [],
   "source": [
    "# 01 - Data Base : \n",
    "# Le chemin pour accéder à la base des données se trouve dans les configurations : data_config.py\n",
    "data_base = DataIngestion()"
   ]
  },
  {
   "cell_type": "code",
   "execution_count": 7,
   "id": "5a8b6e48",
   "metadata": {},
   "outputs": [],
   "source": [
    "# Extraction nom de fichiers avec et sans extensions\n",
    "liste_name, files_liste_name = data_base.get_files_names()"
   ]
  },
  {
   "cell_type": "code",
   "execution_count": 8,
   "id": "2b6398e5",
   "metadata": {},
   "outputs": [
    {
     "data": {
      "text/plain": [
       "['application_test',\n",
       " 'application_train',\n",
       " 'bureau',\n",
       " 'bureau_balance',\n",
       " 'credit_card_balance',\n",
       " 'Final_df',\n",
       " 'HomeCredit_columns_description',\n",
       " 'installments_payments',\n",
       " 'POS_CASH_balance',\n",
       " 'previous_application',\n",
       " 'sample_submission']"
      ]
     },
     "execution_count": 8,
     "metadata": {},
     "output_type": "execute_result"
    }
   ],
   "source": [
    "liste_name"
   ]
  },
  {
   "cell_type": "code",
   "execution_count": 9,
   "id": "ebc01d9f",
   "metadata": {},
   "outputs": [
    {
     "data": {
      "text/plain": [
       "['application_test.csv',\n",
       " 'application_train.csv',\n",
       " 'bureau.csv',\n",
       " 'bureau_balance.csv',\n",
       " 'credit_card_balance.csv',\n",
       " 'Final_df.csv',\n",
       " 'HomeCredit_columns_description.csv',\n",
       " 'installments_payments.csv',\n",
       " 'POS_CASH_balance.csv',\n",
       " 'previous_application.csv',\n",
       " 'sample_submission.csv']"
      ]
     },
     "execution_count": 9,
     "metadata": {},
     "output_type": "execute_result"
    }
   ],
   "source": [
    "files_liste_name"
   ]
  },
  {
   "cell_type": "markdown",
   "id": "6c6b0e35",
   "metadata": {},
   "source": [
    "# Import data"
   ]
  },
  {
   "cell_type": "code",
   "execution_count": 11,
   "id": "9daa32c5",
   "metadata": {},
   "outputs": [],
   "source": [
    "# df = pd.read_csv('C:/Users/Lenovo/Documents/DSPython/data_projet_7/Final_df.csv')"
   ]
  },
  {
   "cell_type": "code",
   "execution_count": 10,
   "id": "fe956883",
   "metadata": {},
   "outputs": [
    {
     "name": "stdout",
     "output_type": "stream",
     "text": [
      "Importation du dataset...\n",
      "Importation du dataset réussie !\n"
     ]
    }
   ],
   "source": [
    "row_data = data_base.import_file(file_name='Final_df.csv', reduce_memory_usage = False)"
   ]
  },
  {
   "cell_type": "code",
   "execution_count": 12,
   "id": "b8397e6f",
   "metadata": {},
   "outputs": [
    {
     "name": "stdout",
     "output_type": "stream",
     "text": [
      "Data Frame : row_data\n",
      "----------------------------------------\n",
      "\u001b[1mNombre de ligne :\u001b[0m 307507 --- \u001b[1mNombre de colonnes :\u001b[0m 798\n",
      "----------------------------------------\n",
      "Le Taux de remplissage total est égal à : 74.76 %\n",
      "Nombre de colonnes ayant moins de 20% de valeurs manquantes : 517\n",
      "Le Nombre de features vides est égal à : 0 Features\n",
      "----------------------------------------\n",
      "Les Features vides sont : []\n",
      "Les Features Ayant plus  20%  de valeurs manquantes sont:\n",
      "['REFUSED_RATE_DOWN_PAYMENT_MIN', 'REFUSED_RATE_DOWN_PAYMENT_MAX', 'REFUSED_AMT_DOWN_PAYMENT_MEAN', 'REFUSED_AMT_DOWN_PAYMENT_MAX', 'REFUSED_AMT_DOWN_PAYMENT_MIN', 'REFUSED_RATE_DOWN_PAYMENT_MEAN', 'REFUSED_APP_CREDIT_PERC_VAR', 'CC_AMT_PAYMENT_CURRENT_VAR', 'CC_CNT_DRAWINGS_ATM_CURRENT_VAR', 'CC_AMT_DRAWINGS_OTHER_CURRENT_VAR', 'CC_AMT_DRAWINGS_POS_CURRENT_VAR', 'CC_AMT_DRAWINGS_ATM_CURRENT_VAR', 'CC_CNT_DRAWINGS_POS_CURRENT_VAR', 'CC_CNT_DRAWINGS_OTHER_CURRENT_VAR', 'CC_AMT_PAYMENT_CURRENT_MEAN', 'CC_AMT_PAYMENT_CURRENT_MAX', 'CC_AMT_PAYMENT_CURRENT_MIN', 'CC_AMT_DRAWINGS_OTHER_CURRENT_MAX', 'CC_AMT_DRAWINGS_OTHER_CURRENT_MEAN', 'CC_AMT_DRAWINGS_OTHER_CURRENT_MIN', 'CC_CNT_DRAWINGS_POS_CURRENT_MIN', 'CC_AMT_DRAWINGS_ATM_CURRENT_MEAN', 'CC_AMT_DRAWINGS_POS_CURRENT_MIN', 'CC_AMT_DRAWINGS_POS_CURRENT_MAX', 'CC_AMT_DRAWINGS_POS_CURRENT_MEAN', 'CC_AMT_DRAWINGS_ATM_CURRENT_MIN', 'CC_CNT_DRAWINGS_ATM_CURRENT_MIN', 'CC_CNT_DRAWINGS_ATM_CURRENT_MAX', 'CC_CNT_DRAWINGS_ATM_CURRENT_MEAN', 'CC_CNT_DRAWINGS_OTHER_CURRENT_MIN', 'CC_CNT_DRAWINGS_OTHER_CURRENT_MAX', 'CC_CNT_DRAWINGS_OTHER_CURRENT_MEAN', 'CC_CNT_DRAWINGS_POS_CURRENT_MEAN', 'CC_AMT_DRAWINGS_ATM_CURRENT_MAX', 'CC_CNT_DRAWINGS_POS_CURRENT_MAX', 'ACTIVE_AMT_ANNUITY_MEAN', 'ACTIVE_AMT_ANNUITY_MAX', 'CLOSED_AMT_ANNUITY_MEAN', 'CLOSED_AMT_ANNUITY_MAX', 'ACTIVE_MONTHS_BALANCE_MIN_MIN', 'ACTIVE_MONTHS_BALANCE_MAX_MAX', 'ACTIVE_MONTHS_BALANCE_SIZE_MEAN', 'BURO_AMT_ANNUITY_MEAN', 'BURO_AMT_ANNUITY_MAX', 'CLOSED_MONTHS_BALANCE_MIN_MIN', 'CLOSED_MONTHS_BALANCE_MAX_MAX', 'CLOSED_MONTHS_BALANCE_SIZE_MEAN', 'CC_AMT_PAYMENT_TOTAL_CURRENT_VAR', 'CC_AMT_RECIVABLE_VAR', 'CC_SK_DPD_DEF_VAR', 'CC_NAME_CONTRACT_STATUS_Active_VAR', 'CC_NAME_CONTRACT_STATUS_Sent proposal_VAR', 'CC_AMT_INST_MIN_REGULARITY_VAR', 'CC_AMT_TOTAL_RECEIVABLE_VAR', 'CC_SK_DPD_VAR', 'CC_NAME_CONTRACT_STATUS_Approved_VAR', 'CC_AMT_BALANCE_VAR', 'CC_NAME_CONTRACT_STATUS_Refused_VAR', 'CC_AMT_RECEIVABLE_PRINCIPAL_VAR', 'CC_CNT_INSTALMENT_MATURE_CUM_VAR', 'CC_NAME_CONTRACT_STATUS_Completed_VAR', 'CC_MONTHS_BALANCE_VAR', 'CC_NAME_CONTRACT_STATUS_nan_VAR', 'CC_AMT_DRAWINGS_CURRENT_VAR', 'CC_AMT_CREDIT_LIMIT_ACTUAL_VAR', 'CC_NAME_CONTRACT_STATUS_Demand_VAR', 'CC_NAME_CONTRACT_STATUS_Signed_VAR', 'CC_CNT_DRAWINGS_CURRENT_VAR', 'CC_AMT_TOTAL_RECEIVABLE_MIN', 'CC_AMT_RECIVABLE_MAX', 'CC_AMT_RECIVABLE_MEAN', 'CC_AMT_RECIVABLE_SUM', 'CC_CNT_DRAWINGS_OTHER_CURRENT_SUM', 'CC_AMT_RECIVABLE_MIN', 'CC_AMT_TOTAL_RECEIVABLE_MAX', 'CC_AMT_TOTAL_RECEIVABLE_MEAN', 'CC_CNT_DRAWINGS_CURRENT_MEAN', 'CC_CNT_DRAWINGS_CURRENT_MAX', 'CC_CNT_DRAWINGS_CURRENT_MIN', 'CC_AMT_TOTAL_RECEIVABLE_SUM', 'CC_CNT_DRAWINGS_ATM_CURRENT_SUM', 'CC_CNT_DRAWINGS_CURRENT_SUM', 'CC_AMT_PAYMENT_TOTAL_CURRENT_SUM', 'CC_AMT_RECEIVABLE_PRINCIPAL_SUM', 'CC_AMT_DRAWINGS_OTHER_CURRENT_SUM', 'CC_AMT_CREDIT_LIMIT_ACTUAL_MAX', 'CC_AMT_CREDIT_LIMIT_ACTUAL_MEAN', 'CC_AMT_CREDIT_LIMIT_ACTUAL_SUM', 'CC_AMT_BALANCE_SUM', 'CC_AMT_BALANCE_MEAN', 'CC_AMT_BALANCE_MAX', 'CC_AMT_DRAWINGS_ATM_CURRENT_SUM', 'CC_AMT_BALANCE_MIN', 'CC_AMT_DRAWINGS_CURRENT_MIN', 'CC_AMT_DRAWINGS_CURRENT_MAX', 'CC_AMT_DRAWINGS_CURRENT_MEAN', 'CC_AMT_DRAWINGS_CURRENT_SUM', 'CC_MONTHS_BALANCE_SUM', 'CC_MONTHS_BALANCE_MAX', 'CC_AMT_RECEIVABLE_PRINCIPAL_MEAN', 'CC_MONTHS_BALANCE_MIN', 'CC_AMT_DRAWINGS_POS_CURRENT_SUM', 'CC_AMT_INST_MIN_REGULARITY_MIN', 'CC_AMT_INST_MIN_REGULARITY_MAX', 'CC_AMT_INST_MIN_REGULARITY_MEAN', 'CC_AMT_INST_MIN_REGULARITY_SUM', 'CC_AMT_PAYMENT_CURRENT_SUM', 'CC_AMT_PAYMENT_TOTAL_CURRENT_MIN', 'CC_AMT_PAYMENT_TOTAL_CURRENT_MAX', 'CC_AMT_PAYMENT_TOTAL_CURRENT_MEAN', 'CC_AMT_CREDIT_LIMIT_ACTUAL_MIN', 'CC_AMT_RECEIVABLE_PRINCIPAL_MIN', 'CC_AMT_RECEIVABLE_PRINCIPAL_MAX', 'CC_COUNT', 'CC_MONTHS_BALANCE_MEAN', 'CC_CNT_DRAWINGS_POS_CURRENT_SUM', 'CC_NAME_CONTRACT_STATUS_Refused_MEAN', 'CC_NAME_CONTRACT_STATUS_Completed_MAX', 'CC_NAME_CONTRACT_STATUS_Sent proposal_SUM', 'CC_NAME_CONTRACT_STATUS_Sent proposal_MEAN', 'CC_NAME_CONTRACT_STATUS_Signed_MIN', 'CC_NAME_CONTRACT_STATUS_nan_MIN', 'CC_NAME_CONTRACT_STATUS_Signed_MEAN', 'CC_CNT_INSTALMENT_MATURE_CUM_MIN', 'CC_NAME_CONTRACT_STATUS_Sent proposal_MAX', 'CC_NAME_CONTRACT_STATUS_Sent proposal_MIN', 'CC_NAME_CONTRACT_STATUS_Refused_SUM', 'CC_NAME_CONTRACT_STATUS_Refused_MAX', 'CC_NAME_CONTRACT_STATUS_Approved_SUM', 'CC_NAME_CONTRACT_STATUS_Refused_MIN', 'CC_NAME_CONTRACT_STATUS_Completed_MEAN', 'CC_NAME_CONTRACT_STATUS_Demand_SUM', 'CC_NAME_CONTRACT_STATUS_Completed_SUM', 'CC_NAME_CONTRACT_STATUS_Demand_MIN', 'CC_NAME_CONTRACT_STATUS_Demand_MAX', 'CC_NAME_CONTRACT_STATUS_Demand_MEAN', 'CC_NAME_CONTRACT_STATUS_Signed_SUM', 'CC_NAME_CONTRACT_STATUS_nan_SUM', 'CC_NAME_CONTRACT_STATUS_nan_MEAN', 'CC_NAME_CONTRACT_STATUS_Completed_MIN', 'CC_NAME_CONTRACT_STATUS_Signed_MAX', 'CC_NAME_CONTRACT_STATUS_Approved_MEAN', 'CC_NAME_CONTRACT_STATUS_Active_MAX', 'CC_CNT_INSTALMENT_MATURE_CUM_MAX', 'CC_CNT_INSTALMENT_MATURE_CUM_MEAN', 'CC_CNT_INSTALMENT_MATURE_CUM_SUM', 'CC_SK_DPD_MIN', 'CC_SK_DPD_MAX', 'CC_SK_DPD_MEAN', 'CC_SK_DPD_SUM', 'CC_SK_DPD_DEF_MIN', 'CC_SK_DPD_DEF_MAX', 'CC_NAME_CONTRACT_STATUS_Approved_MAX', 'CC_SK_DPD_DEF_MEAN', 'CC_SK_DPD_DEF_SUM', 'CC_NAME_CONTRACT_STATUS_Active_MIN', 'CC_NAME_CONTRACT_STATUS_nan_MAX', 'CC_NAME_CONTRACT_STATUS_Active_MEAN', 'CC_NAME_CONTRACT_STATUS_Active_SUM', 'CC_NAME_CONTRACT_STATUS_Approved_MIN', 'REFUSED_AMT_ANNUITY_MIN', 'REFUSED_AMT_ANNUITY_MAX', 'REFUSED_AMT_ANNUITY_MEAN', 'REFUSED_CNT_PAYMENT_MEAN', 'BURO_STATUS_5_MEAN_MEAN', 'BURO_STATUS_2_MEAN_MEAN', 'BURO_STATUS_1_MEAN_MEAN', 'BURO_STATUS_0_MEAN_MEAN', 'BURO_MONTHS_BALANCE_SIZE_MEAN', 'BURO_MONTHS_BALANCE_MAX_MAX', 'BURO_STATUS_4_MEAN_MEAN', 'BURO_STATUS_3_MEAN_MEAN', 'BURO_STATUS_nan_MEAN_MEAN', 'BURO_MONTHS_BALANCE_MIN_MIN', 'BURO_STATUS_C_MEAN_MEAN', 'BURO_STATUS_X_MEAN_MEAN', 'COMMONAREA_MEDI', 'COMMONAREA_MODE', 'COMMONAREA_AVG', 'REFUSED_AMT_GOODS_PRICE_MIN', 'REFUSED_AMT_GOODS_PRICE_MAX', 'REFUSED_AMT_GOODS_PRICE_MEAN', 'NONLIVINGAPARTMENTS_AVG', 'NONLIVINGAPARTMENTS_MODE', 'NONLIVINGAPARTMENTS_MEDI', 'REFUSED_APP_CREDIT_PERC_MEAN', 'REFUSED_APP_CREDIT_PERC_MIN', 'REFUSED_APP_CREDIT_PERC_MAX', 'LIVINGAPARTMENTS_MODE', 'LIVINGAPARTMENTS_AVG', 'LIVINGAPARTMENTS_MEDI', 'FLOORSMIN_AVG', 'FLOORSMIN_MEDI', 'FLOORSMIN_MODE', 'REFUSED_AMT_CREDIT_MAX', 'REFUSED_AMT_APPLICATION_MEAN', 'REFUSED_CNT_PAYMENT_SUM', 'REFUSED_AMT_APPLICATION_MAX', 'REFUSED_AMT_APPLICATION_MIN', 'REFUSED_AMT_CREDIT_MIN', 'REFUSED_AMT_CREDIT_MEAN', 'YEARS_BUILD_MEDI', 'YEARS_BUILD_AVG', 'YEARS_BUILD_MODE', 'OWN_CAR_AGE', 'ACTIVE_AMT_CREDIT_MAX_OVERDUE_MEAN', 'LANDAREA_MEDI', 'LANDAREA_AVG', 'LANDAREA_MODE', 'BASEMENTAREA_AVG', 'BASEMENTAREA_MODE', 'BASEMENTAREA_MEDI', 'EXT_SOURCE_1', 'NONLIVINGAREA_AVG', 'NONLIVINGAREA_MODE', 'NONLIVINGAREA_MEDI', 'ACTIVE_DAYS_CREDIT_VAR', 'ELEVATORS_AVG', 'ELEVATORS_MEDI', 'ELEVATORS_MODE', 'CLOSED_AMT_CREDIT_MAX_OVERDUE_MEAN', 'APARTMENTS_AVG', 'APARTMENTS_MEDI', 'APARTMENTS_MODE', 'ENTRANCES_MEDI', 'ENTRANCES_AVG', 'ENTRANCES_MODE', 'LIVINGAREA_MODE', 'LIVINGAREA_AVG', 'LIVINGAREA_MEDI', 'FLOORSMAX_MEDI', 'FLOORSMAX_MODE', 'FLOORSMAX_AVG', 'YEARS_BEGINEXPLUATATION_MODE', 'YEARS_BEGINEXPLUATATION_AVG', 'YEARS_BEGINEXPLUATATION_MEDI', 'TOTALAREA_MODE', 'CLOSED_DAYS_CREDIT_VAR', 'BURO_AMT_CREDIT_MAX_OVERDUE_MEAN', 'ACTIVE_AMT_CREDIT_SUM_LIMIT_MEAN', 'CLOSED_AMT_CREDIT_SUM_LIMIT_MEAN', 'ACTIVE_AMT_CREDIT_SUM_DEBT_MEAN', 'ACTIVE_AMT_CREDIT_SUM_DEBT_MAX', 'ACTIVE_DAYS_CREDIT_ENDDATE_MIN', 'ACTIVE_DAYS_CREDIT_ENDDATE_MAX', 'ACTIVE_DAYS_CREDIT_ENDDATE_MEAN', 'APPROVED_APP_CREDIT_PERC_VAR', 'ACTIVE_AMT_CREDIT_SUM_MEAN', 'ACTIVE_AMT_CREDIT_SUM_MAX', 'ACTIVE_CREDIT_DAY_OVERDUE_MAX', 'ACTIVE_AMT_CREDIT_SUM_DEBT_SUM', 'ACTIVE_AMT_CREDIT_SUM_OVERDUE_MEAN', 'ACTIVE_AMT_CREDIT_SUM_LIMIT_SUM', 'ACTIVE_CREDIT_DAY_OVERDUE_MEAN', 'ACTIVE_CNT_CREDIT_PROLONG_SUM', 'ACTIVE_MONTHS_BALANCE_SIZE_SUM', 'ACTIVE_AMT_CREDIT_SUM_SUM', 'ACTIVE_DAYS_CREDIT_MEAN', 'ACTIVE_DAYS_CREDIT_MAX', 'ACTIVE_DAYS_CREDIT_MIN', 'CLOSED_AMT_CREDIT_SUM_DEBT_MAX', 'CLOSED_AMT_CREDIT_SUM_DEBT_MEAN', 'BURO_DAYS_CREDIT_VAR', 'CLOSED_DAYS_CREDIT_ENDDATE_MAX', 'CLOSED_DAYS_CREDIT_ENDDATE_MIN', 'CLOSED_DAYS_CREDIT_ENDDATE_MEAN', 'PREV_APP_CREDIT_PERC_VAR', 'CLOSED_MONTHS_BALANCE_SIZE_SUM', 'CLOSED_CNT_CREDIT_PROLONG_SUM', 'CLOSED_DAYS_CREDIT_MIN', 'CLOSED_AMT_CREDIT_SUM_DEBT_SUM', 'CLOSED_CREDIT_DAY_OVERDUE_MAX', 'CLOSED_CREDIT_DAY_OVERDUE_MEAN', 'CLOSED_DAYS_CREDIT_MEAN', 'CLOSED_DAYS_CREDIT_MAX', 'CLOSED_AMT_CREDIT_SUM_MAX', 'CLOSED_AMT_CREDIT_SUM_MEAN', 'CLOSED_AMT_CREDIT_SUM_SUM', 'CLOSED_AMT_CREDIT_SUM_LIMIT_SUM', 'CLOSED_AMT_CREDIT_SUM_OVERDUE_MEAN', 'BURO_AMT_CREDIT_SUM_LIMIT_MEAN']\n",
      "----------------------------------------\n",
      "*****Nombre de catégorie features catégorielles******\n",
      "\n"
     ]
    }
   ],
   "source": [
    "rapport_df_row_data = RapportDataFrame(row_data, target_column=\"TARGET\", ID_Columns=\"SK_ID_CURR\")\n",
    "# Rapport : row_datarow_data\n",
    "print(\"Data Frame : row_data\")\n",
    "print(20 * \"--\")\n",
    "rapport_df_row_data.rapport(nan_threshold = 20, return_column_to_keep=False, print_rapport = True)"
   ]
  },
  {
   "cell_type": "markdown",
   "id": "b78f2d97",
   "metadata": {},
   "source": [
    "# Data transformation"
   ]
  },
  {
   "cell_type": "code",
   "execution_count": 127,
   "id": "e20ab6c6",
   "metadata": {},
   "outputs": [],
   "source": [
    "transformer_row_data= DataTransformation(row_data)"
   ]
  },
  {
   "cell_type": "markdown",
   "id": "e5120c87",
   "metadata": {},
   "source": [
    "# Train Test Split"
   ]
  },
  {
   "cell_type": "code",
   "execution_count": 13,
   "id": "d24c8ad8",
   "metadata": {},
   "outputs": [
    {
     "name": "stdout",
     "output_type": "stream",
     "text": [
      "X_train : done 1/4 ---- Nombre de lignes :215254, Nombre de colonnes:797\n",
      "y_train : done 2/4 ---- Nombre de lignes :215254\n",
      "X_test : done 3/4 ---- Nombre de lignes :92253, Nombre de colonnes:797\n",
      "y_test : done 4/4 ---- Nombre de lignes :92253\n"
     ]
    }
   ],
   "source": [
    "X_train_path, X_test_path, y_train_path, y_test_path = transformer_row_data.initiate_train_test_split(\n",
    "    target=\"TARGET\",\n",
    "    train_size=0.30,\n",
    "    stratification=True)"
   ]
  },
  {
   "cell_type": "code",
   "execution_count": 14,
   "id": "666ef111",
   "metadata": {},
   "outputs": [
    {
     "name": "stdout",
     "output_type": "stream",
     "text": [
      "artifacts\\X_train.csv\n",
      "artifacts\\X_test.csv\n",
      "artifacts\\y_train.csv\n",
      "artifacts\\y_test.csv\n"
     ]
    }
   ],
   "source": [
    "print(X_train_path)\n",
    "print(X_test_path)\n",
    "print(y_train_path)\n",
    "print(y_test_path)"
   ]
  },
  {
   "cell_type": "markdown",
   "id": "df376d5e",
   "metadata": {},
   "source": [
    "# Preprocessing"
   ]
  },
  {
   "cell_type": "code",
   "execution_count": 112,
   "id": "b752b0bf",
   "metadata": {},
   "outputs": [],
   "source": [
    "X_train,X_test, y_train, y_test = transformer_row_data.get_data_frames()"
   ]
  },
  {
   "cell_type": "code",
   "execution_count": 128,
   "id": "1df8ccec",
   "metadata": {},
   "outputs": [
    {
     "name": "stdout",
     "output_type": "stream",
     "text": [
      "TARGET distribution avant Undersampling\n",
      "TARGET\n",
      "0         17377\n",
      "1         17377\n",
      "dtype: int64\n",
      "\n",
      "TARGET distribution après Undersampling\n",
      "TARGET\n",
      "0         17377\n",
      "1         17377\n",
      "dtype: int64\n",
      "\n",
      "Les étapes de transformation :\n",
      "ColumnTransformer(transformers=[('num_pipeline',\n",
      "                                 Pipeline(steps=[('imputer', SimpleImputer()),\n",
      "                                                 ('scaled', StandardScaler())]),\n",
      "                                 ['CODE_GENDER', 'FLAG_OWN_CAR',\n",
      "                                  'FLAG_OWN_REALTY', 'CNT_CHILDREN',\n",
      "                                  'AMT_INCOME_TOTAL', 'AMT_CREDIT',\n",
      "                                  'AMT_ANNUITY', 'AMT_GOODS_PRICE',\n",
      "                                  'REGION_POPULATION_RELATIVE', 'DAYS_BIRTH',\n",
      "                                  'DAYS_EMPLOYED', 'DAYS_REGISTRATION',\n",
      "                                  'DAYS_ID_PUBLISH', 'OWN_...\n",
      "                                  'FLAG_MOBIL', 'FLAG_EMP_PHONE',\n",
      "                                  'FLAG_WORK_PHONE', 'FLAG_CONT_MOBILE',\n",
      "                                  'FLAG_PHONE', 'FLAG_EMAIL', 'CNT_FAM_MEMBERS',\n",
      "                                  'REGION_RATING_CLIENT',\n",
      "                                  'REGION_RATING_CLIENT_W_CITY',\n",
      "                                  'HOUR_APPR_PROCESS_START',\n",
      "                                  'REG_REGION_NOT_LIVE_REGION',\n",
      "                                  'REG_REGION_NOT_WORK_REGION',\n",
      "                                  'LIVE_REGION_NOT_WORK_REGION',\n",
      "                                  'REG_CITY_NOT_LIVE_CITY',\n",
      "                                  'REG_CITY_NOT_WORK_CITY',\n",
      "                                  'LIVE_CITY_NOT_WORK_CITY', ...])])\n"
     ]
    }
   ],
   "source": [
    "X_train, X_test,y_train,y_test= transformer_row_data.initiate_data_transformation(\n",
    "    X_train, \n",
    "    X_test, \n",
    "    y_train,\n",
    "    y_test,undersampling= True,\n",
    "    return_train_test_array=False\n",
    ")"
   ]
  },
  {
   "cell_type": "code",
   "execution_count": 129,
   "id": "d5600d06",
   "metadata": {},
   "outputs": [
    {
     "data": {
      "text/html": [
       "<div>\n",
       "<style scoped>\n",
       "    .dataframe tbody tr th:only-of-type {\n",
       "        vertical-align: middle;\n",
       "    }\n",
       "\n",
       "    .dataframe tbody tr th {\n",
       "        vertical-align: top;\n",
       "    }\n",
       "\n",
       "    .dataframe thead th {\n",
       "        text-align: right;\n",
       "    }\n",
       "</style>\n",
       "<table border=\"1\" class=\"dataframe\">\n",
       "  <thead>\n",
       "    <tr style=\"text-align: right;\">\n",
       "      <th></th>\n",
       "      <th>CODE_GENDER</th>\n",
       "      <th>FLAG_OWN_CAR</th>\n",
       "      <th>FLAG_OWN_REALTY</th>\n",
       "      <th>CNT_CHILDREN</th>\n",
       "      <th>AMT_INCOME_TOTAL</th>\n",
       "      <th>AMT_CREDIT</th>\n",
       "      <th>AMT_ANNUITY</th>\n",
       "      <th>AMT_GOODS_PRICE</th>\n",
       "      <th>REGION_POPULATION_RELATIVE</th>\n",
       "      <th>DAYS_BIRTH</th>\n",
       "      <th>...</th>\n",
       "      <th>CC_NAME_CONTRACT_STATUS_Signed_MAX</th>\n",
       "      <th>CC_NAME_CONTRACT_STATUS_Signed_MEAN</th>\n",
       "      <th>CC_NAME_CONTRACT_STATUS_Signed_SUM</th>\n",
       "      <th>CC_NAME_CONTRACT_STATUS_Signed_VAR</th>\n",
       "      <th>CC_NAME_CONTRACT_STATUS_nan_MIN</th>\n",
       "      <th>CC_NAME_CONTRACT_STATUS_nan_MAX</th>\n",
       "      <th>CC_NAME_CONTRACT_STATUS_nan_MEAN</th>\n",
       "      <th>CC_NAME_CONTRACT_STATUS_nan_SUM</th>\n",
       "      <th>CC_NAME_CONTRACT_STATUS_nan_VAR</th>\n",
       "      <th>CC_COUNT</th>\n",
       "    </tr>\n",
       "  </thead>\n",
       "  <tbody>\n",
       "    <tr>\n",
       "      <th>0</th>\n",
       "      <td>0.783909</td>\n",
       "      <td>-0.692704</td>\n",
       "      <td>1.490284</td>\n",
       "      <td>0.773952</td>\n",
       "      <td>-0.067317</td>\n",
       "      <td>1.123063</td>\n",
       "      <td>1.794167</td>\n",
       "      <td>1.110862</td>\n",
       "      <td>-0.757876</td>\n",
       "      <td>0.436659</td>\n",
       "      <td>...</td>\n",
       "      <td>-8.586866e-18</td>\n",
       "      <td>-2.788563e-17</td>\n",
       "      <td>-4.702332e-18</td>\n",
       "      <td>4.088984e-19</td>\n",
       "      <td>0.0</td>\n",
       "      <td>0.0</td>\n",
       "      <td>0.0</td>\n",
       "      <td>0.0</td>\n",
       "      <td>0.0</td>\n",
       "      <td>-2.989378e-17</td>\n",
       "    </tr>\n",
       "    <tr>\n",
       "      <th>1</th>\n",
       "      <td>0.783909</td>\n",
       "      <td>-0.692704</td>\n",
       "      <td>-0.671013</td>\n",
       "      <td>-0.594760</td>\n",
       "      <td>-0.067317</td>\n",
       "      <td>-1.061894</td>\n",
       "      <td>-1.315027</td>\n",
       "      <td>-0.979866</td>\n",
       "      <td>-0.795281</td>\n",
       "      <td>1.664291</td>\n",
       "      <td>...</td>\n",
       "      <td>-8.586866e-18</td>\n",
       "      <td>-2.788563e-17</td>\n",
       "      <td>-4.702332e-18</td>\n",
       "      <td>4.088984e-19</td>\n",
       "      <td>0.0</td>\n",
       "      <td>0.0</td>\n",
       "      <td>0.0</td>\n",
       "      <td>0.0</td>\n",
       "      <td>0.0</td>\n",
       "      <td>-2.989378e-17</td>\n",
       "    </tr>\n",
       "    <tr>\n",
       "      <th>2</th>\n",
       "      <td>0.783909</td>\n",
       "      <td>1.443619</td>\n",
       "      <td>-0.671013</td>\n",
       "      <td>3.511375</td>\n",
       "      <td>-0.035002</td>\n",
       "      <td>-0.191526</td>\n",
       "      <td>0.975386</td>\n",
       "      <td>-0.195843</td>\n",
       "      <td>-1.126896</td>\n",
       "      <td>0.436891</td>\n",
       "      <td>...</td>\n",
       "      <td>-4.020329e-01</td>\n",
       "      <td>-2.033759e-01</td>\n",
       "      <td>-1.563665e-01</td>\n",
       "      <td>-2.725356e-01</td>\n",
       "      <td>0.0</td>\n",
       "      <td>0.0</td>\n",
       "      <td>0.0</td>\n",
       "      <td>0.0</td>\n",
       "      <td>0.0</td>\n",
       "      <td>-9.883663e-01</td>\n",
       "    </tr>\n",
       "    <tr>\n",
       "      <th>3</th>\n",
       "      <td>0.783909</td>\n",
       "      <td>1.443619</td>\n",
       "      <td>-0.671013</td>\n",
       "      <td>3.511375</td>\n",
       "      <td>-0.053267</td>\n",
       "      <td>0.599177</td>\n",
       "      <td>-0.062442</td>\n",
       "      <td>0.457509</td>\n",
       "      <td>0.194676</td>\n",
       "      <td>0.885770</td>\n",
       "      <td>...</td>\n",
       "      <td>-4.020329e-01</td>\n",
       "      <td>-2.033759e-01</td>\n",
       "      <td>-1.563665e-01</td>\n",
       "      <td>-2.725356e-01</td>\n",
       "      <td>0.0</td>\n",
       "      <td>0.0</td>\n",
       "      <td>0.0</td>\n",
       "      <td>0.0</td>\n",
       "      <td>0.0</td>\n",
       "      <td>-1.442250e+00</td>\n",
       "    </tr>\n",
       "    <tr>\n",
       "      <th>4</th>\n",
       "      <td>0.783909</td>\n",
       "      <td>1.443619</td>\n",
       "      <td>1.490284</td>\n",
       "      <td>-0.594760</td>\n",
       "      <td>0.016984</td>\n",
       "      <td>1.311405</td>\n",
       "      <td>0.584468</td>\n",
       "      <td>1.110862</td>\n",
       "      <td>4.002670</td>\n",
       "      <td>0.391192</td>\n",
       "      <td>...</td>\n",
       "      <td>-8.586866e-18</td>\n",
       "      <td>-2.788563e-17</td>\n",
       "      <td>-4.702332e-18</td>\n",
       "      <td>4.088984e-19</td>\n",
       "      <td>0.0</td>\n",
       "      <td>0.0</td>\n",
       "      <td>0.0</td>\n",
       "      <td>0.0</td>\n",
       "      <td>0.0</td>\n",
       "      <td>-2.989378e-17</td>\n",
       "    </tr>\n",
       "  </tbody>\n",
       "</table>\n",
       "<p>5 rows × 797 columns</p>\n",
       "</div>"
      ],
      "text/plain": [
       "   CODE_GENDER  FLAG_OWN_CAR  FLAG_OWN_REALTY  CNT_CHILDREN  AMT_INCOME_TOTAL  \\\n",
       "0     0.783909     -0.692704         1.490284      0.773952         -0.067317   \n",
       "1     0.783909     -0.692704        -0.671013     -0.594760         -0.067317   \n",
       "2     0.783909      1.443619        -0.671013      3.511375         -0.035002   \n",
       "3     0.783909      1.443619        -0.671013      3.511375         -0.053267   \n",
       "4     0.783909      1.443619         1.490284     -0.594760          0.016984   \n",
       "\n",
       "   AMT_CREDIT  AMT_ANNUITY  AMT_GOODS_PRICE  REGION_POPULATION_RELATIVE  \\\n",
       "0    1.123063     1.794167         1.110862                   -0.757876   \n",
       "1   -1.061894    -1.315027        -0.979866                   -0.795281   \n",
       "2   -0.191526     0.975386        -0.195843                   -1.126896   \n",
       "3    0.599177    -0.062442         0.457509                    0.194676   \n",
       "4    1.311405     0.584468         1.110862                    4.002670   \n",
       "\n",
       "   DAYS_BIRTH  ...  CC_NAME_CONTRACT_STATUS_Signed_MAX  \\\n",
       "0    0.436659  ...                       -8.586866e-18   \n",
       "1    1.664291  ...                       -8.586866e-18   \n",
       "2    0.436891  ...                       -4.020329e-01   \n",
       "3    0.885770  ...                       -4.020329e-01   \n",
       "4    0.391192  ...                       -8.586866e-18   \n",
       "\n",
       "   CC_NAME_CONTRACT_STATUS_Signed_MEAN  CC_NAME_CONTRACT_STATUS_Signed_SUM  \\\n",
       "0                        -2.788563e-17                       -4.702332e-18   \n",
       "1                        -2.788563e-17                       -4.702332e-18   \n",
       "2                        -2.033759e-01                       -1.563665e-01   \n",
       "3                        -2.033759e-01                       -1.563665e-01   \n",
       "4                        -2.788563e-17                       -4.702332e-18   \n",
       "\n",
       "   CC_NAME_CONTRACT_STATUS_Signed_VAR  CC_NAME_CONTRACT_STATUS_nan_MIN  \\\n",
       "0                        4.088984e-19                              0.0   \n",
       "1                        4.088984e-19                              0.0   \n",
       "2                       -2.725356e-01                              0.0   \n",
       "3                       -2.725356e-01                              0.0   \n",
       "4                        4.088984e-19                              0.0   \n",
       "\n",
       "   CC_NAME_CONTRACT_STATUS_nan_MAX  CC_NAME_CONTRACT_STATUS_nan_MEAN  \\\n",
       "0                              0.0                               0.0   \n",
       "1                              0.0                               0.0   \n",
       "2                              0.0                               0.0   \n",
       "3                              0.0                               0.0   \n",
       "4                              0.0                               0.0   \n",
       "\n",
       "   CC_NAME_CONTRACT_STATUS_nan_SUM  CC_NAME_CONTRACT_STATUS_nan_VAR  \\\n",
       "0                              0.0                              0.0   \n",
       "1                              0.0                              0.0   \n",
       "2                              0.0                              0.0   \n",
       "3                              0.0                              0.0   \n",
       "4                              0.0                              0.0   \n",
       "\n",
       "       CC_COUNT  \n",
       "0 -2.989378e-17  \n",
       "1 -2.989378e-17  \n",
       "2 -9.883663e-01  \n",
       "3 -1.442250e+00  \n",
       "4 -2.989378e-17  \n",
       "\n",
       "[5 rows x 797 columns]"
      ]
     },
     "execution_count": 129,
     "metadata": {},
     "output_type": "execute_result"
    }
   ],
   "source": [
    "X_train.head()"
   ]
  },
  {
   "cell_type": "code",
   "execution_count": 116,
   "id": "925943ab",
   "metadata": {},
   "outputs": [
    {
     "data": {
      "text/html": [
       "<div>\n",
       "<style scoped>\n",
       "    .dataframe tbody tr th:only-of-type {\n",
       "        vertical-align: middle;\n",
       "    }\n",
       "\n",
       "    .dataframe tbody tr th {\n",
       "        vertical-align: top;\n",
       "    }\n",
       "\n",
       "    .dataframe thead th {\n",
       "        text-align: right;\n",
       "    }\n",
       "</style>\n",
       "<table border=\"1\" class=\"dataframe\">\n",
       "  <thead>\n",
       "    <tr style=\"text-align: right;\">\n",
       "      <th></th>\n",
       "      <th>CODE_GENDER</th>\n",
       "      <th>FLAG_OWN_CAR</th>\n",
       "      <th>FLAG_OWN_REALTY</th>\n",
       "      <th>CNT_CHILDREN</th>\n",
       "      <th>AMT_INCOME_TOTAL</th>\n",
       "      <th>AMT_CREDIT</th>\n",
       "      <th>AMT_ANNUITY</th>\n",
       "      <th>AMT_GOODS_PRICE</th>\n",
       "      <th>REGION_POPULATION_RELATIVE</th>\n",
       "      <th>DAYS_BIRTH</th>\n",
       "      <th>...</th>\n",
       "      <th>CC_NAME_CONTRACT_STATUS_Signed_MAX</th>\n",
       "      <th>CC_NAME_CONTRACT_STATUS_Signed_MEAN</th>\n",
       "      <th>CC_NAME_CONTRACT_STATUS_Signed_SUM</th>\n",
       "      <th>CC_NAME_CONTRACT_STATUS_Signed_VAR</th>\n",
       "      <th>CC_NAME_CONTRACT_STATUS_nan_MIN</th>\n",
       "      <th>CC_NAME_CONTRACT_STATUS_nan_MAX</th>\n",
       "      <th>CC_NAME_CONTRACT_STATUS_nan_MEAN</th>\n",
       "      <th>CC_NAME_CONTRACT_STATUS_nan_SUM</th>\n",
       "      <th>CC_NAME_CONTRACT_STATUS_nan_VAR</th>\n",
       "      <th>CC_COUNT</th>\n",
       "    </tr>\n",
       "  </thead>\n",
       "  <tbody>\n",
       "    <tr>\n",
       "      <th>0</th>\n",
       "      <td>-1.275659</td>\n",
       "      <td>1.443619</td>\n",
       "      <td>1.490284</td>\n",
       "      <td>-0.594760</td>\n",
       "      <td>0.087235</td>\n",
       "      <td>-0.711083</td>\n",
       "      <td>-0.296992</td>\n",
       "      <td>-0.718525</td>\n",
       "      <td>0.655608</td>\n",
       "      <td>1.515361</td>\n",
       "      <td>...</td>\n",
       "      <td>0.0</td>\n",
       "      <td>-2.420554e-17</td>\n",
       "      <td>0.0</td>\n",
       "      <td>0.0</td>\n",
       "      <td>0.0</td>\n",
       "      <td>0.0</td>\n",
       "      <td>0.0</td>\n",
       "      <td>0.0</td>\n",
       "      <td>0.0</td>\n",
       "      <td>4.031296e-16</td>\n",
       "    </tr>\n",
       "    <tr>\n",
       "      <th>1</th>\n",
       "      <td>-1.275659</td>\n",
       "      <td>-0.692704</td>\n",
       "      <td>-0.671013</td>\n",
       "      <td>0.773952</td>\n",
       "      <td>-0.137568</td>\n",
       "      <td>-1.312065</td>\n",
       "      <td>-1.547268</td>\n",
       "      <td>-1.306542</td>\n",
       "      <td>0.194676</td>\n",
       "      <td>0.606004</td>\n",
       "      <td>...</td>\n",
       "      <td>0.0</td>\n",
       "      <td>-2.420554e-17</td>\n",
       "      <td>0.0</td>\n",
       "      <td>0.0</td>\n",
       "      <td>0.0</td>\n",
       "      <td>0.0</td>\n",
       "      <td>0.0</td>\n",
       "      <td>0.0</td>\n",
       "      <td>0.0</td>\n",
       "      <td>4.031296e-16</td>\n",
       "    </tr>\n",
       "    <tr>\n",
       "      <th>2</th>\n",
       "      <td>0.783909</td>\n",
       "      <td>-0.692704</td>\n",
       "      <td>-0.671013</td>\n",
       "      <td>-0.594760</td>\n",
       "      <td>-0.067317</td>\n",
       "      <td>-0.883540</td>\n",
       "      <td>-1.067611</td>\n",
       "      <td>-0.783860</td>\n",
       "      <td>0.859127</td>\n",
       "      <td>1.203813</td>\n",
       "      <td>...</td>\n",
       "      <td>0.0</td>\n",
       "      <td>-2.420554e-17</td>\n",
       "      <td>0.0</td>\n",
       "      <td>0.0</td>\n",
       "      <td>0.0</td>\n",
       "      <td>0.0</td>\n",
       "      <td>0.0</td>\n",
       "      <td>0.0</td>\n",
       "      <td>0.0</td>\n",
       "      <td>4.031296e-16</td>\n",
       "    </tr>\n",
       "    <tr>\n",
       "      <th>3</th>\n",
       "      <td>0.783909</td>\n",
       "      <td>-0.692704</td>\n",
       "      <td>-0.671013</td>\n",
       "      <td>-0.594760</td>\n",
       "      <td>-0.053267</td>\n",
       "      <td>-1.327094</td>\n",
       "      <td>-1.702975</td>\n",
       "      <td>-1.319609</td>\n",
       "      <td>0.815308</td>\n",
       "      <td>-1.194383</td>\n",
       "      <td>...</td>\n",
       "      <td>0.0</td>\n",
       "      <td>-2.420554e-17</td>\n",
       "      <td>0.0</td>\n",
       "      <td>0.0</td>\n",
       "      <td>0.0</td>\n",
       "      <td>0.0</td>\n",
       "      <td>0.0</td>\n",
       "      <td>0.0</td>\n",
       "      <td>0.0</td>\n",
       "      <td>4.031296e-16</td>\n",
       "    </tr>\n",
       "    <tr>\n",
       "      <th>4</th>\n",
       "      <td>0.783909</td>\n",
       "      <td>-0.692704</td>\n",
       "      <td>-0.671013</td>\n",
       "      <td>-0.594760</td>\n",
       "      <td>-0.074342</td>\n",
       "      <td>-0.526831</td>\n",
       "      <td>-0.572779</td>\n",
       "      <td>-0.391849</td>\n",
       "      <td>-0.156175</td>\n",
       "      <td>-1.682467</td>\n",
       "      <td>...</td>\n",
       "      <td>0.0</td>\n",
       "      <td>-2.420554e-17</td>\n",
       "      <td>0.0</td>\n",
       "      <td>0.0</td>\n",
       "      <td>0.0</td>\n",
       "      <td>0.0</td>\n",
       "      <td>0.0</td>\n",
       "      <td>0.0</td>\n",
       "      <td>0.0</td>\n",
       "      <td>4.031296e-16</td>\n",
       "    </tr>\n",
       "  </tbody>\n",
       "</table>\n",
       "<p>5 rows × 797 columns</p>\n",
       "</div>"
      ],
      "text/plain": [
       "   CODE_GENDER  FLAG_OWN_CAR  FLAG_OWN_REALTY  CNT_CHILDREN  AMT_INCOME_TOTAL  \\\n",
       "0    -1.275659      1.443619         1.490284     -0.594760          0.087235   \n",
       "1    -1.275659     -0.692704        -0.671013      0.773952         -0.137568   \n",
       "2     0.783909     -0.692704        -0.671013     -0.594760         -0.067317   \n",
       "3     0.783909     -0.692704        -0.671013     -0.594760         -0.053267   \n",
       "4     0.783909     -0.692704        -0.671013     -0.594760         -0.074342   \n",
       "\n",
       "   AMT_CREDIT  AMT_ANNUITY  AMT_GOODS_PRICE  REGION_POPULATION_RELATIVE  \\\n",
       "0   -0.711083    -0.296992        -0.718525                    0.655608   \n",
       "1   -1.312065    -1.547268        -1.306542                    0.194676   \n",
       "2   -0.883540    -1.067611        -0.783860                    0.859127   \n",
       "3   -1.327094    -1.702975        -1.319609                    0.815308   \n",
       "4   -0.526831    -0.572779        -0.391849                   -0.156175   \n",
       "\n",
       "   DAYS_BIRTH  ...  CC_NAME_CONTRACT_STATUS_Signed_MAX  \\\n",
       "0    1.515361  ...                                 0.0   \n",
       "1    0.606004  ...                                 0.0   \n",
       "2    1.203813  ...                                 0.0   \n",
       "3   -1.194383  ...                                 0.0   \n",
       "4   -1.682467  ...                                 0.0   \n",
       "\n",
       "   CC_NAME_CONTRACT_STATUS_Signed_MEAN  CC_NAME_CONTRACT_STATUS_Signed_SUM  \\\n",
       "0                        -2.420554e-17                                 0.0   \n",
       "1                        -2.420554e-17                                 0.0   \n",
       "2                        -2.420554e-17                                 0.0   \n",
       "3                        -2.420554e-17                                 0.0   \n",
       "4                        -2.420554e-17                                 0.0   \n",
       "\n",
       "   CC_NAME_CONTRACT_STATUS_Signed_VAR  CC_NAME_CONTRACT_STATUS_nan_MIN  \\\n",
       "0                                 0.0                              0.0   \n",
       "1                                 0.0                              0.0   \n",
       "2                                 0.0                              0.0   \n",
       "3                                 0.0                              0.0   \n",
       "4                                 0.0                              0.0   \n",
       "\n",
       "   CC_NAME_CONTRACT_STATUS_nan_MAX  CC_NAME_CONTRACT_STATUS_nan_MEAN  \\\n",
       "0                              0.0                               0.0   \n",
       "1                              0.0                               0.0   \n",
       "2                              0.0                               0.0   \n",
       "3                              0.0                               0.0   \n",
       "4                              0.0                               0.0   \n",
       "\n",
       "   CC_NAME_CONTRACT_STATUS_nan_SUM  CC_NAME_CONTRACT_STATUS_nan_VAR  \\\n",
       "0                              0.0                              0.0   \n",
       "1                              0.0                              0.0   \n",
       "2                              0.0                              0.0   \n",
       "3                              0.0                              0.0   \n",
       "4                              0.0                              0.0   \n",
       "\n",
       "       CC_COUNT  \n",
       "0  4.031296e-16  \n",
       "1  4.031296e-16  \n",
       "2  4.031296e-16  \n",
       "3  4.031296e-16  \n",
       "4  4.031296e-16  \n",
       "\n",
       "[5 rows x 797 columns]"
      ]
     },
     "execution_count": 116,
     "metadata": {},
     "output_type": "execute_result"
    }
   ],
   "source": [
    "X_test.head()"
   ]
  },
  {
   "cell_type": "code",
   "execution_count": 117,
   "id": "5fe3befd",
   "metadata": {},
   "outputs": [
    {
     "data": {
      "text/html": [
       "<div>\n",
       "<style scoped>\n",
       "    .dataframe tbody tr th:only-of-type {\n",
       "        vertical-align: middle;\n",
       "    }\n",
       "\n",
       "    .dataframe tbody tr th {\n",
       "        vertical-align: top;\n",
       "    }\n",
       "\n",
       "    .dataframe thead th {\n",
       "        text-align: right;\n",
       "    }\n",
       "</style>\n",
       "<table border=\"1\" class=\"dataframe\">\n",
       "  <thead>\n",
       "    <tr style=\"text-align: right;\">\n",
       "      <th></th>\n",
       "      <th>TARGET</th>\n",
       "    </tr>\n",
       "  </thead>\n",
       "  <tbody>\n",
       "    <tr>\n",
       "      <th>0</th>\n",
       "      <td>0</td>\n",
       "    </tr>\n",
       "    <tr>\n",
       "      <th>1</th>\n",
       "      <td>0</td>\n",
       "    </tr>\n",
       "    <tr>\n",
       "      <th>2</th>\n",
       "      <td>0</td>\n",
       "    </tr>\n",
       "    <tr>\n",
       "      <th>3</th>\n",
       "      <td>0</td>\n",
       "    </tr>\n",
       "    <tr>\n",
       "      <th>4</th>\n",
       "      <td>0</td>\n",
       "    </tr>\n",
       "  </tbody>\n",
       "</table>\n",
       "</div>"
      ],
      "text/plain": [
       "   TARGET\n",
       "0       0\n",
       "1       0\n",
       "2       0\n",
       "3       0\n",
       "4       0"
      ]
     },
     "execution_count": 117,
     "metadata": {},
     "output_type": "execute_result"
    }
   ],
   "source": [
    "y_train.head()"
   ]
  },
  {
   "cell_type": "code",
   "execution_count": 118,
   "id": "1f35147c",
   "metadata": {},
   "outputs": [
    {
     "data": {
      "text/html": [
       "<div>\n",
       "<style scoped>\n",
       "    .dataframe tbody tr th:only-of-type {\n",
       "        vertical-align: middle;\n",
       "    }\n",
       "\n",
       "    .dataframe tbody tr th {\n",
       "        vertical-align: top;\n",
       "    }\n",
       "\n",
       "    .dataframe thead th {\n",
       "        text-align: right;\n",
       "    }\n",
       "</style>\n",
       "<table border=\"1\" class=\"dataframe\">\n",
       "  <thead>\n",
       "    <tr style=\"text-align: right;\">\n",
       "      <th></th>\n",
       "      <th>TARGET</th>\n",
       "    </tr>\n",
       "  </thead>\n",
       "  <tbody>\n",
       "    <tr>\n",
       "      <th>0</th>\n",
       "      <td>0</td>\n",
       "    </tr>\n",
       "    <tr>\n",
       "      <th>1</th>\n",
       "      <td>0</td>\n",
       "    </tr>\n",
       "    <tr>\n",
       "      <th>2</th>\n",
       "      <td>0</td>\n",
       "    </tr>\n",
       "    <tr>\n",
       "      <th>3</th>\n",
       "      <td>0</td>\n",
       "    </tr>\n",
       "    <tr>\n",
       "      <th>4</th>\n",
       "      <td>0</td>\n",
       "    </tr>\n",
       "  </tbody>\n",
       "</table>\n",
       "</div>"
      ],
      "text/plain": [
       "   TARGET\n",
       "0       0\n",
       "1       0\n",
       "2       0\n",
       "3       0\n",
       "4       0"
      ]
     },
     "execution_count": 118,
     "metadata": {},
     "output_type": "execute_result"
    }
   ],
   "source": [
    "y_test.head()"
   ]
  },
  {
   "cell_type": "markdown",
   "id": "150a61d1",
   "metadata": {},
   "source": [
    "# Model trainer"
   ]
  },
  {
   "cell_type": "code",
   "execution_count": 131,
   "id": "b680e81c",
   "metadata": {},
   "outputs": [],
   "source": [
    "# Initiation du fit et trainig \n",
    "models = {\n",
    "                \"LogRegression\" : LogisticRegression(),\n",
    "                \"Naive Bayes\" : GaussianNB(),\n",
    "                \"Nearest Neighbors\" : KNeighborsClassifier(3),\n",
    "#                 \"model_4\" : model_4(),\n",
    "#                 \"model_5\" : model_5(),\n",
    "#                 \"model_6\" : model_6()\n",
    "            }\n",
    "# print(modeltrainer.initiate_model_trainer(train_array=train_arr, test_array=test_arr, models=models))"
   ]
  },
  {
   "cell_type": "code",
   "execution_count": 141,
   "id": "36f9109b",
   "metadata": {},
   "outputs": [],
   "source": [
    "modeltrainer = ModelTrainer()"
   ]
  },
  {
   "cell_type": "code",
   "execution_count": 142,
   "id": "bd8ddbb4",
   "metadata": {},
   "outputs": [
    {
     "data": {
      "text/plain": [
       "{'LogRegression': 0.703619394491236,\n",
       " 'Naive Bayes': 0.8655978667360411,\n",
       " 'Nearest Neighbors': 0.565965334460668}"
      ]
     },
     "execution_count": 142,
     "metadata": {},
     "output_type": "execute_result"
    }
   ],
   "source": [
    "modeltrainer.initiate_model_trainer(X_tr= X_train, y_tr= y_train, X_te= X_test, y_te= y_test, models=models)"
   ]
  },
  {
   "cell_type": "code",
   "execution_count": null,
   "id": "76c13a2e",
   "metadata": {},
   "outputs": [],
   "source": []
  }
 ],
 "metadata": {
  "kernelspec": {
   "display_name": "Python 3 (ipykernel)",
   "language": "python",
   "name": "python3"
  },
  "language_info": {
   "codemirror_mode": {
    "name": "ipython",
    "version": 3
   },
   "file_extension": ".py",
   "mimetype": "text/x-python",
   "name": "python",
   "nbconvert_exporter": "python",
   "pygments_lexer": "ipython3",
   "version": "3.10.0"
  },
  "toc": {
   "base_numbering": 1,
   "nav_menu": {},
   "number_sections": true,
   "sideBar": true,
   "skip_h1_title": false,
   "title_cell": "Table of Contents",
   "title_sidebar": "Contents",
   "toc_cell": false,
   "toc_position": {
    "height": "calc(100% - 180px)",
    "left": "10px",
    "top": "150px",
    "width": "279.273px"
   },
   "toc_section_display": true,
   "toc_window_display": true
  }
 },
 "nbformat": 4,
 "nbformat_minor": 5
}
