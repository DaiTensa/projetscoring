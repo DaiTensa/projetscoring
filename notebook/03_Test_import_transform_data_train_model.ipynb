{
 "cells": [
  {
   "cell_type": "markdown",
   "id": "e29c123d",
   "metadata": {},
   "source": [
    "# Imports"
   ]
  },
  {
   "cell_type": "code",
   "execution_count": 1,
   "id": "fa451358",
   "metadata": {},
   "outputs": [],
   "source": [
    "import warnings\n",
    "import os\n",
    "import sys\n",
    "warnings.filterwarnings(\"ignore\")"
   ]
  },
  {
   "cell_type": "code",
   "execution_count": 2,
   "id": "c1c25a88",
   "metadata": {},
   "outputs": [],
   "source": [
    "import numpy as np\n",
    "import pandas as pd\n",
    "import seaborn as sns\n",
    "import matplotlib.pyplot as plt\n",
    "\n",
    "\n",
    "# Realod modules\n",
    "import importlib"
   ]
  },
  {
   "cell_type": "code",
   "execution_count": 3,
   "id": "a58c7925",
   "metadata": {},
   "outputs": [],
   "source": [
    "import sys\n",
    "sys.path.append(r'C:\\Users\\Lenovo\\Documents\\DSPython\\projetscoring')"
   ]
  },
  {
   "cell_type": "code",
   "execution_count": 3,
   "id": "f43b3834",
   "metadata": {},
   "outputs": [],
   "source": [
    "# Data Ingestion : import des data et autres fonctionnalité\n",
    "from src.components.data_ingestion import *"
   ]
  },
  {
   "cell_type": "code",
   "execution_count": 4,
   "id": "38aabfe3",
   "metadata": {},
   "outputs": [],
   "source": [
    "# Data Transformation : Transformation des data\n",
    "from src.components.data_transformation import DataTransformation"
   ]
  },
  {
   "cell_type": "code",
   "execution_count": 6,
   "id": "3394826a",
   "metadata": {},
   "outputs": [],
   "source": [
    "from src.components.model_trainer import *"
   ]
  },
  {
   "cell_type": "code",
   "execution_count": null,
   "id": "d1d387bb",
   "metadata": {},
   "outputs": [],
   "source": [
    "from src.utilis import save_object, evaluate_models"
   ]
  },
  {
   "cell_type": "markdown",
   "id": "2816ccac",
   "metadata": {},
   "source": [
    "# Relaod modules"
   ]
  },
  {
   "cell_type": "code",
   "execution_count": 30,
   "id": "18e6e183",
   "metadata": {},
   "outputs": [],
   "source": [
    "importlib.reload(sys.modules['src.components.data_ingestion'])\n",
    "from src.components.data_ingestion import *\n",
    "importlib.reload(sys.modules['src.components.data_transformation'])\n",
    "from src.components.data_transformation import *\n",
    "importlib.reload(sys.modules['src.components.model_trainer'])\n",
    "from src.components.model_trainer import *"
   ]
  },
  {
   "cell_type": "markdown",
   "id": "e71a5dab",
   "metadata": {},
   "source": [
    "# Data base"
   ]
  },
  {
   "cell_type": "code",
   "execution_count": 7,
   "id": "7d9f5326",
   "metadata": {},
   "outputs": [],
   "source": [
    "# 01 - Data Base : \n",
    "# Le chemin pour accéder à la base des données se trouve dans les configurations : data_config.py\n",
    "data_base = DataIngestion()"
   ]
  },
  {
   "cell_type": "code",
   "execution_count": 8,
   "id": "5a8b6e48",
   "metadata": {},
   "outputs": [],
   "source": [
    "# Extraction nom de fichiers avec et sans extensions\n",
    "liste_name, files_liste_name = data_base.get_files_names()"
   ]
  },
  {
   "cell_type": "code",
   "execution_count": 9,
   "id": "2b6398e5",
   "metadata": {},
   "outputs": [
    {
     "data": {
      "text/plain": [
       "['application_test',\n",
       " 'application_train',\n",
       " 'bureau',\n",
       " 'bureau_balance',\n",
       " 'credit_card_balance',\n",
       " 'Final_df',\n",
       " 'HomeCredit_columns_description',\n",
       " 'installments_payments',\n",
       " 'POS_CASH_balance',\n",
       " 'previous_application',\n",
       " 'sample_submission']"
      ]
     },
     "execution_count": 9,
     "metadata": {},
     "output_type": "execute_result"
    }
   ],
   "source": [
    "liste_name"
   ]
  },
  {
   "cell_type": "code",
   "execution_count": 21,
   "id": "ebc01d9f",
   "metadata": {},
   "outputs": [
    {
     "data": {
      "text/plain": [
       "['application_test.csv',\n",
       " 'application_train.csv',\n",
       " 'bureau.csv',\n",
       " 'bureau_balance.csv',\n",
       " 'credit_card_balance.csv',\n",
       " 'Final_df.csv',\n",
       " 'HomeCredit_columns_description.csv',\n",
       " 'installments_payments.csv',\n",
       " 'POS_CASH_balance.csv',\n",
       " 'previous_application.csv',\n",
       " 'sample_submission.csv']"
      ]
     },
     "execution_count": 21,
     "metadata": {},
     "output_type": "execute_result"
    }
   ],
   "source": [
    "files_liste_name"
   ]
  },
  {
   "cell_type": "markdown",
   "id": "6c6b0e35",
   "metadata": {},
   "source": [
    "# Import data"
   ]
  },
  {
   "cell_type": "code",
   "execution_count": 22,
   "id": "9daa32c5",
   "metadata": {},
   "outputs": [],
   "source": [
    "# df = pd.read_csv('C:/Users/Lenovo/Documents/DSPython/data_projet_7/Final_df.csv')"
   ]
  },
  {
   "cell_type": "code",
   "execution_count": 10,
   "id": "fe956883",
   "metadata": {},
   "outputs": [
    {
     "name": "stdout",
     "output_type": "stream",
     "text": [
      "Importation du dataset...\n",
      "Importation du dataset réussie !\n"
     ]
    }
   ],
   "source": [
    "row_data = data_base.import_file(file_name='application_train.csv', reduce_memory_usage = False)"
   ]
  },
  {
   "cell_type": "code",
   "execution_count": 11,
   "id": "0a4960d9",
   "metadata": {},
   "outputs": [
    {
     "data": {
      "text/html": [
       "<div>\n",
       "<style scoped>\n",
       "    .dataframe tbody tr th:only-of-type {\n",
       "        vertical-align: middle;\n",
       "    }\n",
       "\n",
       "    .dataframe tbody tr th {\n",
       "        vertical-align: top;\n",
       "    }\n",
       "\n",
       "    .dataframe thead th {\n",
       "        text-align: right;\n",
       "    }\n",
       "</style>\n",
       "<table border=\"1\" class=\"dataframe\">\n",
       "  <thead>\n",
       "    <tr style=\"text-align: right;\">\n",
       "      <th></th>\n",
       "      <th>SK_ID_CURR</th>\n",
       "      <th>TARGET</th>\n",
       "      <th>NAME_CONTRACT_TYPE</th>\n",
       "      <th>CODE_GENDER</th>\n",
       "      <th>FLAG_OWN_CAR</th>\n",
       "      <th>FLAG_OWN_REALTY</th>\n",
       "      <th>CNT_CHILDREN</th>\n",
       "      <th>AMT_INCOME_TOTAL</th>\n",
       "      <th>AMT_CREDIT</th>\n",
       "      <th>AMT_ANNUITY</th>\n",
       "      <th>...</th>\n",
       "      <th>FLAG_DOCUMENT_18</th>\n",
       "      <th>FLAG_DOCUMENT_19</th>\n",
       "      <th>FLAG_DOCUMENT_20</th>\n",
       "      <th>FLAG_DOCUMENT_21</th>\n",
       "      <th>AMT_REQ_CREDIT_BUREAU_HOUR</th>\n",
       "      <th>AMT_REQ_CREDIT_BUREAU_DAY</th>\n",
       "      <th>AMT_REQ_CREDIT_BUREAU_WEEK</th>\n",
       "      <th>AMT_REQ_CREDIT_BUREAU_MON</th>\n",
       "      <th>AMT_REQ_CREDIT_BUREAU_QRT</th>\n",
       "      <th>AMT_REQ_CREDIT_BUREAU_YEAR</th>\n",
       "    </tr>\n",
       "  </thead>\n",
       "  <tbody>\n",
       "    <tr>\n",
       "      <th>0</th>\n",
       "      <td>100002</td>\n",
       "      <td>1</td>\n",
       "      <td>Cash loans</td>\n",
       "      <td>M</td>\n",
       "      <td>N</td>\n",
       "      <td>Y</td>\n",
       "      <td>0</td>\n",
       "      <td>202500.0</td>\n",
       "      <td>406597.5</td>\n",
       "      <td>24700.5</td>\n",
       "      <td>...</td>\n",
       "      <td>0</td>\n",
       "      <td>0</td>\n",
       "      <td>0</td>\n",
       "      <td>0</td>\n",
       "      <td>0.0</td>\n",
       "      <td>0.0</td>\n",
       "      <td>0.0</td>\n",
       "      <td>0.0</td>\n",
       "      <td>0.0</td>\n",
       "      <td>1.0</td>\n",
       "    </tr>\n",
       "    <tr>\n",
       "      <th>1</th>\n",
       "      <td>100003</td>\n",
       "      <td>0</td>\n",
       "      <td>Cash loans</td>\n",
       "      <td>F</td>\n",
       "      <td>N</td>\n",
       "      <td>N</td>\n",
       "      <td>0</td>\n",
       "      <td>270000.0</td>\n",
       "      <td>1293502.5</td>\n",
       "      <td>35698.5</td>\n",
       "      <td>...</td>\n",
       "      <td>0</td>\n",
       "      <td>0</td>\n",
       "      <td>0</td>\n",
       "      <td>0</td>\n",
       "      <td>0.0</td>\n",
       "      <td>0.0</td>\n",
       "      <td>0.0</td>\n",
       "      <td>0.0</td>\n",
       "      <td>0.0</td>\n",
       "      <td>0.0</td>\n",
       "    </tr>\n",
       "    <tr>\n",
       "      <th>2</th>\n",
       "      <td>100004</td>\n",
       "      <td>0</td>\n",
       "      <td>Revolving loans</td>\n",
       "      <td>M</td>\n",
       "      <td>Y</td>\n",
       "      <td>Y</td>\n",
       "      <td>0</td>\n",
       "      <td>67500.0</td>\n",
       "      <td>135000.0</td>\n",
       "      <td>6750.0</td>\n",
       "      <td>...</td>\n",
       "      <td>0</td>\n",
       "      <td>0</td>\n",
       "      <td>0</td>\n",
       "      <td>0</td>\n",
       "      <td>0.0</td>\n",
       "      <td>0.0</td>\n",
       "      <td>0.0</td>\n",
       "      <td>0.0</td>\n",
       "      <td>0.0</td>\n",
       "      <td>0.0</td>\n",
       "    </tr>\n",
       "    <tr>\n",
       "      <th>3</th>\n",
       "      <td>100006</td>\n",
       "      <td>0</td>\n",
       "      <td>Cash loans</td>\n",
       "      <td>F</td>\n",
       "      <td>N</td>\n",
       "      <td>Y</td>\n",
       "      <td>0</td>\n",
       "      <td>135000.0</td>\n",
       "      <td>312682.5</td>\n",
       "      <td>29686.5</td>\n",
       "      <td>...</td>\n",
       "      <td>0</td>\n",
       "      <td>0</td>\n",
       "      <td>0</td>\n",
       "      <td>0</td>\n",
       "      <td>NaN</td>\n",
       "      <td>NaN</td>\n",
       "      <td>NaN</td>\n",
       "      <td>NaN</td>\n",
       "      <td>NaN</td>\n",
       "      <td>NaN</td>\n",
       "    </tr>\n",
       "    <tr>\n",
       "      <th>4</th>\n",
       "      <td>100007</td>\n",
       "      <td>0</td>\n",
       "      <td>Cash loans</td>\n",
       "      <td>M</td>\n",
       "      <td>N</td>\n",
       "      <td>Y</td>\n",
       "      <td>0</td>\n",
       "      <td>121500.0</td>\n",
       "      <td>513000.0</td>\n",
       "      <td>21865.5</td>\n",
       "      <td>...</td>\n",
       "      <td>0</td>\n",
       "      <td>0</td>\n",
       "      <td>0</td>\n",
       "      <td>0</td>\n",
       "      <td>0.0</td>\n",
       "      <td>0.0</td>\n",
       "      <td>0.0</td>\n",
       "      <td>0.0</td>\n",
       "      <td>0.0</td>\n",
       "      <td>0.0</td>\n",
       "    </tr>\n",
       "  </tbody>\n",
       "</table>\n",
       "<p>5 rows × 122 columns</p>\n",
       "</div>"
      ],
      "text/plain": [
       "   SK_ID_CURR  TARGET NAME_CONTRACT_TYPE CODE_GENDER FLAG_OWN_CAR  \\\n",
       "0      100002       1         Cash loans           M            N   \n",
       "1      100003       0         Cash loans           F            N   \n",
       "2      100004       0    Revolving loans           M            Y   \n",
       "3      100006       0         Cash loans           F            N   \n",
       "4      100007       0         Cash loans           M            N   \n",
       "\n",
       "  FLAG_OWN_REALTY  CNT_CHILDREN  AMT_INCOME_TOTAL  AMT_CREDIT  AMT_ANNUITY  \\\n",
       "0               Y             0          202500.0    406597.5      24700.5   \n",
       "1               N             0          270000.0   1293502.5      35698.5   \n",
       "2               Y             0           67500.0    135000.0       6750.0   \n",
       "3               Y             0          135000.0    312682.5      29686.5   \n",
       "4               Y             0          121500.0    513000.0      21865.5   \n",
       "\n",
       "   ...  FLAG_DOCUMENT_18 FLAG_DOCUMENT_19 FLAG_DOCUMENT_20 FLAG_DOCUMENT_21  \\\n",
       "0  ...                 0                0                0                0   \n",
       "1  ...                 0                0                0                0   \n",
       "2  ...                 0                0                0                0   \n",
       "3  ...                 0                0                0                0   \n",
       "4  ...                 0                0                0                0   \n",
       "\n",
       "  AMT_REQ_CREDIT_BUREAU_HOUR AMT_REQ_CREDIT_BUREAU_DAY  \\\n",
       "0                        0.0                       0.0   \n",
       "1                        0.0                       0.0   \n",
       "2                        0.0                       0.0   \n",
       "3                        NaN                       NaN   \n",
       "4                        0.0                       0.0   \n",
       "\n",
       "   AMT_REQ_CREDIT_BUREAU_WEEK  AMT_REQ_CREDIT_BUREAU_MON  \\\n",
       "0                         0.0                        0.0   \n",
       "1                         0.0                        0.0   \n",
       "2                         0.0                        0.0   \n",
       "3                         NaN                        NaN   \n",
       "4                         0.0                        0.0   \n",
       "\n",
       "   AMT_REQ_CREDIT_BUREAU_QRT  AMT_REQ_CREDIT_BUREAU_YEAR  \n",
       "0                        0.0                         1.0  \n",
       "1                        0.0                         0.0  \n",
       "2                        0.0                         0.0  \n",
       "3                        NaN                         NaN  \n",
       "4                        0.0                         0.0  \n",
       "\n",
       "[5 rows x 122 columns]"
      ]
     },
     "execution_count": 11,
     "metadata": {},
     "output_type": "execute_result"
    }
   ],
   "source": [
    "row_data.head()"
   ]
  },
  {
   "cell_type": "code",
   "execution_count": 46,
   "id": "b8397e6f",
   "metadata": {},
   "outputs": [
    {
     "name": "stdout",
     "output_type": "stream",
     "text": [
      "Data Frame : row_data\n",
      "----------------------------------------\n",
      "\u001b[1mNombre de ligne :\u001b[0m 307511 --- \u001b[1mNombre de colonnes :\u001b[0m 122\n",
      "----------------------------------------\n",
      "Le Taux de remplissage total est égal à : 75.6 %\n",
      "Nombre de colonnes ayant moins de 20% de valeurs manquantes : 72\n",
      "Le Nombre de features vides est égal à : 0 Features\n",
      "----------------------------------------\n",
      "Les Features vides sont : []\n",
      "Les Features Ayant plus  20%  de valeurs manquantes sont:\n",
      "['COMMONAREA_MEDI', 'COMMONAREA_AVG', 'COMMONAREA_MODE', 'NONLIVINGAPARTMENTS_MODE', 'NONLIVINGAPARTMENTS_AVG', 'NONLIVINGAPARTMENTS_MEDI', 'FONDKAPREMONT_MODE', 'LIVINGAPARTMENTS_MODE', 'LIVINGAPARTMENTS_AVG', 'LIVINGAPARTMENTS_MEDI', 'FLOORSMIN_AVG', 'FLOORSMIN_MODE', 'FLOORSMIN_MEDI', 'YEARS_BUILD_MEDI', 'YEARS_BUILD_MODE', 'YEARS_BUILD_AVG', 'OWN_CAR_AGE', 'LANDAREA_MEDI', 'LANDAREA_MODE', 'LANDAREA_AVG', 'BASEMENTAREA_MEDI', 'BASEMENTAREA_AVG', 'BASEMENTAREA_MODE', 'EXT_SOURCE_1', 'NONLIVINGAREA_MODE', 'NONLIVINGAREA_AVG', 'NONLIVINGAREA_MEDI', 'ELEVATORS_MEDI', 'ELEVATORS_AVG', 'ELEVATORS_MODE', 'WALLSMATERIAL_MODE', 'APARTMENTS_MEDI', 'APARTMENTS_AVG', 'APARTMENTS_MODE', 'ENTRANCES_MEDI', 'ENTRANCES_AVG', 'ENTRANCES_MODE', 'LIVINGAREA_AVG', 'LIVINGAREA_MODE', 'LIVINGAREA_MEDI', 'HOUSETYPE_MODE', 'FLOORSMAX_MODE', 'FLOORSMAX_MEDI', 'FLOORSMAX_AVG', 'YEARS_BEGINEXPLUATATION_MODE', 'YEARS_BEGINEXPLUATATION_MEDI', 'YEARS_BEGINEXPLUATATION_AVG', 'TOTALAREA_MODE', 'EMERGENCYSTATE_MODE', 'OCCUPATION_TYPE']\n",
      "----------------------------------------\n",
      "*****Nombre de catégorie features catégorielles******\n",
      "\n",
      "NAME_CONTRACT_TYPE-------------------------------- 2\n",
      "CODE_GENDER--------------------------------------- 3\n",
      "FLAG_OWN_CAR-------------------------------------- 2\n",
      "FLAG_OWN_REALTY----------------------------------- 2\n",
      "NAME_TYPE_SUITE----------------------------------- 8\n",
      "NAME_INCOME_TYPE---------------------------------- 8\n",
      "NAME_EDUCATION_TYPE------------------------------- 5\n",
      "NAME_FAMILY_STATUS-------------------------------- 6\n",
      "NAME_HOUSING_TYPE--------------------------------- 6\n",
      "OCCUPATION_TYPE----------------------------------- 19\n",
      "WEEKDAY_APPR_PROCESS_START------------------------ 7\n",
      "ORGANIZATION_TYPE--------------------------------- 58\n",
      "FONDKAPREMONT_MODE-------------------------------- 5\n",
      "HOUSETYPE_MODE------------------------------------ 4\n",
      "WALLSMATERIAL_MODE-------------------------------- 8\n",
      "EMERGENCYSTATE_MODE------------------------------- 3\n"
     ]
    }
   ],
   "source": [
    "rapport_df_row_data = RapportDataFrame(row_data, target_column=\"TARGET\", ID_Columns=[\"SK_ID_CURR\"])\n",
    "# Rapport : row_datarow_data\n",
    "print(\"Data Frame : row_data\")\n",
    "print(20 * \"--\")\n",
    "rapport_df_row_data.rapport(nan_threshold = 20, return_column_to_keep=False, print_rapport = True)"
   ]
  },
  {
   "cell_type": "markdown",
   "id": "b78f2d97",
   "metadata": {},
   "source": [
    "# Data transformation"
   ]
  },
  {
   "cell_type": "code",
   "execution_count": 31,
   "id": "e20ab6c6",
   "metadata": {},
   "outputs": [],
   "source": [
    "transformer_row_data= DataTransformation(row_data)"
   ]
  },
  {
   "cell_type": "markdown",
   "id": "e5120c87",
   "metadata": {},
   "source": [
    "# Train Test Split"
   ]
  },
  {
   "cell_type": "code",
   "execution_count": 14,
   "id": "d24c8ad8",
   "metadata": {},
   "outputs": [
    {
     "name": "stdout",
     "output_type": "stream",
     "text": [
      "X_train : done 1/4 ---- Nombre de lignes :215257, Nombre de colonnes:121\n",
      "y_train : done 2/4 ---- Nombre de lignes :215257\n",
      "X_test : done 3/4 ---- Nombre de lignes :92254, Nombre de colonnes:121\n",
      "y_test : done 4/4 ---- Nombre de lignes :92254\n",
      "####################\n",
      "Les données sont enregistrées dans le dossier artifacts\n"
     ]
    }
   ],
   "source": [
    "X_train, X_test, y_train, y_test = transformer_row_data.initiate_train_test_split(\n",
    "    target=\"TARGET\",\n",
    "    train_size=0.30,\n",
    "    stratification=True)"
   ]
  },
  {
   "cell_type": "code",
   "execution_count": 28,
   "id": "63f97ce5",
   "metadata": {},
   "outputs": [
    {
     "data": {
      "text/plain": [
       "(215257, 121)"
      ]
     },
     "execution_count": 28,
     "metadata": {},
     "output_type": "execute_result"
    }
   ],
   "source": [
    "X_train.shape"
   ]
  },
  {
   "cell_type": "markdown",
   "id": "df376d5e",
   "metadata": {},
   "source": [
    "# Preprocessing"
   ]
  },
  {
   "cell_type": "code",
   "execution_count": 29,
   "id": "b752b0bf",
   "metadata": {},
   "outputs": [],
   "source": [
    "# Si les data frames sont existants alors exécuter la cellule pour les importer\n",
    "# X_train,X_test, y_train, y_test = transformer_row_data.get_data_frames()"
   ]
  },
  {
   "cell_type": "code",
   "execution_count": 32,
   "id": "1df8ccec",
   "metadata": {},
   "outputs": [
    {
     "name": "stdout",
     "output_type": "stream",
     "text": [
      "TARGET distribution avant Undersampling\n",
      "0    197880\n",
      "1     17377\n",
      "Name: TARGET, dtype: int64\n",
      "\n",
      "TARGET distribution après Undersampling\n",
      "0    17377\n",
      "1    17377\n",
      "Name: TARGET, dtype: int64\n",
      "\n",
      "Les étapes de transformation :\n",
      "ColumnTransformer(transformers=[('num_pipeline',\n",
      "                                 Pipeline(steps=[('imputer', SimpleImputer()),\n",
      "                                                 ('scaled', StandardScaler())]),\n",
      "                                 ['CNT_CHILDREN', 'AMT_INCOME_TOTAL',\n",
      "                                  'AMT_CREDIT', 'AMT_ANNUITY',\n",
      "                                  'AMT_GOODS_PRICE',\n",
      "                                  'REGION_POPULATION_RELATIVE', 'DAYS_BIRTH',\n",
      "                                  'DAYS_EMPLOYED', 'DAYS_REGISTRATION',\n",
      "                                  'DAYS_ID_PUBLISH', 'OWN_CAR_AGE',\n",
      "                                  'FLAG_MOBIL', 'FLAG_EMP_PHONE',\n",
      "                                  'FLAG_WO...\n",
      "                                                  StandardScaler(with_mean=False))]),\n",
      "                                 ['NAME_CONTRACT_TYPE', 'CODE_GENDER',\n",
      "                                  'FLAG_OWN_CAR', 'FLAG_OWN_REALTY',\n",
      "                                  'NAME_TYPE_SUITE', 'NAME_INCOME_TYPE',\n",
      "                                  'NAME_EDUCATION_TYPE', 'NAME_FAMILY_STATUS',\n",
      "                                  'NAME_HOUSING_TYPE', 'OCCUPATION_TYPE',\n",
      "                                  'WEEKDAY_APPR_PROCESS_START',\n",
      "                                  'ORGANIZATION_TYPE', 'FONDKAPREMONT_MODE',\n",
      "                                  'HOUSETYPE_MODE', 'WALLSMATERIAL_MODE',\n",
      "                                  'EMERGENCYSTATE_MODE'])])\n"
     ]
    }
   ],
   "source": [
    "X_train, X_test,y_train,y_test= transformer_row_data.initiate_data_transformation(\n",
    "    X_train, \n",
    "    X_test, \n",
    "    y_train,\n",
    "    y_test,\n",
    "    undersampling= True,\n",
    "    return_train_test_array=False\n",
    ")"
   ]
  },
  {
   "cell_type": "code",
   "execution_count": 33,
   "id": "215d2aa5",
   "metadata": {},
   "outputs": [
    {
     "data": {
      "text/html": [
       "<div>\n",
       "<style scoped>\n",
       "    .dataframe tbody tr th:only-of-type {\n",
       "        vertical-align: middle;\n",
       "    }\n",
       "\n",
       "    .dataframe tbody tr th {\n",
       "        vertical-align: top;\n",
       "    }\n",
       "\n",
       "    .dataframe thead th {\n",
       "        text-align: right;\n",
       "    }\n",
       "</style>\n",
       "<table border=\"1\" class=\"dataframe\">\n",
       "  <thead>\n",
       "    <tr style=\"text-align: right;\">\n",
       "      <th></th>\n",
       "      <th>CNT_CHILDREN</th>\n",
       "      <th>AMT_INCOME_TOTAL</th>\n",
       "      <th>AMT_CREDIT</th>\n",
       "      <th>AMT_ANNUITY</th>\n",
       "      <th>AMT_GOODS_PRICE</th>\n",
       "      <th>REGION_POPULATION_RELATIVE</th>\n",
       "      <th>DAYS_BIRTH</th>\n",
       "      <th>DAYS_EMPLOYED</th>\n",
       "      <th>DAYS_REGISTRATION</th>\n",
       "      <th>DAYS_ID_PUBLISH</th>\n",
       "      <th>...</th>\n",
       "      <th>WALLSMATERIAL_MODE_Mixed</th>\n",
       "      <th>WALLSMATERIAL_MODE_Monolithic</th>\n",
       "      <th>WALLSMATERIAL_MODE_Others</th>\n",
       "      <th>WALLSMATERIAL_MODE_Panel</th>\n",
       "      <th>WALLSMATERIAL_MODE_Stone, brick</th>\n",
       "      <th>WALLSMATERIAL_MODE_Wooden</th>\n",
       "      <th>WALLSMATERIAL_MODE_missing</th>\n",
       "      <th>EMERGENCYSTATE_MODE_No</th>\n",
       "      <th>EMERGENCYSTATE_MODE_Yes</th>\n",
       "      <th>EMERGENCYSTATE_MODE_missing</th>\n",
       "    </tr>\n",
       "  </thead>\n",
       "  <tbody>\n",
       "    <tr>\n",
       "      <th>0</th>\n",
       "      <td>-0.590758</td>\n",
       "      <td>-0.110090</td>\n",
       "      <td>-0.712862</td>\n",
       "      <td>-0.764309</td>\n",
       "      <td>-0.717713</td>\n",
       "      <td>-0.921362</td>\n",
       "      <td>-1.487348</td>\n",
       "      <td>2.334831</td>\n",
       "      <td>-1.013842</td>\n",
       "      <td>-0.983043</td>\n",
       "      <td>...</td>\n",
       "      <td>0.0</td>\n",
       "      <td>0.0</td>\n",
       "      <td>0.0</td>\n",
       "      <td>0.00000</td>\n",
       "      <td>0.0</td>\n",
       "      <td>0.0</td>\n",
       "      <td>2.006254</td>\n",
       "      <td>0.000000</td>\n",
       "      <td>0.0</td>\n",
       "      <td>2.00011</td>\n",
       "    </tr>\n",
       "    <tr>\n",
       "      <th>1</th>\n",
       "      <td>-0.590758</td>\n",
       "      <td>-0.088775</td>\n",
       "      <td>0.708242</td>\n",
       "      <td>-0.140152</td>\n",
       "      <td>0.556812</td>\n",
       "      <td>-0.645804</td>\n",
       "      <td>-1.875241</td>\n",
       "      <td>2.334831</td>\n",
       "      <td>-1.836275</td>\n",
       "      <td>-0.745949</td>\n",
       "      <td>...</td>\n",
       "      <td>0.0</td>\n",
       "      <td>0.0</td>\n",
       "      <td>0.0</td>\n",
       "      <td>0.00000</td>\n",
       "      <td>0.0</td>\n",
       "      <td>0.0</td>\n",
       "      <td>2.006254</td>\n",
       "      <td>0.000000</td>\n",
       "      <td>0.0</td>\n",
       "      <td>2.00011</td>\n",
       "    </tr>\n",
       "    <tr>\n",
       "      <th>2</th>\n",
       "      <td>-0.590758</td>\n",
       "      <td>0.053319</td>\n",
       "      <td>0.466863</td>\n",
       "      <td>0.551526</td>\n",
       "      <td>0.465775</td>\n",
       "      <td>0.196306</td>\n",
       "      <td>0.768199</td>\n",
       "      <td>-0.441017</td>\n",
       "      <td>-0.274898</td>\n",
       "      <td>-0.068818</td>\n",
       "      <td>...</td>\n",
       "      <td>0.0</td>\n",
       "      <td>0.0</td>\n",
       "      <td>0.0</td>\n",
       "      <td>0.00000</td>\n",
       "      <td>0.0</td>\n",
       "      <td>0.0</td>\n",
       "      <td>2.006254</td>\n",
       "      <td>0.000000</td>\n",
       "      <td>0.0</td>\n",
       "      <td>2.00011</td>\n",
       "    </tr>\n",
       "    <tr>\n",
       "      <th>3</th>\n",
       "      <td>0.774439</td>\n",
       "      <td>-0.017728</td>\n",
       "      <td>-1.062905</td>\n",
       "      <td>-1.313698</td>\n",
       "      <td>-0.977820</td>\n",
       "      <td>-0.156569</td>\n",
       "      <td>0.379614</td>\n",
       "      <td>-0.419183</td>\n",
       "      <td>1.134285</td>\n",
       "      <td>1.831877</td>\n",
       "      <td>...</td>\n",
       "      <td>0.0</td>\n",
       "      <td>0.0</td>\n",
       "      <td>0.0</td>\n",
       "      <td>0.00000</td>\n",
       "      <td>0.0</td>\n",
       "      <td>0.0</td>\n",
       "      <td>2.006254</td>\n",
       "      <td>0.000000</td>\n",
       "      <td>0.0</td>\n",
       "      <td>2.00011</td>\n",
       "    </tr>\n",
       "    <tr>\n",
       "      <th>4</th>\n",
       "      <td>-0.590758</td>\n",
       "      <td>-0.166927</td>\n",
       "      <td>-1.284530</td>\n",
       "      <td>-1.278126</td>\n",
       "      <td>-1.237927</td>\n",
       "      <td>0.049505</td>\n",
       "      <td>-1.802973</td>\n",
       "      <td>2.334831</td>\n",
       "      <td>-0.961660</td>\n",
       "      <td>-0.711797</td>\n",
       "      <td>...</td>\n",
       "      <td>0.0</td>\n",
       "      <td>0.0</td>\n",
       "      <td>0.0</td>\n",
       "      <td>2.53008</td>\n",
       "      <td>0.0</td>\n",
       "      <td>0.0</td>\n",
       "      <td>0.000000</td>\n",
       "      <td>2.000686</td>\n",
       "      <td>0.0</td>\n",
       "      <td>0.00000</td>\n",
       "    </tr>\n",
       "  </tbody>\n",
       "</table>\n",
       "<p>5 rows × 249 columns</p>\n",
       "</div>"
      ],
      "text/plain": [
       "   CNT_CHILDREN  AMT_INCOME_TOTAL  AMT_CREDIT  AMT_ANNUITY  AMT_GOODS_PRICE  \\\n",
       "0     -0.590758         -0.110090   -0.712862    -0.764309        -0.717713   \n",
       "1     -0.590758         -0.088775    0.708242    -0.140152         0.556812   \n",
       "2     -0.590758          0.053319    0.466863     0.551526         0.465775   \n",
       "3      0.774439         -0.017728   -1.062905    -1.313698        -0.977820   \n",
       "4     -0.590758         -0.166927   -1.284530    -1.278126        -1.237927   \n",
       "\n",
       "   REGION_POPULATION_RELATIVE  DAYS_BIRTH  DAYS_EMPLOYED  DAYS_REGISTRATION  \\\n",
       "0                   -0.921362   -1.487348       2.334831          -1.013842   \n",
       "1                   -0.645804   -1.875241       2.334831          -1.836275   \n",
       "2                    0.196306    0.768199      -0.441017          -0.274898   \n",
       "3                   -0.156569    0.379614      -0.419183           1.134285   \n",
       "4                    0.049505   -1.802973       2.334831          -0.961660   \n",
       "\n",
       "   DAYS_ID_PUBLISH  ...  WALLSMATERIAL_MODE_Mixed  \\\n",
       "0        -0.983043  ...                       0.0   \n",
       "1        -0.745949  ...                       0.0   \n",
       "2        -0.068818  ...                       0.0   \n",
       "3         1.831877  ...                       0.0   \n",
       "4        -0.711797  ...                       0.0   \n",
       "\n",
       "   WALLSMATERIAL_MODE_Monolithic  WALLSMATERIAL_MODE_Others  \\\n",
       "0                            0.0                        0.0   \n",
       "1                            0.0                        0.0   \n",
       "2                            0.0                        0.0   \n",
       "3                            0.0                        0.0   \n",
       "4                            0.0                        0.0   \n",
       "\n",
       "   WALLSMATERIAL_MODE_Panel  WALLSMATERIAL_MODE_Stone, brick  \\\n",
       "0                   0.00000                              0.0   \n",
       "1                   0.00000                              0.0   \n",
       "2                   0.00000                              0.0   \n",
       "3                   0.00000                              0.0   \n",
       "4                   2.53008                              0.0   \n",
       "\n",
       "   WALLSMATERIAL_MODE_Wooden  WALLSMATERIAL_MODE_missing  \\\n",
       "0                        0.0                    2.006254   \n",
       "1                        0.0                    2.006254   \n",
       "2                        0.0                    2.006254   \n",
       "3                        0.0                    2.006254   \n",
       "4                        0.0                    0.000000   \n",
       "\n",
       "   EMERGENCYSTATE_MODE_No  EMERGENCYSTATE_MODE_Yes  \\\n",
       "0                0.000000                      0.0   \n",
       "1                0.000000                      0.0   \n",
       "2                0.000000                      0.0   \n",
       "3                0.000000                      0.0   \n",
       "4                2.000686                      0.0   \n",
       "\n",
       "   EMERGENCYSTATE_MODE_missing  \n",
       "0                      2.00011  \n",
       "1                      2.00011  \n",
       "2                      2.00011  \n",
       "3                      2.00011  \n",
       "4                      0.00000  \n",
       "\n",
       "[5 rows x 249 columns]"
      ]
     },
     "execution_count": 33,
     "metadata": {},
     "output_type": "execute_result"
    }
   ],
   "source": [
    "X_train.head()"
   ]
  },
  {
   "cell_type": "code",
   "execution_count": 34,
   "id": "c231cd98",
   "metadata": {},
   "outputs": [
    {
     "data": {
      "text/html": [
       "<div>\n",
       "<style scoped>\n",
       "    .dataframe tbody tr th:only-of-type {\n",
       "        vertical-align: middle;\n",
       "    }\n",
       "\n",
       "    .dataframe tbody tr th {\n",
       "        vertical-align: top;\n",
       "    }\n",
       "\n",
       "    .dataframe thead th {\n",
       "        text-align: right;\n",
       "    }\n",
       "</style>\n",
       "<table border=\"1\" class=\"dataframe\">\n",
       "  <thead>\n",
       "    <tr style=\"text-align: right;\">\n",
       "      <th></th>\n",
       "      <th>CNT_CHILDREN</th>\n",
       "      <th>AMT_INCOME_TOTAL</th>\n",
       "      <th>AMT_CREDIT</th>\n",
       "      <th>AMT_ANNUITY</th>\n",
       "      <th>AMT_GOODS_PRICE</th>\n",
       "      <th>REGION_POPULATION_RELATIVE</th>\n",
       "      <th>DAYS_BIRTH</th>\n",
       "      <th>DAYS_EMPLOYED</th>\n",
       "      <th>DAYS_REGISTRATION</th>\n",
       "      <th>DAYS_ID_PUBLISH</th>\n",
       "      <th>...</th>\n",
       "      <th>WALLSMATERIAL_MODE_Mixed</th>\n",
       "      <th>WALLSMATERIAL_MODE_Monolithic</th>\n",
       "      <th>WALLSMATERIAL_MODE_Others</th>\n",
       "      <th>WALLSMATERIAL_MODE_Panel</th>\n",
       "      <th>WALLSMATERIAL_MODE_Stone, brick</th>\n",
       "      <th>WALLSMATERIAL_MODE_Wooden</th>\n",
       "      <th>WALLSMATERIAL_MODE_missing</th>\n",
       "      <th>EMERGENCYSTATE_MODE_No</th>\n",
       "      <th>EMERGENCYSTATE_MODE_Yes</th>\n",
       "      <th>EMERGENCYSTATE_MODE_missing</th>\n",
       "    </tr>\n",
       "  </thead>\n",
       "  <tbody>\n",
       "    <tr>\n",
       "      <th>0</th>\n",
       "      <td>-0.590758</td>\n",
       "      <td>0.032005</td>\n",
       "      <td>0.594534</td>\n",
       "      <td>0.330518</td>\n",
       "      <td>0.452769</td>\n",
       "      <td>-1.079527</td>\n",
       "      <td>0.139952</td>\n",
       "      <td>-0.420018</td>\n",
       "      <td>1.247924</td>\n",
       "      <td>-0.926561</td>\n",
       "      <td>...</td>\n",
       "      <td>0.0</td>\n",
       "      <td>0.0</td>\n",
       "      <td>0.0</td>\n",
       "      <td>0.0</td>\n",
       "      <td>0.000000</td>\n",
       "      <td>0.0</td>\n",
       "      <td>2.006254</td>\n",
       "      <td>0.000000</td>\n",
       "      <td>0.0</td>\n",
       "      <td>2.00011</td>\n",
       "    </tr>\n",
       "    <tr>\n",
       "      <th>1</th>\n",
       "      <td>-0.590758</td>\n",
       "      <td>0.017795</td>\n",
       "      <td>0.150098</td>\n",
       "      <td>0.221167</td>\n",
       "      <td>-0.197499</td>\n",
       "      <td>0.959179</td>\n",
       "      <td>0.054062</td>\n",
       "      <td>-0.427043</td>\n",
       "      <td>1.308512</td>\n",
       "      <td>-0.328242</td>\n",
       "      <td>...</td>\n",
       "      <td>0.0</td>\n",
       "      <td>0.0</td>\n",
       "      <td>0.0</td>\n",
       "      <td>0.0</td>\n",
       "      <td>2.492607</td>\n",
       "      <td>0.0</td>\n",
       "      <td>0.000000</td>\n",
       "      <td>2.000686</td>\n",
       "      <td>0.0</td>\n",
       "      <td>0.00000</td>\n",
       "    </tr>\n",
       "    <tr>\n",
       "      <th>2</th>\n",
       "      <td>-0.590758</td>\n",
       "      <td>-0.053252</td>\n",
       "      <td>0.242165</td>\n",
       "      <td>0.404297</td>\n",
       "      <td>0.452769</td>\n",
       "      <td>-1.145863</td>\n",
       "      <td>-1.034115</td>\n",
       "      <td>-0.415618</td>\n",
       "      <td>1.125298</td>\n",
       "      <td>-0.315764</td>\n",
       "      <td>...</td>\n",
       "      <td>0.0</td>\n",
       "      <td>0.0</td>\n",
       "      <td>0.0</td>\n",
       "      <td>0.0</td>\n",
       "      <td>2.492607</td>\n",
       "      <td>0.0</td>\n",
       "      <td>0.000000</td>\n",
       "      <td>2.000686</td>\n",
       "      <td>0.0</td>\n",
       "      <td>0.00000</td>\n",
       "    </tr>\n",
       "    <tr>\n",
       "      <th>3</th>\n",
       "      <td>0.774439</td>\n",
       "      <td>-0.088775</td>\n",
       "      <td>-0.944263</td>\n",
       "      <td>-0.461947</td>\n",
       "      <td>-0.847766</td>\n",
       "      <td>-0.824160</td>\n",
       "      <td>1.456246</td>\n",
       "      <td>-0.415603</td>\n",
       "      <td>1.310252</td>\n",
       "      <td>1.006316</td>\n",
       "      <td>...</td>\n",
       "      <td>0.0</td>\n",
       "      <td>0.0</td>\n",
       "      <td>0.0</td>\n",
       "      <td>0.0</td>\n",
       "      <td>2.492607</td>\n",
       "      <td>0.0</td>\n",
       "      <td>0.000000</td>\n",
       "      <td>2.000686</td>\n",
       "      <td>0.0</td>\n",
       "      <td>0.00000</td>\n",
       "    </tr>\n",
       "    <tr>\n",
       "      <th>4</th>\n",
       "      <td>-0.590758</td>\n",
       "      <td>-0.152718</td>\n",
       "      <td>-0.881619</td>\n",
       "      <td>-0.097334</td>\n",
       "      <td>-0.847766</td>\n",
       "      <td>-0.642272</td>\n",
       "      <td>-1.857924</td>\n",
       "      <td>2.334831</td>\n",
       "      <td>-0.548559</td>\n",
       "      <td>-0.993551</td>\n",
       "      <td>...</td>\n",
       "      <td>0.0</td>\n",
       "      <td>0.0</td>\n",
       "      <td>0.0</td>\n",
       "      <td>0.0</td>\n",
       "      <td>2.492607</td>\n",
       "      <td>0.0</td>\n",
       "      <td>0.000000</td>\n",
       "      <td>2.000686</td>\n",
       "      <td>0.0</td>\n",
       "      <td>0.00000</td>\n",
       "    </tr>\n",
       "  </tbody>\n",
       "</table>\n",
       "<p>5 rows × 249 columns</p>\n",
       "</div>"
      ],
      "text/plain": [
       "   CNT_CHILDREN  AMT_INCOME_TOTAL  AMT_CREDIT  AMT_ANNUITY  AMT_GOODS_PRICE  \\\n",
       "0     -0.590758          0.032005    0.594534     0.330518         0.452769   \n",
       "1     -0.590758          0.017795    0.150098     0.221167        -0.197499   \n",
       "2     -0.590758         -0.053252    0.242165     0.404297         0.452769   \n",
       "3      0.774439         -0.088775   -0.944263    -0.461947        -0.847766   \n",
       "4     -0.590758         -0.152718   -0.881619    -0.097334        -0.847766   \n",
       "\n",
       "   REGION_POPULATION_RELATIVE  DAYS_BIRTH  DAYS_EMPLOYED  DAYS_REGISTRATION  \\\n",
       "0                   -1.079527    0.139952      -0.420018           1.247924   \n",
       "1                    0.959179    0.054062      -0.427043           1.308512   \n",
       "2                   -1.145863   -1.034115      -0.415618           1.125298   \n",
       "3                   -0.824160    1.456246      -0.415603           1.310252   \n",
       "4                   -0.642272   -1.857924       2.334831          -0.548559   \n",
       "\n",
       "   DAYS_ID_PUBLISH  ...  WALLSMATERIAL_MODE_Mixed  \\\n",
       "0        -0.926561  ...                       0.0   \n",
       "1        -0.328242  ...                       0.0   \n",
       "2        -0.315764  ...                       0.0   \n",
       "3         1.006316  ...                       0.0   \n",
       "4        -0.993551  ...                       0.0   \n",
       "\n",
       "   WALLSMATERIAL_MODE_Monolithic  WALLSMATERIAL_MODE_Others  \\\n",
       "0                            0.0                        0.0   \n",
       "1                            0.0                        0.0   \n",
       "2                            0.0                        0.0   \n",
       "3                            0.0                        0.0   \n",
       "4                            0.0                        0.0   \n",
       "\n",
       "   WALLSMATERIAL_MODE_Panel  WALLSMATERIAL_MODE_Stone, brick  \\\n",
       "0                       0.0                         0.000000   \n",
       "1                       0.0                         2.492607   \n",
       "2                       0.0                         2.492607   \n",
       "3                       0.0                         2.492607   \n",
       "4                       0.0                         2.492607   \n",
       "\n",
       "   WALLSMATERIAL_MODE_Wooden  WALLSMATERIAL_MODE_missing  \\\n",
       "0                        0.0                    2.006254   \n",
       "1                        0.0                    0.000000   \n",
       "2                        0.0                    0.000000   \n",
       "3                        0.0                    0.000000   \n",
       "4                        0.0                    0.000000   \n",
       "\n",
       "   EMERGENCYSTATE_MODE_No  EMERGENCYSTATE_MODE_Yes  \\\n",
       "0                0.000000                      0.0   \n",
       "1                2.000686                      0.0   \n",
       "2                2.000686                      0.0   \n",
       "3                2.000686                      0.0   \n",
       "4                2.000686                      0.0   \n",
       "\n",
       "   EMERGENCYSTATE_MODE_missing  \n",
       "0                      2.00011  \n",
       "1                      0.00000  \n",
       "2                      0.00000  \n",
       "3                      0.00000  \n",
       "4                      0.00000  \n",
       "\n",
       "[5 rows x 249 columns]"
      ]
     },
     "execution_count": 34,
     "metadata": {},
     "output_type": "execute_result"
    }
   ],
   "source": [
    "X_test.head()"
   ]
  },
  {
   "cell_type": "code",
   "execution_count": 35,
   "id": "9014fa2a",
   "metadata": {},
   "outputs": [
    {
     "data": {
      "text/plain": [
       "0        0\n",
       "1        0\n",
       "2        0\n",
       "3        0\n",
       "4        0\n",
       "        ..\n",
       "34749    1\n",
       "34750    1\n",
       "34751    1\n",
       "34752    1\n",
       "34753    1\n",
       "Name: TARGET, Length: 34754, dtype: int64"
      ]
     },
     "execution_count": 35,
     "metadata": {},
     "output_type": "execute_result"
    }
   ],
   "source": [
    "y_train"
   ]
  },
  {
   "cell_type": "code",
   "execution_count": 36,
   "id": "1c17facd",
   "metadata": {},
   "outputs": [
    {
     "data": {
      "text/plain": [
       "220956    0\n",
       "51072     0\n",
       "86405     0\n",
       "215731    0\n",
       "190800    0\n",
       "         ..\n",
       "111834    0\n",
       "121159    0\n",
       "245472    1\n",
       "125154    0\n",
       "217239    1\n",
       "Name: TARGET, Length: 92249, dtype: int64"
      ]
     },
     "execution_count": 36,
     "metadata": {},
     "output_type": "execute_result"
    }
   ],
   "source": [
    "y_test.head(-5)"
   ]
  },
  {
   "cell_type": "markdown",
   "id": "74356602",
   "metadata": {},
   "source": [
    "# Model trainer"
   ]
  },
  {
   "cell_type": "code",
   "execution_count": 7,
   "id": "5a49cbd8",
   "metadata": {},
   "outputs": [],
   "source": [
    "# X_train = pd.read_csv('./artifacts/X_train.csv')\n",
    "# X_test = pd.read_csv('./artifacts/X_test.csv')\n",
    "# y_train = pd.read_csv('./artifacts/y_train.csv')\n",
    "# y_test = pd.read_csv('./artifacts/y_test.csv')"
   ]
  },
  {
   "cell_type": "code",
   "execution_count": 37,
   "id": "2391449a",
   "metadata": {},
   "outputs": [],
   "source": [
    "# Initiation du fit et trainig \n",
    "models = {\n",
    "                \"Logistic Regression\" : LogisticRegression(),\n",
    "                # \"Naive Bayes\" : GaussianNB(),\n",
    "                # \"Kneighbors Classifier\" : KNeighborsClassifier(3),\n",
    "#                 \"model_4\" : model_4(),\n",
    "#                 \"model_5\" : model_5(),\n",
    "#                 \"model_6\" : model_6()\n",
    "            }\n",
    "# print(modeltrainer.initiate_model_trainer(train_array=train_arr, test_array=test_arr, models=models))"
   ]
  },
  {
   "cell_type": "code",
   "execution_count": 38,
   "id": "33d50b4c",
   "metadata": {},
   "outputs": [],
   "source": [
    "params = {\n",
    "        \"Logistic Regression\": {\n",
    "        'penalty': ['l1', 'l2'],\n",
    "        'C': [0.001, 0.01, 0.1, 1, 10, 100],\n",
    "        'solver': ['liblinear', 'saga']\n",
    "        }\n",
    "    #     \"Kneighbors Classifier\":{\n",
    "    #     'n_neighbors': [3, 5, 7],\n",
    "    #     'weights': ['uniform', 'distance'],\n",
    "    #     'algorithm': ['ball_tree', 'kd_tree', 'brute']\n",
    "    # }\n",
    "}"
   ]
  },
  {
   "cell_type": "code",
   "execution_count": 39,
   "id": "e6dcd987",
   "metadata": {},
   "outputs": [],
   "source": [
    "modeltrainer = ModelTrainer()"
   ]
  },
  {
   "cell_type": "markdown",
   "id": "22c2e943",
   "metadata": {},
   "source": [
    "**Logistic Regression**"
   ]
  },
  {
   "cell_type": "code",
   "execution_count": 40,
   "id": "7058f9b4",
   "metadata": {},
   "outputs": [
    {
     "data": {
      "text/plain": [
       "{'Logistic Regression': 0.6852494200793462}"
      ]
     },
     "execution_count": 40,
     "metadata": {},
     "output_type": "execute_result"
    }
   ],
   "source": [
    "modeltrainer.initiate_model_trainer(X_tr= X_train, y_tr= y_train, X_te= X_test, y_te= y_test, models=models, param=params)"
   ]
  },
  {
   "cell_type": "code",
   "execution_count": null,
   "id": "7d0c1fa8",
   "metadata": {},
   "outputs": [],
   "source": []
  }
 ],
 "metadata": {
  "kernelspec": {
   "display_name": "Python 3 (ipykernel)",
   "language": "python",
   "name": "python3"
  },
  "language_info": {
   "codemirror_mode": {
    "name": "ipython",
    "version": 3
   },
   "file_extension": ".py",
   "mimetype": "text/x-python",
   "name": "python",
   "nbconvert_exporter": "python",
   "pygments_lexer": "ipython3",
   "version": "3.10.0"
  },
  "toc": {
   "base_numbering": 1,
   "nav_menu": {},
   "number_sections": true,
   "sideBar": true,
   "skip_h1_title": false,
   "title_cell": "Table of Contents",
   "title_sidebar": "Contents",
   "toc_cell": false,
   "toc_position": {
    "height": "calc(100% - 180px)",
    "left": "10px",
    "top": "150px",
    "width": "279.273px"
   },
   "toc_section_display": true,
   "toc_window_display": true
  }
 },
 "nbformat": 4,
 "nbformat_minor": 5
}
