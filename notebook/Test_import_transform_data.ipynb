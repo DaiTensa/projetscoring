{
 "cells": [
  {
   "cell_type": "code",
   "execution_count": 1,
   "id": "fa451358",
   "metadata": {},
   "outputs": [],
   "source": [
    "import warnings\n",
    "import os\n",
    "import sys\n",
    "warnings.filterwarnings(\"ignore\")"
   ]
  },
  {
   "cell_type": "code",
   "execution_count": 2,
   "id": "c1c25a88",
   "metadata": {},
   "outputs": [],
   "source": [
    "import numpy as np\n",
    "import pandas as pd\n",
    "import seaborn as sns\n",
    "import matplotlib.pyplot as plt\n",
    "\n",
    "\n",
    "# Realod modules\n",
    "import importlib"
   ]
  },
  {
   "cell_type": "code",
   "execution_count": 3,
   "id": "a58c7925",
   "metadata": {},
   "outputs": [],
   "source": [
    "import sys\n",
    "sys.path.append(r'C:\\Users\\Lenovo\\Documents\\DSPython\\projetscoring')"
   ]
  },
  {
   "cell_type": "code",
   "execution_count": 4,
   "id": "04605171",
   "metadata": {},
   "outputs": [],
   "source": [
    "from src.utilis import *\n",
    "from src.components.data_ingestion import *\n",
    "from src.components.data_transformation import *\n",
    "from src.components.model_trainer import *\n"
   ]
  },
  {
   "cell_type": "code",
   "execution_count": 28,
   "id": "a53fa839",
   "metadata": {},
   "outputs": [],
   "source": [
    "importlib.reload(sys.modules['src.utilis'])\n",
    "from src.utilis import *\n",
    "importlib.reload(sys.modules['src.components.data_ingestion'])\n",
    "from src.components.data_ingestion import *\n",
    "importlib.reload(sys.modules['src.components.data_transformation'])\n",
    "from src.components.data_transformation import *\n",
    "importlib.reload(sys.modules['src.components.model_trainer'])\n",
    "from src.components.data_transformation import *"
   ]
  },
  {
   "cell_type": "code",
   "execution_count": 6,
   "id": "7d9f5326",
   "metadata": {},
   "outputs": [],
   "source": [
    "# 01 - Data Base : \n",
    "data_base = DataIngestion(method = \"split\")"
   ]
  },
  {
   "cell_type": "code",
   "execution_count": 7,
   "id": "5a8b6e48",
   "metadata": {},
   "outputs": [],
   "source": [
    "# Extraction nom de fichiers avec et sans extensions\n",
    "liste_name, files_liste_name = data_base.get_files_names()"
   ]
  },
  {
   "cell_type": "code",
   "execution_count": 8,
   "id": "2b6398e5",
   "metadata": {},
   "outputs": [
    {
     "data": {
      "text/plain": [
       "['application_test',\n",
       " 'application_train',\n",
       " 'bureau',\n",
       " 'bureau_balance',\n",
       " 'credit_card_balance',\n",
       " 'HomeCredit_columns_description',\n",
       " 'installments_payments',\n",
       " 'POS_CASH_balance',\n",
       " 'previous_application',\n",
       " 'sample_submission']"
      ]
     },
     "execution_count": 8,
     "metadata": {},
     "output_type": "execute_result"
    }
   ],
   "source": [
    "liste_name"
   ]
  },
  {
   "cell_type": "code",
   "execution_count": 9,
   "id": "ebc01d9f",
   "metadata": {},
   "outputs": [
    {
     "data": {
      "text/plain": [
       "['application_test.csv',\n",
       " 'application_train.csv',\n",
       " 'bureau.csv',\n",
       " 'bureau_balance.csv',\n",
       " 'credit_card_balance.csv',\n",
       " 'HomeCredit_columns_description.csv',\n",
       " 'installments_payments.csv',\n",
       " 'POS_CASH_balance.csv',\n",
       " 'previous_application.csv',\n",
       " 'sample_submission.csv']"
      ]
     },
     "execution_count": 9,
     "metadata": {},
     "output_type": "execute_result"
    }
   ],
   "source": [
    "files_liste_name"
   ]
  },
  {
   "cell_type": "code",
   "execution_count": 10,
   "id": "fe956883",
   "metadata": {},
   "outputs": [
    {
     "name": "stdout",
     "output_type": "stream",
     "text": [
      "Importation du fichier...\n",
      "Memory usage of dataframe is 286.23 MB\n",
      "Memory usage after optimization is: 92.38 MB\n",
      "Decreased by 67.7%\n",
      "Importation du fichier réussie !\n"
     ]
    }
   ],
   "source": [
    "application_train = data_base.import_file(file_name='application_train.csv')"
   ]
  },
  {
   "cell_type": "code",
   "execution_count": 11,
   "id": "b8397e6f",
   "metadata": {},
   "outputs": [
    {
     "name": "stdout",
     "output_type": "stream",
     "text": [
      "Data Frame : application_train\n",
      "----------------------------------------\n",
      "\u001b[1mNombre de ligne :\u001b[0m 307511 --- \u001b[1mNombre de colonnes :\u001b[0m 122\n",
      "----------------------------------------\n",
      "Le Taux de remplissage total est égal à : 75.6 %\n",
      "Nombre de colonnes ayant moins de 20% de valeurs manquantes : 72\n",
      "Le Nombre de features vides est égal à : 0 Features\n",
      "----------------------------------------\n",
      "Les Features vides sont : []\n",
      "Les Features Ayant plus  20%  de valeurs manquantes sont:\n",
      "['COMMONAREA_MEDI', 'COMMONAREA_AVG', 'COMMONAREA_MODE', 'NONLIVINGAPARTMENTS_MODE', 'NONLIVINGAPARTMENTS_AVG', 'NONLIVINGAPARTMENTS_MEDI', 'FONDKAPREMONT_MODE', 'LIVINGAPARTMENTS_MODE', 'LIVINGAPARTMENTS_AVG', 'LIVINGAPARTMENTS_MEDI', 'FLOORSMIN_AVG', 'FLOORSMIN_MODE', 'FLOORSMIN_MEDI', 'YEARS_BUILD_MEDI', 'YEARS_BUILD_MODE', 'YEARS_BUILD_AVG', 'OWN_CAR_AGE', 'LANDAREA_MEDI', 'LANDAREA_MODE', 'LANDAREA_AVG', 'BASEMENTAREA_MEDI', 'BASEMENTAREA_AVG', 'BASEMENTAREA_MODE', 'EXT_SOURCE_1', 'NONLIVINGAREA_MODE', 'NONLIVINGAREA_AVG', 'NONLIVINGAREA_MEDI', 'ELEVATORS_MEDI', 'ELEVATORS_AVG', 'ELEVATORS_MODE', 'WALLSMATERIAL_MODE', 'APARTMENTS_MEDI', 'APARTMENTS_AVG', 'APARTMENTS_MODE', 'ENTRANCES_MEDI', 'ENTRANCES_AVG', 'ENTRANCES_MODE', 'LIVINGAREA_AVG', 'LIVINGAREA_MODE', 'LIVINGAREA_MEDI', 'HOUSETYPE_MODE', 'FLOORSMAX_MODE', 'FLOORSMAX_MEDI', 'FLOORSMAX_AVG', 'YEARS_BEGINEXPLUATATION_MODE', 'YEARS_BEGINEXPLUATATION_MEDI', 'YEARS_BEGINEXPLUATATION_AVG', 'TOTALAREA_MODE', 'EMERGENCYSTATE_MODE', 'OCCUPATION_TYPE']\n",
      "----------------------------------------\n",
      "*****Nombre de catégorie features catégorielles******\n",
      "\n",
      "NAME_CONTRACT_TYPE-------------------------------- 2\n",
      "CODE_GENDER--------------------------------------- 3\n",
      "FLAG_OWN_CAR-------------------------------------- 2\n",
      "FLAG_OWN_REALTY----------------------------------- 2\n",
      "NAME_TYPE_SUITE----------------------------------- 8\n",
      "NAME_INCOME_TYPE---------------------------------- 8\n",
      "NAME_EDUCATION_TYPE------------------------------- 5\n",
      "NAME_FAMILY_STATUS-------------------------------- 6\n",
      "NAME_HOUSING_TYPE--------------------------------- 6\n",
      "OCCUPATION_TYPE----------------------------------- 19\n",
      "WEEKDAY_APPR_PROCESS_START------------------------ 7\n",
      "ORGANIZATION_TYPE--------------------------------- 58\n",
      "FONDKAPREMONT_MODE-------------------------------- 5\n",
      "HOUSETYPE_MODE------------------------------------ 4\n",
      "WALLSMATERIAL_MODE-------------------------------- 8\n",
      "EMERGENCYSTATE_MODE------------------------------- 3\n"
     ]
    }
   ],
   "source": [
    "rapport_df_train = RapportDataFrame(application_train, target_column=\"TARGET\", ID_Columns=\"SK_ID_CURR\")\n",
    "# Rapport : application_train\n",
    "print(\"Data Frame : application_train\")\n",
    "print(20 * \"--\")\n",
    "rapport_df_train.rapport(nan_threshold = 20, return_column_to_keep=False, print_rapport = True)"
   ]
  },
  {
   "cell_type": "code",
   "execution_count": 12,
   "id": "23a48c1c",
   "metadata": {},
   "outputs": [],
   "source": [
    "# 02 - Split train et test split\n",
    "train__path, test__path = data_base.initiate_data_ingestion()"
   ]
  },
  {
   "cell_type": "code",
   "execution_count": 13,
   "id": "14d9ec23",
   "metadata": {},
   "outputs": [
    {
     "name": "stdout",
     "output_type": "stream",
     "text": [
      "artifacts\\train.csv\n",
      "artifacts\\test.csv\n"
     ]
    }
   ],
   "source": [
    "print(train__path)\n",
    "print(test__path)"
   ]
  },
  {
   "cell_type": "code",
   "execution_count": 14,
   "id": "8735cf54",
   "metadata": {},
   "outputs": [],
   "source": [
    "# ESSAI IMPORTATION VIA LES PATH\n",
    "# train_df = pd.read_csv(train__path)\n",
    "# test_df = pd.read_csv(test__path)"
   ]
  },
  {
   "cell_type": "code",
   "execution_count": 15,
   "id": "2a921829",
   "metadata": {},
   "outputs": [],
   "source": [
    "# train_df"
   ]
  },
  {
   "cell_type": "code",
   "execution_count": 16,
   "id": "e9245de5",
   "metadata": {},
   "outputs": [],
   "source": [
    "# test_df"
   ]
  },
  {
   "cell_type": "code",
   "execution_count": 14,
   "id": "74a2e9d4",
   "metadata": {},
   "outputs": [],
   "source": [
    "# Pour récupérer les noms de colonnes d'un data frame : \n",
    "original_columns_train, categorical_columns_train, numerical_columns_train, binary_columns_train= rapport_df_train.get_df_columns()"
   ]
  },
  {
   "cell_type": "code",
   "execution_count": 34,
   "id": "a4e9eab2",
   "metadata": {},
   "outputs": [
    {
     "data": {
      "text/plain": [
       "['NAME_CONTRACT_TYPE', 'FLAG_OWN_CAR', 'FLAG_OWN_REALTY']"
      ]
     },
     "execution_count": 34,
     "metadata": {},
     "output_type": "execute_result"
    }
   ],
   "source": [
    "# LA COLONNE TARGET ET ID NE SONT PLUS AJOUTEES DANS LA LISTE DES FEATURES NUMERIQUES\n",
    "binary_columns_train"
   ]
  },
  {
   "cell_type": "code",
   "execution_count": 29,
   "id": "aa4e5e2f",
   "metadata": {},
   "outputs": [],
   "source": [
    "# 03 - Data transformation \n",
    "data_transformation = DataTransformation(numerical_columns_train, categorical_columns_train, target = \"TARGET\" , train_path=train__path, test_path=test__path)"
   ]
  },
  {
   "cell_type": "code",
   "execution_count": 30,
   "id": "b5d5e8c2",
   "metadata": {
    "scrolled": true
   },
   "outputs": [
    {
     "data": {
      "text/html": [
       "<style>#sk-container-id-4 {color: black;background-color: white;}#sk-container-id-4 pre{padding: 0;}#sk-container-id-4 div.sk-toggleable {background-color: white;}#sk-container-id-4 label.sk-toggleable__label {cursor: pointer;display: block;width: 100%;margin-bottom: 0;padding: 0.3em;box-sizing: border-box;text-align: center;}#sk-container-id-4 label.sk-toggleable__label-arrow:before {content: \"▸\";float: left;margin-right: 0.25em;color: #696969;}#sk-container-id-4 label.sk-toggleable__label-arrow:hover:before {color: black;}#sk-container-id-4 div.sk-estimator:hover label.sk-toggleable__label-arrow:before {color: black;}#sk-container-id-4 div.sk-toggleable__content {max-height: 0;max-width: 0;overflow: hidden;text-align: left;background-color: #f0f8ff;}#sk-container-id-4 div.sk-toggleable__content pre {margin: 0.2em;color: black;border-radius: 0.25em;background-color: #f0f8ff;}#sk-container-id-4 input.sk-toggleable__control:checked~div.sk-toggleable__content {max-height: 200px;max-width: 100%;overflow: auto;}#sk-container-id-4 input.sk-toggleable__control:checked~label.sk-toggleable__label-arrow:before {content: \"▾\";}#sk-container-id-4 div.sk-estimator input.sk-toggleable__control:checked~label.sk-toggleable__label {background-color: #d4ebff;}#sk-container-id-4 div.sk-label input.sk-toggleable__control:checked~label.sk-toggleable__label {background-color: #d4ebff;}#sk-container-id-4 input.sk-hidden--visually {border: 0;clip: rect(1px 1px 1px 1px);clip: rect(1px, 1px, 1px, 1px);height: 1px;margin: -1px;overflow: hidden;padding: 0;position: absolute;width: 1px;}#sk-container-id-4 div.sk-estimator {font-family: monospace;background-color: #f0f8ff;border: 1px dotted black;border-radius: 0.25em;box-sizing: border-box;margin-bottom: 0.5em;}#sk-container-id-4 div.sk-estimator:hover {background-color: #d4ebff;}#sk-container-id-4 div.sk-parallel-item::after {content: \"\";width: 100%;border-bottom: 1px solid gray;flex-grow: 1;}#sk-container-id-4 div.sk-label:hover label.sk-toggleable__label {background-color: #d4ebff;}#sk-container-id-4 div.sk-serial::before {content: \"\";position: absolute;border-left: 1px solid gray;box-sizing: border-box;top: 0;bottom: 0;left: 50%;z-index: 0;}#sk-container-id-4 div.sk-serial {display: flex;flex-direction: column;align-items: center;background-color: white;padding-right: 0.2em;padding-left: 0.2em;position: relative;}#sk-container-id-4 div.sk-item {position: relative;z-index: 1;}#sk-container-id-4 div.sk-parallel {display: flex;align-items: stretch;justify-content: center;background-color: white;position: relative;}#sk-container-id-4 div.sk-item::before, #sk-container-id-4 div.sk-parallel-item::before {content: \"\";position: absolute;border-left: 1px solid gray;box-sizing: border-box;top: 0;bottom: 0;left: 50%;z-index: -1;}#sk-container-id-4 div.sk-parallel-item {display: flex;flex-direction: column;z-index: 1;position: relative;background-color: white;}#sk-container-id-4 div.sk-parallel-item:first-child::after {align-self: flex-end;width: 50%;}#sk-container-id-4 div.sk-parallel-item:last-child::after {align-self: flex-start;width: 50%;}#sk-container-id-4 div.sk-parallel-item:only-child::after {width: 0;}#sk-container-id-4 div.sk-dashed-wrapped {border: 1px dashed gray;margin: 0 0.4em 0.5em 0.4em;box-sizing: border-box;padding-bottom: 0.4em;background-color: white;}#sk-container-id-4 div.sk-label label {font-family: monospace;font-weight: bold;display: inline-block;line-height: 1.2em;}#sk-container-id-4 div.sk-label-container {text-align: center;}#sk-container-id-4 div.sk-container {/* jupyter's `normalize.less` sets `[hidden] { display: none; }` but bootstrap.min.css set `[hidden] { display: none !important; }` so we also need the `!important` here to be able to override the default hidden behavior on the sphinx rendered scikit-learn.org. See: https://github.com/scikit-learn/scikit-learn/issues/21755 */display: inline-block !important;position: relative;}#sk-container-id-4 div.sk-text-repr-fallback {display: none;}</style><div id=\"sk-container-id-4\" class=\"sk-top-container\"><div class=\"sk-text-repr-fallback\"><pre>ColumnTransformer(transformers=[(&#x27;num_pipeline&#x27;,\n",
       "                                 Pipeline(steps=[(&#x27;imputer&#x27;, SimpleImputer()),\n",
       "                                                 (&#x27;scaled&#x27;, StandardScaler())]),\n",
       "                                 [&#x27;CNT_CHILDREN&#x27;, &#x27;AMT_INCOME_TOTAL&#x27;,\n",
       "                                  &#x27;AMT_CREDIT&#x27;, &#x27;AMT_ANNUITY&#x27;,\n",
       "                                  &#x27;AMT_GOODS_PRICE&#x27;,\n",
       "                                  &#x27;REGION_POPULATION_RELATIVE&#x27;, &#x27;DAYS_BIRTH&#x27;,\n",
       "                                  &#x27;DAYS_EMPLOYED&#x27;, &#x27;DAYS_REGISTRATION&#x27;,\n",
       "                                  &#x27;DAYS_ID_PUBLISH&#x27;, &#x27;OWN_CAR_AGE&#x27;,\n",
       "                                  &#x27;FLAG_MOBIL&#x27;, &#x27;FLAG_EMP_PHONE&#x27;,\n",
       "                                  &#x27;FLAG_WO...\n",
       "                                                  StandardScaler(with_mean=False))]),\n",
       "                                 [&#x27;NAME_CONTRACT_TYPE&#x27;, &#x27;CODE_GENDER&#x27;,\n",
       "                                  &#x27;FLAG_OWN_CAR&#x27;, &#x27;FLAG_OWN_REALTY&#x27;,\n",
       "                                  &#x27;NAME_TYPE_SUITE&#x27;, &#x27;NAME_INCOME_TYPE&#x27;,\n",
       "                                  &#x27;NAME_EDUCATION_TYPE&#x27;, &#x27;NAME_FAMILY_STATUS&#x27;,\n",
       "                                  &#x27;NAME_HOUSING_TYPE&#x27;, &#x27;OCCUPATION_TYPE&#x27;,\n",
       "                                  &#x27;WEEKDAY_APPR_PROCESS_START&#x27;,\n",
       "                                  &#x27;ORGANIZATION_TYPE&#x27;, &#x27;FONDKAPREMONT_MODE&#x27;,\n",
       "                                  &#x27;HOUSETYPE_MODE&#x27;, &#x27;WALLSMATERIAL_MODE&#x27;,\n",
       "                                  &#x27;EMERGENCYSTATE_MODE&#x27;])])</pre><b>In a Jupyter environment, please rerun this cell to show the HTML representation or trust the notebook. <br />On GitHub, the HTML representation is unable to render, please try loading this page with nbviewer.org.</b></div><div class=\"sk-container\" hidden><div class=\"sk-item sk-dashed-wrapped\"><div class=\"sk-label-container\"><div class=\"sk-label sk-toggleable\"><input class=\"sk-toggleable__control sk-hidden--visually\" id=\"sk-estimator-id-25\" type=\"checkbox\" ><label for=\"sk-estimator-id-25\" class=\"sk-toggleable__label sk-toggleable__label-arrow\">ColumnTransformer</label><div class=\"sk-toggleable__content\"><pre>ColumnTransformer(transformers=[(&#x27;num_pipeline&#x27;,\n",
       "                                 Pipeline(steps=[(&#x27;imputer&#x27;, SimpleImputer()),\n",
       "                                                 (&#x27;scaled&#x27;, StandardScaler())]),\n",
       "                                 [&#x27;CNT_CHILDREN&#x27;, &#x27;AMT_INCOME_TOTAL&#x27;,\n",
       "                                  &#x27;AMT_CREDIT&#x27;, &#x27;AMT_ANNUITY&#x27;,\n",
       "                                  &#x27;AMT_GOODS_PRICE&#x27;,\n",
       "                                  &#x27;REGION_POPULATION_RELATIVE&#x27;, &#x27;DAYS_BIRTH&#x27;,\n",
       "                                  &#x27;DAYS_EMPLOYED&#x27;, &#x27;DAYS_REGISTRATION&#x27;,\n",
       "                                  &#x27;DAYS_ID_PUBLISH&#x27;, &#x27;OWN_CAR_AGE&#x27;,\n",
       "                                  &#x27;FLAG_MOBIL&#x27;, &#x27;FLAG_EMP_PHONE&#x27;,\n",
       "                                  &#x27;FLAG_WO...\n",
       "                                                  StandardScaler(with_mean=False))]),\n",
       "                                 [&#x27;NAME_CONTRACT_TYPE&#x27;, &#x27;CODE_GENDER&#x27;,\n",
       "                                  &#x27;FLAG_OWN_CAR&#x27;, &#x27;FLAG_OWN_REALTY&#x27;,\n",
       "                                  &#x27;NAME_TYPE_SUITE&#x27;, &#x27;NAME_INCOME_TYPE&#x27;,\n",
       "                                  &#x27;NAME_EDUCATION_TYPE&#x27;, &#x27;NAME_FAMILY_STATUS&#x27;,\n",
       "                                  &#x27;NAME_HOUSING_TYPE&#x27;, &#x27;OCCUPATION_TYPE&#x27;,\n",
       "                                  &#x27;WEEKDAY_APPR_PROCESS_START&#x27;,\n",
       "                                  &#x27;ORGANIZATION_TYPE&#x27;, &#x27;FONDKAPREMONT_MODE&#x27;,\n",
       "                                  &#x27;HOUSETYPE_MODE&#x27;, &#x27;WALLSMATERIAL_MODE&#x27;,\n",
       "                                  &#x27;EMERGENCYSTATE_MODE&#x27;])])</pre></div></div></div><div class=\"sk-parallel\"><div class=\"sk-parallel-item\"><div class=\"sk-item\"><div class=\"sk-label-container\"><div class=\"sk-label sk-toggleable\"><input class=\"sk-toggleable__control sk-hidden--visually\" id=\"sk-estimator-id-26\" type=\"checkbox\" ><label for=\"sk-estimator-id-26\" class=\"sk-toggleable__label sk-toggleable__label-arrow\">num_pipeline</label><div class=\"sk-toggleable__content\"><pre>[&#x27;CNT_CHILDREN&#x27;, &#x27;AMT_INCOME_TOTAL&#x27;, &#x27;AMT_CREDIT&#x27;, &#x27;AMT_ANNUITY&#x27;, &#x27;AMT_GOODS_PRICE&#x27;, &#x27;REGION_POPULATION_RELATIVE&#x27;, &#x27;DAYS_BIRTH&#x27;, &#x27;DAYS_EMPLOYED&#x27;, &#x27;DAYS_REGISTRATION&#x27;, &#x27;DAYS_ID_PUBLISH&#x27;, &#x27;OWN_CAR_AGE&#x27;, &#x27;FLAG_MOBIL&#x27;, &#x27;FLAG_EMP_PHONE&#x27;, &#x27;FLAG_WORK_PHONE&#x27;, &#x27;FLAG_CONT_MOBILE&#x27;, &#x27;FLAG_PHONE&#x27;, &#x27;FLAG_EMAIL&#x27;, &#x27;CNT_FAM_MEMBERS&#x27;, &#x27;REGION_RATING_CLIENT&#x27;, &#x27;REGION_RATING_CLIENT_W_CITY&#x27;, &#x27;HOUR_APPR_PROCESS_START&#x27;, &#x27;REG_REGION_NOT_LIVE_REGION&#x27;, &#x27;REG_REGION_NOT_WORK_REGION&#x27;, &#x27;LIVE_REGION_NOT_WORK_REGION&#x27;, &#x27;REG_CITY_NOT_LIVE_CITY&#x27;, &#x27;REG_CITY_NOT_WORK_CITY&#x27;, &#x27;LIVE_CITY_NOT_WORK_CITY&#x27;, &#x27;EXT_SOURCE_1&#x27;, &#x27;EXT_SOURCE_2&#x27;, &#x27;EXT_SOURCE_3&#x27;, &#x27;APARTMENTS_AVG&#x27;, &#x27;BASEMENTAREA_AVG&#x27;, &#x27;YEARS_BEGINEXPLUATATION_AVG&#x27;, &#x27;YEARS_BUILD_AVG&#x27;, &#x27;COMMONAREA_AVG&#x27;, &#x27;ELEVATORS_AVG&#x27;, &#x27;ENTRANCES_AVG&#x27;, &#x27;FLOORSMAX_AVG&#x27;, &#x27;FLOORSMIN_AVG&#x27;, &#x27;LANDAREA_AVG&#x27;, &#x27;LIVINGAPARTMENTS_AVG&#x27;, &#x27;LIVINGAREA_AVG&#x27;, &#x27;NONLIVINGAPARTMENTS_AVG&#x27;, &#x27;NONLIVINGAREA_AVG&#x27;, &#x27;APARTMENTS_MODE&#x27;, &#x27;BASEMENTAREA_MODE&#x27;, &#x27;YEARS_BEGINEXPLUATATION_MODE&#x27;, &#x27;YEARS_BUILD_MODE&#x27;, &#x27;COMMONAREA_MODE&#x27;, &#x27;ELEVATORS_MODE&#x27;, &#x27;ENTRANCES_MODE&#x27;, &#x27;FLOORSMAX_MODE&#x27;, &#x27;FLOORSMIN_MODE&#x27;, &#x27;LANDAREA_MODE&#x27;, &#x27;LIVINGAPARTMENTS_MODE&#x27;, &#x27;LIVINGAREA_MODE&#x27;, &#x27;NONLIVINGAPARTMENTS_MODE&#x27;, &#x27;NONLIVINGAREA_MODE&#x27;, &#x27;APARTMENTS_MEDI&#x27;, &#x27;BASEMENTAREA_MEDI&#x27;, &#x27;YEARS_BEGINEXPLUATATION_MEDI&#x27;, &#x27;YEARS_BUILD_MEDI&#x27;, &#x27;COMMONAREA_MEDI&#x27;, &#x27;ELEVATORS_MEDI&#x27;, &#x27;ENTRANCES_MEDI&#x27;, &#x27;FLOORSMAX_MEDI&#x27;, &#x27;FLOORSMIN_MEDI&#x27;, &#x27;LANDAREA_MEDI&#x27;, &#x27;LIVINGAPARTMENTS_MEDI&#x27;, &#x27;LIVINGAREA_MEDI&#x27;, &#x27;NONLIVINGAPARTMENTS_MEDI&#x27;, &#x27;NONLIVINGAREA_MEDI&#x27;, &#x27;TOTALAREA_MODE&#x27;, &#x27;OBS_30_CNT_SOCIAL_CIRCLE&#x27;, &#x27;DEF_30_CNT_SOCIAL_CIRCLE&#x27;, &#x27;OBS_60_CNT_SOCIAL_CIRCLE&#x27;, &#x27;DEF_60_CNT_SOCIAL_CIRCLE&#x27;, &#x27;DAYS_LAST_PHONE_CHANGE&#x27;, &#x27;FLAG_DOCUMENT_2&#x27;, &#x27;FLAG_DOCUMENT_3&#x27;, &#x27;FLAG_DOCUMENT_4&#x27;, &#x27;FLAG_DOCUMENT_5&#x27;, &#x27;FLAG_DOCUMENT_6&#x27;, &#x27;FLAG_DOCUMENT_7&#x27;, &#x27;FLAG_DOCUMENT_8&#x27;, &#x27;FLAG_DOCUMENT_9&#x27;, &#x27;FLAG_DOCUMENT_10&#x27;, &#x27;FLAG_DOCUMENT_11&#x27;, &#x27;FLAG_DOCUMENT_12&#x27;, &#x27;FLAG_DOCUMENT_13&#x27;, &#x27;FLAG_DOCUMENT_14&#x27;, &#x27;FLAG_DOCUMENT_15&#x27;, &#x27;FLAG_DOCUMENT_16&#x27;, &#x27;FLAG_DOCUMENT_17&#x27;, &#x27;FLAG_DOCUMENT_18&#x27;, &#x27;FLAG_DOCUMENT_19&#x27;, &#x27;FLAG_DOCUMENT_20&#x27;, &#x27;FLAG_DOCUMENT_21&#x27;, &#x27;AMT_REQ_CREDIT_BUREAU_HOUR&#x27;, &#x27;AMT_REQ_CREDIT_BUREAU_DAY&#x27;, &#x27;AMT_REQ_CREDIT_BUREAU_WEEK&#x27;, &#x27;AMT_REQ_CREDIT_BUREAU_MON&#x27;, &#x27;AMT_REQ_CREDIT_BUREAU_QRT&#x27;, &#x27;AMT_REQ_CREDIT_BUREAU_YEAR&#x27;]</pre></div></div></div><div class=\"sk-serial\"><div class=\"sk-item\"><div class=\"sk-serial\"><div class=\"sk-item\"><div class=\"sk-estimator sk-toggleable\"><input class=\"sk-toggleable__control sk-hidden--visually\" id=\"sk-estimator-id-27\" type=\"checkbox\" ><label for=\"sk-estimator-id-27\" class=\"sk-toggleable__label sk-toggleable__label-arrow\">SimpleImputer</label><div class=\"sk-toggleable__content\"><pre>SimpleImputer()</pre></div></div></div><div class=\"sk-item\"><div class=\"sk-estimator sk-toggleable\"><input class=\"sk-toggleable__control sk-hidden--visually\" id=\"sk-estimator-id-28\" type=\"checkbox\" ><label for=\"sk-estimator-id-28\" class=\"sk-toggleable__label sk-toggleable__label-arrow\">StandardScaler</label><div class=\"sk-toggleable__content\"><pre>StandardScaler()</pre></div></div></div></div></div></div></div></div><div class=\"sk-parallel-item\"><div class=\"sk-item\"><div class=\"sk-label-container\"><div class=\"sk-label sk-toggleable\"><input class=\"sk-toggleable__control sk-hidden--visually\" id=\"sk-estimator-id-29\" type=\"checkbox\" ><label for=\"sk-estimator-id-29\" class=\"sk-toggleable__label sk-toggleable__label-arrow\">cat_pipeline</label><div class=\"sk-toggleable__content\"><pre>[&#x27;NAME_CONTRACT_TYPE&#x27;, &#x27;CODE_GENDER&#x27;, &#x27;FLAG_OWN_CAR&#x27;, &#x27;FLAG_OWN_REALTY&#x27;, &#x27;NAME_TYPE_SUITE&#x27;, &#x27;NAME_INCOME_TYPE&#x27;, &#x27;NAME_EDUCATION_TYPE&#x27;, &#x27;NAME_FAMILY_STATUS&#x27;, &#x27;NAME_HOUSING_TYPE&#x27;, &#x27;OCCUPATION_TYPE&#x27;, &#x27;WEEKDAY_APPR_PROCESS_START&#x27;, &#x27;ORGANIZATION_TYPE&#x27;, &#x27;FONDKAPREMONT_MODE&#x27;, &#x27;HOUSETYPE_MODE&#x27;, &#x27;WALLSMATERIAL_MODE&#x27;, &#x27;EMERGENCYSTATE_MODE&#x27;]</pre></div></div></div><div class=\"sk-serial\"><div class=\"sk-item\"><div class=\"sk-serial\"><div class=\"sk-item\"><div class=\"sk-estimator sk-toggleable\"><input class=\"sk-toggleable__control sk-hidden--visually\" id=\"sk-estimator-id-30\" type=\"checkbox\" ><label for=\"sk-estimator-id-30\" class=\"sk-toggleable__label sk-toggleable__label-arrow\">SimpleImputer</label><div class=\"sk-toggleable__content\"><pre>SimpleImputer(fill_value=&#x27;missing&#x27;, strategy=&#x27;constant&#x27;)</pre></div></div></div><div class=\"sk-item\"><div class=\"sk-estimator sk-toggleable\"><input class=\"sk-toggleable__control sk-hidden--visually\" id=\"sk-estimator-id-31\" type=\"checkbox\" ><label for=\"sk-estimator-id-31\" class=\"sk-toggleable__label sk-toggleable__label-arrow\">OneHotEncoder</label><div class=\"sk-toggleable__content\"><pre>OneHotEncoder(handle_unknown=&#x27;ignore&#x27;)</pre></div></div></div><div class=\"sk-item\"><div class=\"sk-estimator sk-toggleable\"><input class=\"sk-toggleable__control sk-hidden--visually\" id=\"sk-estimator-id-32\" type=\"checkbox\" ><label for=\"sk-estimator-id-32\" class=\"sk-toggleable__label sk-toggleable__label-arrow\">StandardScaler</label><div class=\"sk-toggleable__content\"><pre>StandardScaler(with_mean=False)</pre></div></div></div></div></div></div></div></div></div></div></div></div>"
      ],
      "text/plain": [
       "ColumnTransformer(transformers=[('num_pipeline',\n",
       "                                 Pipeline(steps=[('imputer', SimpleImputer()),\n",
       "                                                 ('scaled', StandardScaler())]),\n",
       "                                 ['CNT_CHILDREN', 'AMT_INCOME_TOTAL',\n",
       "                                  'AMT_CREDIT', 'AMT_ANNUITY',\n",
       "                                  'AMT_GOODS_PRICE',\n",
       "                                  'REGION_POPULATION_RELATIVE', 'DAYS_BIRTH',\n",
       "                                  'DAYS_EMPLOYED', 'DAYS_REGISTRATION',\n",
       "                                  'DAYS_ID_PUBLISH', 'OWN_CAR_AGE',\n",
       "                                  'FLAG_MOBIL', 'FLAG_EMP_PHONE',\n",
       "                                  'FLAG_WO...\n",
       "                                                  StandardScaler(with_mean=False))]),\n",
       "                                 ['NAME_CONTRACT_TYPE', 'CODE_GENDER',\n",
       "                                  'FLAG_OWN_CAR', 'FLAG_OWN_REALTY',\n",
       "                                  'NAME_TYPE_SUITE', 'NAME_INCOME_TYPE',\n",
       "                                  'NAME_EDUCATION_TYPE', 'NAME_FAMILY_STATUS',\n",
       "                                  'NAME_HOUSING_TYPE', 'OCCUPATION_TYPE',\n",
       "                                  'WEEKDAY_APPR_PROCESS_START',\n",
       "                                  'ORGANIZATION_TYPE', 'FONDKAPREMONT_MODE',\n",
       "                                  'HOUSETYPE_MODE', 'WALLSMATERIAL_MODE',\n",
       "                                  'EMERGENCYSTATE_MODE'])])"
      ]
     },
     "execution_count": 30,
     "metadata": {},
     "output_type": "execute_result"
    }
   ],
   "source": [
    "data_transformation.get_data_transformer_object()"
   ]
  },
  {
   "cell_type": "code",
   "execution_count": 31,
   "id": "8b530bf3",
   "metadata": {},
   "outputs": [],
   "source": [
    "# 04 - Initiation du preprocessing, récupération du preprocessing object\n",
    "train_arr, test_arr, preprocessor_obj_path = data_transformation.initiate_data_transformation()"
   ]
  },
  {
   "cell_type": "code",
   "execution_count": 32,
   "id": "f3fed939",
   "metadata": {},
   "outputs": [
    {
     "data": {
      "text/plain": [
       "array([[-0.57756555,  0.02430965, -0.11006828, ...,  0.        ,\n",
       "         2.00263932,  0.        ],\n",
       "       [ 0.81004476, -0.10484026, -0.99617411, ...,  0.        ,\n",
       "         0.        ,  0.        ],\n",
       "       [-0.57756555, -0.32009011,  0.43826238, ...,  0.        ,\n",
       "         2.00263932,  1.        ],\n",
       "       ...,\n",
       "       [-0.57756555,  2.69340773,  1.30330261, ...,  0.        ,\n",
       "         0.        ,  0.        ],\n",
       "       [ 0.81004476,  0.11040958, -0.81776961, ...,  0.        ,\n",
       "         0.        ,  0.        ],\n",
       "       [-0.57756555, -0.10484026,  0.32287605, ...,  0.        ,\n",
       "         2.00263932,  1.        ]])"
      ]
     },
     "execution_count": 32,
     "metadata": {},
     "output_type": "execute_result"
    }
   ],
   "source": [
    "train_arr"
   ]
  },
  {
   "cell_type": "code",
   "execution_count": 33,
   "id": "4d0f050b",
   "metadata": {},
   "outputs": [
    {
     "data": {
      "text/plain": [
       "array([[ 2.17013824,  0.07561856, -0.32773561, ...,  0.        ,\n",
       "         2.00301812,  0.        ],\n",
       "       [-0.57745861,  0.15873595,  1.71269838, ...,  0.        ,\n",
       "         0.        ,  0.        ],\n",
       "       [-0.57745861,  0.0663833 , -0.25388673, ...,  0.        ,\n",
       "         2.00301812,  0.        ],\n",
       "       ...,\n",
       "       [-0.57745861, -0.09985146, -0.85457682, ...,  0.        ,\n",
       "         0.        ,  0.        ],\n",
       "       [ 0.79633981, -0.11832199,  1.79370155, ...,  0.        ,\n",
       "         2.00301812,  0.        ],\n",
       "       [-0.57745861, -0.02596934, -0.18819328, ...,  0.        ,\n",
       "         2.00301812,  0.        ]])"
      ]
     },
     "execution_count": 33,
     "metadata": {},
     "output_type": "execute_result"
    }
   ],
   "source": [
    "test_arr"
   ]
  },
  {
   "cell_type": "code",
   "execution_count": 25,
   "id": "03de371e",
   "metadata": {},
   "outputs": [],
   "source": [
    "# 05- Modélisation\n",
    "modeltrainer = ModelTrainer()"
   ]
  },
  {
   "cell_type": "code",
   "execution_count": 26,
   "id": "f25655e6",
   "metadata": {},
   "outputs": [
    {
     "name": "stderr",
     "output_type": "stream",
     "text": [
      "C:\\Users\\Lenovo\\AppData\\Roaming\\Python\\Python310\\site-packages\\sklearn\\linear_model\\_logistic.py:444: ConvergenceWarning: lbfgs failed to converge (status=1):\n",
      "STOP: TOTAL NO. of ITERATIONS REACHED LIMIT.\n",
      "\n",
      "Increase the number of iterations (max_iter) or scale the data as shown in:\n",
      "    https://scikit-learn.org/stable/modules/preprocessing.html\n",
      "Please also refer to the documentation for alternative solver options:\n",
      "    https://scikit-learn.org/stable/modules/linear_model.html#logistic-regression\n",
      "  n_iter_i = _check_optimize_result(\n"
     ]
    },
    {
     "name": "stdout",
     "output_type": "stream",
     "text": [
      "0.9195323805342829\n"
     ]
    }
   ],
   "source": [
    "# Initiation du fit et trainig \n",
    "models = {\n",
    "                \"LogRegression\" : LogisticRegression(),\n",
    "                \"Naive Bayes\" : GaussianNB(),\n",
    "                \"Nearest Neighbors\" : KNeighborsClassifier(3),\n",
    "#                 \"model_4\" : model_4(),\n",
    "#                 \"model_5\" : model_5(),\n",
    "#                 \"model_6\" : model_6()\n",
    "            }\n",
    "print(modeltrainer.initiate_model_trainer(train_array=train_arr, test_array=test_arr, models=models))"
   ]
  },
  {
   "cell_type": "code",
   "execution_count": null,
   "id": "3a5e3cee",
   "metadata": {},
   "outputs": [],
   "source": []
  }
 ],
 "metadata": {
  "kernelspec": {
   "display_name": "Python 3 (ipykernel)",
   "language": "python",
   "name": "python3"
  },
  "language_info": {
   "codemirror_mode": {
    "name": "ipython",
    "version": 3
   },
   "file_extension": ".py",
   "mimetype": "text/x-python",
   "name": "python",
   "nbconvert_exporter": "python",
   "pygments_lexer": "ipython3",
   "version": "3.10.9"
  },
  "toc": {
   "base_numbering": 1,
   "nav_menu": {},
   "number_sections": true,
   "sideBar": true,
   "skip_h1_title": false,
   "title_cell": "Table of Contents",
   "title_sidebar": "Contents",
   "toc_cell": false,
   "toc_position": {},
   "toc_section_display": true,
   "toc_window_display": true
  }
 },
 "nbformat": 4,
 "nbformat_minor": 5
}
